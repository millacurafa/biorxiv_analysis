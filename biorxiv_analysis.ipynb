{
 "cells": [
  {
   "cell_type": "markdown",
   "id": "parliamentary-verse",
   "metadata": {},
   "source": [
    "# Natural Language Processing of the bioRxiv\n",
    "## on Synthetic Biology\n",
    "\n",
    "**Author:** 'Felipe Millacura'\n",
    "    \n",
    "**Date:** '30th March 2021'\n",
    "\n",
    "## General aims\n",
    "\n",
    "* Extract web content (*Web Scraping*) from the open preprint server [bioRxiv](https://www.biorxiv.org/)\n",
    "* Generate title, abstract analysis using `nltk`\n",
    "* Generation of WordClouds for visual representation\n"
   ]
  },
  {
   "cell_type": "markdown",
   "id": "stock-judge",
   "metadata": {},
   "source": [
    "## Web Scrapping\n",
    "\n",
    "While *web scraping* can be done manually by a software user, the term typically refers to automated processes implemented using a bot or web crawler. It is a form of copying in which specific data is gathered and copied from the web, typically into a central local database or spreadsheet, for later retrieval or analysis. \n",
    "\n",
    "Scraping a webpage involves both a `fetching` and `extracting` step. **Fetching** is the downloading of a website (which a browser does when a user views a page). Once fetched, then the **extraction** can take place. The content of a page may be parsed, searched, reformatted, its data copied into a spreadsheet, and so on.\n",
    "\n",
    "The scraping software simulates to be a human being by extracting data is visible on the webpage. The automation of this process allows us to extract large volumes of data quickly and accurately. "
   ]
  },
  {
   "cell_type": "markdown",
   "id": "aggregate-basis",
   "metadata": {},
   "source": [
    "## Python libraries\n",
    "\n",
    "There are many Python libraries to perform web scrapping (*Source: [Python Web Scrapping - Kite, 2020](https://www.youtube.com/watch?v=zucvHSQsKHA)*)\n",
    "\n",
    " <img src=\"./images/scraping.png\" alt=\"Drawing\" style=\"width: 600px;\"/> \n",
    "\n",
    "Here we will use **[BeautifulSoup](https://www.crummy.com/software/BeautifulSoup/)**"
   ]
  },
  {
   "cell_type": "markdown",
   "id": "according-beginning",
   "metadata": {},
   "source": [
    "We will start by downloading two needed libraries: `requests` that will allow us load URLs and `bs4` that includes `BeautifulSoup`"
   ]
  },
  {
   "cell_type": "code",
   "execution_count": null,
   "id": "upper-sound",
   "metadata": {},
   "outputs": [],
   "source": [
    "!pip install requests \n",
    "!pip install bs4"
   ]
  },
  {
   "cell_type": "code",
   "execution_count": 3,
   "id": "anonymous-associate",
   "metadata": {},
   "outputs": [],
   "source": [
    "import requests \n",
    "from bs4 import BeautifulSoup"
   ]
  },
  {
   "cell_type": "markdown",
   "id": "prerequisite-sympathy",
   "metadata": {},
   "source": [
    "The first thing we must do is to **load the html code** from the URL of the page of interest. Here we will retrieve the **latest publications** from [bioRxiv](https://www.biorxiv.org/) "
   ]
  },
  {
   "cell_type": "markdown",
   "id": "sophisticated-award",
   "metadata": {},
   "source": [
    "Note that the query for the search engine is explicited in the URL allowing us to modify it directly but here we will look directly into the **Synthetic Biology** collection\n",
    "\n",
    "```https://www.biorxiv.org/collection/synthetic-biology```\n",
    "\n",
    "In this case, we can create a ``list`` to receive the keywords to search for"
   ]
  },
  {
   "cell_type": "code",
   "execution_count": 4,
   "id": "ambient-hamilton",
   "metadata": {},
   "outputs": [
    {
     "name": "stdout",
     "output_type": "stream",
     "text": [
      "https://www.biorxiv.org/collection/synthetic-biology\n"
     ]
    }
   ],
   "source": [
    "url  = 'https://www.biorxiv.org/collection/synthetic-biology'\n",
    "print(url)"
   ]
  },
  {
   "cell_type": "markdown",
   "id": "proprietary-edwards",
   "metadata": {},
   "source": [
    "Once we have our link, we can request the `HTML` code of the page by using [`requests.get()`](https://requests.readthedocs.io/en/master/user/quickstart/)"
   ]
  },
  {
   "cell_type": "code",
   "execution_count": 5,
   "id": "conservative-james",
   "metadata": {},
   "outputs": [
    {
     "name": "stdout",
     "output_type": "stream",
     "text": [
      "Wall time: 1.21 s\n"
     ]
    }
   ],
   "source": [
    "%%time\n",
    "html_page = requests.get(url) "
   ]
  },
  {
   "cell_type": "code",
   "execution_count": 6,
   "id": "postal-level",
   "metadata": {},
   "outputs": [
    {
     "data": {
      "text/plain": [
       "'<!DOCTYPE html>\\n<html lang=\"en\" dir=\"ltr\" \\n  xmlns=\"http://www.w3.org/1999/xhtml\"\\n  xmlns:mml=\"http://www.w3.org/1998/Math/MathML\">\\n  <head prefix=\"og: http://ogp.me/ns# article: http://ogp.me/ns/article# book: http://ogp.me/ns/book#\" >\\n    <!--[if IE]><![endif]-->\\n<meta http-equiv=\"Content-Type\" content=\"text/html; charset=utf-8\" />\\n<link rel=\"dns-prefetch\" href=\"//stats.g.doubleclick.net\" />\\n<link rel=\"dns-prefetch\" href=\"//d33xdlntwy0kbs.cloudfront.net\" />\\n<link rel=\"dns-prefetch\" href=\"//www.google-analytics.com\" />\\n<meta name=\"viewport\" content=\"width=device-width, initial-scale=1, maximum-scale=3, minimum-scale=1, user-scalable=yes\" />\\n<link rel=\"shortcut icon\" href=\"https://www.biorxiv.org/sites/default/files/images/favicon.ico\" type=\"image/vnd.microsoft.icon\" />\\n<meta name=\"description\" content=\"bioRxiv - the preprint server for biology, operated by Cold Spring Harbor Laboratory, a research and educational institution\" />\\n<meta name=\"generator\" content=\"Drupal 7 (http://drupal.org)\" />\\n<link rel=\"canonical\" href=\"https://www.biorxiv.org/collection/synthetic-biology\" />\\n<link rel=\"shortlink\" href=\"https://www.biorxiv.org/taxonomy/term/290\" />\\n    <title>Synthetic Biology | bioRxiv</title>  \\n    <link type=\"text/css\" rel=\"stylesheet\" href=\"https://www.biorxiv.org/sites/default/files/advagg_css/css__uCfy1Ca7RfjN8PUMMjq5flH0M3yHNWmi8z_fcTQ1cX4__15XwoFoUBYIfOULXehkgswSxn_oQ8SrbzYx1xDR_Tgo__ml44raQIVBc4OdWQ4vqHF4rdwDMWhWvUX9q43euS4_o.css\" media=\"all\" />\\n<link type=\"text/css\" rel=\"stylesheet\" href=\"https://www.biorxiv.org/sites/all/modules/highwire/highwire/highwire.style.highwire.css?qqpxw1\" media=\"all\" />\\n<link type=\"text/css\" rel=\"stylesheet\" href=\"https://www.biorxiv.org/sites/default/files/advagg_css/css__eapVG1JURr3reKZO6Z5E4Kw1gfUaRkTV9aRUtXsTkTI__0rQvMU4tjnEa4DlLp7hE6c2yQBMCc2Tw86puyOlRu7k__ml44raQIVBc4OdWQ4vqHF4rdwDMWhWvUX9q43euS4_o.css\" media=\"all\" />\\n<link type=\"text/css\" rel=\"stylesheet\" href=\"//cdn.jsdelivr.net/qtip2/2.2.1/jquery.qtip.min.css\" media=\"all\" />\\n<link type=\"text/css\" rel=\"stylesheet\" href=\"https://www.biorxiv.org/sites/default/files/advagg_css/css__lnNV46BHx4qVHobliRoEQzS8AfhZNKa6bRG_dv2gOYU__UfFEvIW_pq0iNYHMgdY_O1xBN_FnQNVZ36SdkjRDu2w__ml44raQIVBc4OdWQ4vqHF4rdwDMWhWvUX9q43euS4_o.css\" media=\"all\" />\\n<style type=\"text/css\" media=\"all\">\\n/* <![CDATA[ */\\n#sliding-popup.sliding-popup-bottom,#sliding-popup.sliding-popup-bottom .eu-cookie-withdraw-banner,.eu-cookie-withdraw-tab{background:gray}#sliding-popup.sliding-popup-bottom.eu-cookie-withdraw-wrapper{background:transparent}#sliding-popup .popup-content #popup-text h1,#sliding-popup .popup-content #popup-text h2,#sliding-popup .popup-content #popup-text h3,#sliding-popup .popup-content #popup-text p,.eu-cookie-compliance-secondary-button,.eu-cookie-withdraw-tab{color:#fff !important}.eu-cookie-withdraw-tab{border-color:#fff}.eu-cookie-compliance-more-button{color:#fff !important}\\n/* ]]> */\\n</style>\\n\\n<!--[if lte IE 7]>\\n<link type=\"text/css\" rel=\"stylesheet\" href=\"https://www.biorxiv.org/sites/default/files/advagg_css/css__ElJr3PIJEvw3qLXc1cnYiLj2G4KgDPSXFOfm6Phf8hw__JdWGm15cDWjsK6KrFlQVXQix9YgNeYysf22XZHj-Y-c__ml44raQIVBc4OdWQ4vqHF4rdwDMWhWvUX9q43euS4_o.css\" media=\"all\" />\\n<![endif]-->\\n<link type=\"text/css\" rel=\"stylesheet\" href=\"https://www.biorxiv.org/sites/default/files/advagg_css/css__B6tGdsQSt1vT8d8j-19-oS4FKJe83RrSNBkjPs9jfos___5bLU4HnI7Du79HifyGDWMGONknAmosAqHpOsM0jsAU__ml44raQIVBc4OdWQ4vqHF4rdwDMWhWvUX9q43euS4_o.css\" media=\"all\" />\\n<link type=\"text/css\" rel=\"stylesheet\" href=\"https://www.biorxiv.org/sites/default/files/advagg_css/css__DlNeCIaiksSh0BcR1n4zYl9QN_Pn-DjEIvXfH0D3XLg__F3sVKlGyHKCaAPI_WdiHD7l_-05B6b9bLdUwzi1me90__ml44raQIVBc4OdWQ4vqHF4rdwDMWhWvUX9q43euS4_o.css\" media=\"all\" />\\n\\n<!--[if (lt IE 9)&(!IEMobile)]>\\n<link type=\"text/css\" rel=\"stylesheet\" href=\"https://www.biorxiv.org/sites/default/files/advagg_css/css__XH6bpcI0f2dImc-p674DLCZtWBGb-QwxJK1YexVGtno__vUceGprdo5nIhV6DH93X7fI3r8RcTJbChbas9TQXeW4__ml44raQIVBc4OdWQ4vqHF4rdwDMWhWvUX9q43euS4_o.css\" media=\"all\" />\\n<![endif]-->\\n\\n<!--[if gte IE 9]><!-->\\n<link type=\"text/css\" rel=\"stylesheet\" href=\"https://www.biorxiv.org/sites/default/files/advagg_css/css__2WBMox6sOrN42ss5lCnH7WWVRdFdJCxtTKnQJYRwTE4__yqNvNYLvMpjy3ffuJrjjm9uW2i-Me1c23KLYuWHaqio__ml44raQIVBc4OdWQ4vqHF4rdwDMWhWvUX9q43euS4_o.css\" media=\"all\" />\\n<!--<![endif]-->\\n<link type=\"text/css\" rel=\"stylesheet\" href=\"https://www.biorxiv.org/sites/default/files/advagg_css/css__W_ud4dux-w6IS3CsD1wzfrSkziQ2B_mO3ifHfW2L7X4__f_9pwrTE8mmshoJRfurwkQ36QonD_Jiwbop2sscnkrE__ml44raQIVBc4OdWQ4vqHF4rdwDMWhWvUX9q43euS4_o.css\" media=\"all\" />\\n<link type=\"text/css\" rel=\"stylesheet\" href=\"https://d33xdlntwy0kbs.cloudfront.net/cshl_custom.css\" media=\"all\" />\\n    <script type=\"text/javascript\">\\n<!--//--><![CDATA[//><!--\\n/*!\\n * yepnope1.5.4\\n * (c) WTFPL, GPLv2\\n */\\n(function(a,b,c){function d(a){return\"[object Function]\"==o.call(a)}function e(a){return\"string\"==typeof a}function f(){}function g(a){return!a||\"loaded\"==a||\"complete\"==a||\"uninitialized\"==a}function h(){var a=p.shift();q=1,a?a.t?m(function(){(\"c\"==a.t?B.injectCss:B.injectJs)(a.s,0,a.a,a.x,a.e,1)},0):(a(),h()):q=0}function i(a,c,d,e,f,i,j){function k(b){if(!o&&g(l.readyState)&&(u.r=o=1,!q&&h(),l.onload=l.onreadystatechange=null,b)){\"img\"!=a&&m(function(){t.removeChild(l)},50);for(var d in y[c])y[c].hasOwnProperty(d)&&y[c][d].onload()}}var j=j||B.errorTimeout,l=b.createElement(a),o=0,r=0,u={t:d,s:c,e:f,a:i,x:j};1===y[c]&&(r=1,y[c]=[]),\"object\"==a?l.data=c:(l.src=c,l.type=a),l.width=l.height=\"0\",l.onerror=l.onload=l.onreadystatechange=function(){k.call(this,r)},p.splice(e,0,u),\"img\"!=a&&(r||2===y[c]?(t.insertBefore(l,s?null:n),m(k,j)):y[c].push(l))}function j(a,b,c,d,f){return q=0,b=b||\"j\",e(a)?i(\"c\"==b?v:u,a,b,this.i++,c,d,f):(p.splice(this.i++,0,a),1==p.length&&h()),this}function k(){var a=B;return a.loader={load:j,i:0},a}var l=b.documentElement,m=a.setTimeout,n=b.getElementsByTagName(\"script\")[0],o={}.toString,p=[],q=0,r=\"MozAppearance\"in l.style,s=r&&!!b.createRange().compareNode,t=s?l:n.parentNode,l=a.opera&&\"[object Opera]\"==o.call(a.opera),l=!!b.attachEvent&&!l,u=r?\"object\":l?\"script\":\"img\",v=l?\"script\":u,w=Array.isArray||function(a){return\"[object Array]\"==o.call(a)},x=[],y={},z={timeout:function(a,b){return b.length&&(a.timeout=b[0]),a}},A,B;B=function(a){function b(a){var a=a.split(\"!\"),b=x.length,c=a.pop(),d=a.length,c={url:c,origUrl:c,prefixes:a},e,f,g;for(f=0;f<d;f++)g=a[f].split(\"=\"),(e=z[g.shift()])&&(c=e(c,g));for(f=0;f<b;f++)c=x[f](c);return c}function g(a,e,f,g,h){var i=b(a),j=i.autoCallback;i.url.split(\".\").pop().split(\"?\").shift(),i.bypass||(e&&(e=d(e)?e:e[a]||e[g]||e[a.split(\"/\").pop().split(\"?\")[0]]),i.instead?i.instead(a,e,f,g,h):(y[i.url]?i.noexec=!0:y[i.url]=1,f.load(i.url,i.forceCSS||!i.forceJS&&\"css\"==i.url.split(\".\").pop().split(\"?\").shift()?\"c\":c,i.noexec,i.attrs,i.timeout),(d(e)||d(j))&&f.load(function(){k(),e&&e(i.origUrl,h,g),j&&j(i.origUrl,h,g),y[i.url]=2})))}function h(a,b){function c(a,c){if(a){if(e(a))c||(j=function(){var a=[].slice.call(arguments);k.apply(this,a),l()}),g(a,j,b,0,h);else if(Object(a)===a)for(n in m=function(){var b=0,c;for(c in a)a.hasOwnProperty(c)&&b++;return b}(),a)a.hasOwnProperty(n)&&(!c&&!--m&&(d(j)?j=function(){var a=[].slice.call(arguments);k.apply(this,a),l()}:j[n]=function(a){return function(){var b=[].slice.call(arguments);a&&a.apply(this,b),l()}}(k[n])),g(a[n],j,b,n,h))}else!c&&l()}var h=!!a.test,i=a.load||a.both,j=a.callback||f,k=j,l=a.complete||f,m,n;c(h?a.yep:a.nope,!!i),i&&c(i)}var i,j,l=this.yepnope.loader;if(e(a))g(a,0,l,0);else if(w(a))for(i=0;i<a.length;i++)j=a[i],e(j)?g(j,0,l,0):w(j)?B(j):Object(j)===j&&h(j,l);else Object(a)===a&&h(a,l)},B.addPrefix=function(a,b){z[a]=b},B.addFilter=function(a){x.push(a)},B.errorTimeout=1e4,null==b.readyState&&b.addEventListener&&(b.readyState=\"loading\",b.addEventListener(\"DOMContentLoaded\",A=function(){b.removeEventListener(\"DOMContentLoaded\",A,0),b.readyState=\"complete\"},0)),a.yepnope=k(),a.yepnope.executeStack=h,a.yepnope.injectJs=function(a,c,d,e,i,j){var k=b.createElement(\"script\"),l,o,e=e||B.errorTimeout;k.src=a;for(o in d)k.setAttribute(o,d[o]);c=j?h:c||f,k.onreadystatechange=k.onload=function(){!l&&g(k.readyState)&&(l=1,c(),k.onload=k.onreadystatechange=null)},m(function(){l||(l=1,c(1))},e),i?k.onload():n.parentNode.insertBefore(k,n)},a.yepnope.injectCss=function(a,c,d,e,g,i){var e=b.createElement(\"link\"),j,c=i?h:c||f;e.href=a,e.rel=\"stylesheet\",e.type=\"text/css\";for(j in d)e.setAttribute(j,d[j]);g||(n.parentNode.insertBefore(e,n),m(c,0))}})(this,document);\\n\\n//--><!]]>\\n</script>\\n<script type=\"text/javascript\" src=\"https://www.biorxiv.org/sites/all/libraries/modernizr/modernizr.min.js?qqpxw1\"></script>\\n<script type=\"text/javascript\">\\n<!--//--><![CDATA[//><!--\\n;yepnope({test:Modernizr.matchmedia,nope:\\'/sites/all/libraries/media-match/media.match.min.js\\'});\\n//--><!]]>\\n</script>\\n<script type=\"text/javascript\" src=\"https://www.biorxiv.org/sites/default/files/advagg_js/js__yOhrJUBmMpN-jsuQlJYmS8ovkQU6I6KInr295HrSTb0__kNZOwQe90NfE8C-hWOgsFXPKntAJ9VAwAGq-qlrYUcQ__ml44raQIVBc4OdWQ4vqHF4rdwDMWhWvUX9q43euS4_o.js\"></script>\\n<script type=\"text/javascript\">\\n<!--//--><![CDATA[//><!--\\n;var _prum=[[\\'id\\',\\'52e95df3abe53d2e33000000\\'],[\\'mark\\',\\'firstbyte\\',(new Date()).getTime()]];(function(){var t=document.getElementsByTagName(\\'script\\')[0],e=document.createElement(\\'script\\');e.async=\\'async\\';e.src=\\'//rum-static.pingdom.net/prum.min.js\\';t.parentNode.insertBefore(e,t)})();\\n//--><!]]>\\n</script>\\n<script type=\"text/javascript\" src=\"https://www.biorxiv.org/sites/default/files/advagg_js/js__6c205-dC5qtFZYJrxLj5khNkrRQFZ1ipcS8EVVVWvQE__t9Sz5lxoTEvZq9B0m6UY8NJxSyxnajAQ6C-18wT92xM__ml44raQIVBc4OdWQ4vqHF4rdwDMWhWvUX9q43euS4_o.js\"></script>\\n<script type=\"text/javascript\" src=\"//cdn.jsdelivr.net/qtip2/2.2.1/jquery.qtip.min.js\"></script>\\n<script type=\"text/javascript\" src=\"https://www.biorxiv.org/sites/default/files/advagg_js/js__PHvsYapzEDkDLTuDequ3I1gENu1FT8EBOJAKW4THauA__VP8be2Q6kHjeaWC5ek-1WzwfILrl_xDepOjaUkJnpHM__ml44raQIVBc4OdWQ4vqHF4rdwDMWhWvUX9q43euS4_o.js\"></script>\\n<script type=\"text/javascript\">\\n<!--//--><![CDATA[//><!--\\n(function(i,s,o,g,r,a,m){i[\"GoogleAnalyticsObject\"]=r;i[r]=i[r]||function(){(i[r].q=i[r].q||[]).push(arguments)},i[r].l=1*new Date();a=s.createElement(o),m=s.getElementsByTagName(o)[0];a.async=1;a.src=g;m.parentNode.insertBefore(a,m)})(window,document,\"script\",\"//www.google-analytics.com/analytics.js\",\"ga\");ga(\"create\", \"UA-45638026-1\", {\"cookieDomain\":\"auto\"});ga(\"set\", \"page\", location.pathname + location.search + location.hash);ga(\"send\", \"pageview\");ga(\\'create\\', \\'UA-189672-38\\', \\'auto\\', {\\'name\\': \\'hwTracker\\'});\\r\\nga(\\'set\\', \\'anonymizeIp\\', true);\\nga(\\'hwTracker.send\\', \\'pageview\\');\\n//--><!]]>\\n</script>\\n<script type=\"text/javascript\" src=\"https://www.biorxiv.org/sites/default/files/advagg_js/js__YXBN8GLtluvCIXWd6pjlTuieIsE_-Cey4T4Q9KSG2Lk__WdMfXZk6eZ9cuI8MToUKNM-Nsr7A8rXGTPNxafutTfk__ml44raQIVBc4OdWQ4vqHF4rdwDMWhWvUX9q43euS4_o.js\"></script>\\n<script type=\"text/javascript\">\\n<!--//--><![CDATA[//><!--\\n;jQuery.extend(Drupal.settings,{\"basePath\":\"\\\\/\",\"pathPrefix\":\"\",\"ajaxPageState\":{\"theme\":\"jcore_1\",\"theme_token\":\"EhZMEPATEnHJxM6RI8y1V10JZmUj_fB8VH1D2Ikl8IA\",\"jquery_version\":\"1.8\",\"css\":{\"modules\\\\/system\\\\/system.base.css\":1,\"modules\\\\/system\\\\/system.menus.css\":1,\"modules\\\\/system\\\\/system.messages.css\":1,\"modules\\\\/system\\\\/system.theme.css\":1,\"modules\\\\/comment\\\\/comment.css\":1,\"sites\\\\/all\\\\/modules\\\\/contrib\\\\/date\\\\/date_api\\\\/date.css\":1,\"sites\\\\/all\\\\/modules\\\\/contrib\\\\/date\\\\/date_popup\\\\/themes\\\\/datepicker.1.7.css\":1,\"modules\\\\/field\\\\/theme\\\\/field.css\":1,\"sites\\\\/all\\\\/modules\\\\/highwire\\\\/highwire\\\\/highwire_draw\\\\/css\\\\/highwire-draw.css\":1,\"sites\\\\/all\\\\/modules\\\\/highwire\\\\/highwire\\\\/highwire_folders\\\\/highwire_folders.css\":1,\"sites\\\\/all\\\\/modules\\\\/highwire\\\\/highwire\\\\/highwire_responsive\\\\/css\\\\/highwire-responsive.css\":1,\"sites\\\\/all\\\\/modules\\\\/highwire\\\\/highwire\\\\/highwire_saved_searches\\\\/highwire_saved_searches.css\":1,\"sites\\\\/all\\\\/modules\\\\/highwire\\\\/highwire\\\\/highwire_user\\\\/highwire_user.css\":1,\"modules\\\\/node\\\\/node.css\":1,\"modules\\\\/search\\\\/search.css\":1,\"modules\\\\/user\\\\/user.css\":1,\"modules\\\\/forum\\\\/forum.css\":1,\"sites\\\\/all\\\\/modules\\\\/contrib\\\\/views\\\\/css\\\\/views.css\":1,\"sites\\\\/all\\\\/modules\\\\/contrib\\\\/ckeditor\\\\/css\\\\/ckeditor.css\":1,\"sites\\\\/all\\\\/modules\\\\/contrib\\\\/colorbox\\\\/styles\\\\/default\\\\/colorbox_style.css\":1,\"sites\\\\/all\\\\/modules\\\\/contrib\\\\/ctools\\\\/css\\\\/ctools.css\":1,\"sites\\\\/all\\\\/modules\\\\/highwire\\\\/highwire\\\\/highwire.style.highwire.css\":1,\"sites\\\\/all\\\\/modules\\\\/highwire\\\\/highwire\\\\/css\\\\/nlm-elements.css\":1,\"sites\\\\/all\\\\/modules\\\\/contrib\\\\/panels\\\\/css\\\\/panels.css\":1,\"sites\\\\/default\\\\/modules\\\\/biorxiv\\\\/css\\\\/biorxiv.css\":1,\"\\\\/\\\\/cdn.jsdelivr.net\\\\/qtip2\\\\/2.2.1\\\\/jquery.qtip.min.css\":1,\"sites\\\\/all\\\\/modules\\\\/highwire\\\\/highwire\\\\/plugins\\\\/content_types\\\\/css\\\\/highwire_reports_feed.css\":1,\"sites\\\\/all\\\\/modules\\\\/highwire\\\\/highwire\\\\/css\\\\/highwire-article-citation-list.css\":1,\"sites\\\\/all\\\\/modules\\\\/highwire\\\\/highwire\\\\/highwire_save_citation\\\\/css\\\\/highwire_save_citation.css\":1,\"sites\\\\/all\\\\/modules\\\\/contrib\\\\/panels\\\\/plugins\\\\/layouts\\\\/flexible\\\\/flexible.css\":1,\"sites\\\\/all\\\\/modules\\\\/highwire\\\\/highwire\\\\/highwire_collection\\\\/css\\\\/highwire_subject_collection.css\":1,\"sites\\\\/all\\\\/modules\\\\/highwire\\\\/highwire\\\\/css\\\\/highwire.highwire-list-expand.css\":1,\"public:\\\\/\\\\/ctools\\\\/css\\\\/bab59090150caf0c64e27afa1b36eef1.css\":1,\"sites\\\\/all\\\\/modules\\\\/contrib\\\\/panels\\\\/plugins\\\\/layouts\\\\/onecol\\\\/onecol.css\":1,\"sites\\\\/all\\\\/modules\\\\/contrib\\\\/eu_cookie_compliance\\\\/css\\\\/eu_cookie_compliance.css\":1,\"sites\\\\/all\\\\/modules\\\\/highwire\\\\/highwire\\\\/css\\\\/highwire.gtranslate.css\":1,\"sites\\\\/all\\\\/modules\\\\/highwire\\\\/highwire\\\\/highwire_theme_tools\\\\/css\\\\/font-hwicons.css\":1,\"sites\\\\/all\\\\/modules\\\\/highwire\\\\/highwire\\\\/highwire_theme_tools\\\\/css\\\\/font-hwicons-glyphs.css\":1,\"0\":1,\"sites\\\\/all\\\\/themes\\\\/highwire\\\\/jcore_1\\\\/eu_cookie_compliance.css\":1,\"sites\\\\/all\\\\/themes\\\\/highwire\\\\/jcore_1\\\\/css\\\\/font-awesome-ie7.css\":1,\"sites\\\\/all\\\\/themes\\\\/contrib\\\\/omega\\\\/alpha\\\\/css\\\\/alpha-reset.css\":1,\"sites\\\\/all\\\\/themes\\\\/contrib\\\\/omega\\\\/alpha\\\\/css\\\\/alpha-mobile.css\":1,\"sites\\\\/all\\\\/themes\\\\/contrib\\\\/omega\\\\/alpha\\\\/css\\\\/alpha-alpha.css\":1,\"sites\\\\/all\\\\/themes\\\\/contrib\\\\/omega\\\\/omega\\\\/css\\\\/formalize.css\":1,\"sites\\\\/all\\\\/themes\\\\/contrib\\\\/omega\\\\/omega\\\\/css\\\\/omega-text.css\":1,\"sites\\\\/all\\\\/themes\\\\/contrib\\\\/omega\\\\/omega\\\\/css\\\\/omega-branding.css\":1,\"sites\\\\/all\\\\/themes\\\\/contrib\\\\/omega\\\\/omega\\\\/css\\\\/omega-menu.css\":1,\"sites\\\\/all\\\\/themes\\\\/contrib\\\\/omega\\\\/omega\\\\/css\\\\/omega-forms.css\":1,\"sites\\\\/all\\\\/modules\\\\/highwire\\\\/highwire\\\\/css\\\\/highwire-forms.css\":1,\"sites\\\\/all\\\\/themes\\\\/highwire\\\\/jcore_1\\\\/css\\\\/mobile-reset.css\":1,\"sites\\\\/all\\\\/themes\\\\/highwire\\\\/jcore_1\\\\/css\\\\/font-awesome.css\":1,\"sites\\\\/all\\\\/themes\\\\/highwire\\\\/jcore_1\\\\/css\\\\/forms.css\":1,\"sites\\\\/all\\\\/themes\\\\/highwire\\\\/jcore_1\\\\/css\\\\/global.css\":1,\"sites\\\\/all\\\\/themes\\\\/highwire\\\\/jcore_1\\\\/css\\\\/jquery-ui-elements.css\":1,\"sites\\\\/all\\\\/themes\\\\/highwire\\\\/jcore_1\\\\/css\\\\/text.css\":1,\"sites\\\\/all\\\\/themes\\\\/highwire\\\\/jcore_1\\\\/css\\\\/colors.css.less\":1,\"ie::normal::sites\\\\/all\\\\/themes\\\\/highwire\\\\/jcore_1\\\\/css\\\\/jcore-1-jcore-default.css\":1,\"ie::normal::sites\\\\/all\\\\/themes\\\\/highwire\\\\/jcore_1\\\\/css\\\\/jcore-1-jcore-default-normal.css\":1,\"ie::normal::sites\\\\/all\\\\/themes\\\\/highwire\\\\/jcore_1\\\\/css\\\\/grid\\\\/jcore_default\\\\/normal\\\\/jcore-default-normal-30.css\":1,\"narrow::sites\\\\/all\\\\/themes\\\\/highwire\\\\/jcore_1\\\\/css\\\\/jcore-1-jcore-default.css\":1,\"narrow::sites\\\\/all\\\\/themes\\\\/highwire\\\\/jcore_1\\\\/css\\\\/jcore-1-jcore-default-narrow.css\":1,\"sites\\\\/all\\\\/themes\\\\/highwire\\\\/jcore_1\\\\/css\\\\/grid\\\\/jcore_default\\\\/narrow\\\\/jcore-default-narrow-30.css\":1,\"normal::sites\\\\/all\\\\/themes\\\\/highwire\\\\/jcore_1\\\\/css\\\\/jcore-1-jcore-default.css\":1,\"normal::sites\\\\/all\\\\/themes\\\\/highwire\\\\/jcore_1\\\\/css\\\\/jcore-1-jcore-default-normal.css\":1,\"sites\\\\/all\\\\/themes\\\\/highwire\\\\/jcore_1\\\\/css\\\\/grid\\\\/jcore_default\\\\/normal\\\\/jcore-default-normal-30.css\":1,\"wide::sites\\\\/all\\\\/themes\\\\/highwire\\\\/jcore_1\\\\/css\\\\/jcore-1-jcore-default.css\":1,\"wide::sites\\\\/all\\\\/themes\\\\/highwire\\\\/jcore_1\\\\/css\\\\/jcore-1-jcore-default-wide.css\":1,\"sites\\\\/all\\\\/themes\\\\/highwire\\\\/jcore_1\\\\/css\\\\/grid\\\\/jcore_default\\\\/wide\\\\/jcore-default-wide-30.css\":1,\"sites\\\\/default\\\\/modules\\\\/jnl_biorxiv_styles\\\\/css\\\\/biorxiv-styles.css.less\":1,\"https:\\\\/\\\\/d33xdlntwy0kbs.cloudfront.net\\\\/cshl_custom.css\":1},\"js\":{\"sites\\\\/all\\\\/libraries\\\\/enquire.js\\\\/enquire.min.js\":1,\"http:\\\\/\\\\/d33xdlntwy0kbs.cloudfront.net\\\\/cshl_custom.js\":1,\"sites\\\\/all\\\\/modules\\\\/contrib\\\\/eu_cookie_compliance\\\\/js\\\\/eu_cookie_compliance.js\":1,\"sites\\\\/default\\\\/modules\\\\/jnl_biorxiv_styles\\\\/js\\\\/adv-search-collection-toggle.js\":1,\"sites\\\\/all\\\\/libraries\\\\/modernizr\\\\/modernizr.min.js\":1,\"sites\\\\/all\\\\/modules\\\\/contrib\\\\/jquery_update\\\\/replace\\\\/jquery\\\\/1.8\\\\/jquery.min.js\":1,\"misc\\\\/jquery-extend-3.4.0.js\":1,\"misc\\\\/jquery.once.js\":1,\"misc\\\\/drupal.js\":1,\"sites\\\\/all\\\\/modules\\\\/contrib\\\\/eu_cookie_compliance\\\\/js\\\\/jquery.cookie-1.4.1.min.js\":1,\"misc\\\\/ajax.js\":1,\"sites\\\\/all\\\\/modules\\\\/contrib\\\\/jquery_update\\\\/js\\\\/jquery_update.js\":1,\"sites\\\\/all\\\\/modules\\\\/highwire\\\\/highwire\\\\/js\\\\/highwire.equal-heights.js\":1,\"sites\\\\/all\\\\/modules\\\\/highwire\\\\/highwire\\\\/js\\\\/highwire.panels-ajax-tab.js\":1,\"sites\\\\/default\\\\/modules\\\\/jnl_biorxiv_styles\\\\/js\\\\/biorxiv-scripts.js\":1,\"sites\\\\/all\\\\/libraries\\\\/colorbox\\\\/jquery.colorbox-min.js\":1,\"sites\\\\/all\\\\/modules\\\\/contrib\\\\/colorbox\\\\/js\\\\/colorbox.js\":1,\"sites\\\\/all\\\\/modules\\\\/contrib\\\\/colorbox\\\\/styles\\\\/default\\\\/colorbox_style.js\":1,\"sites\\\\/all\\\\/modules\\\\/highwire\\\\/highwire\\\\/highwire_log\\\\/highwire_log.js\":1,\"sites\\\\/all\\\\/modules\\\\/highwire\\\\/highwire\\\\/highwire_nps_survey\\\\/js\\\\/nps_survey.js\":1,\"sites\\\\/all\\\\/modules\\\\/highwire\\\\/highwire\\\\/highwire_user\\\\/js\\\\/highwire_user_meta.js\":1,\"sites\\\\/all\\\\/modules\\\\/contrib\\\\/panels\\\\/js\\\\/panels.js\":1,\"misc\\\\/progress.js\":1,\"\\\\/\\\\/cdn.jsdelivr.net\\\\/qtip2\\\\/2.2.1\\\\/jquery.qtip.min.js\":1,\"sites\\\\/all\\\\/modules\\\\/highwire\\\\/highwire\\\\/js\\\\/highwire.article-citation-tooltip.js\":1,\"sites\\\\/all\\\\/modules\\\\/highwire\\\\/highwire\\\\/js\\\\/highwire.highwire-list-expand.js\":1,\"sites\\\\/all\\\\/modules\\\\/contrib\\\\/google_analytics\\\\/googleanalytics.js\":1,\"sites\\\\/all\\\\/modules\\\\/highwire\\\\/highwire\\\\/js\\\\/highwire.gtranslate.js\":1,\"sites\\\\/all\\\\/modules\\\\/highwire\\\\/highwire\\\\/highwire_save_citation\\\\/js\\\\/highwire_save_citation.js\":1,\"sites\\\\/all\\\\/themes\\\\/highwire\\\\/jcore_1\\\\/js\\\\/theme-scripts.js\":1,\"sites\\\\/all\\\\/themes\\\\/contrib\\\\/omega\\\\/omega\\\\/js\\\\/jquery.formalize.js\":1,\"sites\\\\/all\\\\/themes\\\\/contrib\\\\/omega\\\\/omega\\\\/js\\\\/omega-mediaqueries.js\":1,\"sites\\\\/all\\\\/themes\\\\/contrib\\\\/omega\\\\/omega\\\\/js\\\\/omega-equalheights.js\":1,\"sites\\\\/all\\\\/modules\\\\/highwire\\\\/highwire\\\\/highwire_responsive\\\\/js\\\\/highwire-mediaqueries.js\":1}},\"colorbox\":{\"opacity\":\"0.85\",\"current\":\"{current} of {total}\",\"previous\":\"\\\\u00ab Prev\",\"next\":\"Next \\\\u00bb\",\"close\":\"Close\",\"maxWidth\":\"98%\",\"maxHeight\":\"98%\",\"fixed\":true,\"mobiledetect\":true,\"mobiledevicewidth\":\"480px\"},\"jcarousel\":{\"ajaxPath\":\"\\\\/jcarousel\\\\/ajax\\\\/views\"},\"instances\":\"{\\\\u0022highwire_abstract_tooltip\\\\u0022:{\\\\u0022content\\\\u0022:{\\\\u0022text\\\\u0022:\\\\u0022\\\\u0022},\\\\u0022style\\\\u0022:{\\\\u0022tip\\\\u0022:{\\\\u0022width\\\\u0022:20,\\\\u0022height\\\\u0022:20,\\\\u0022border\\\\u0022:1,\\\\u0022offset\\\\u0022:0,\\\\u0022corner\\\\u0022:true},\\\\u0022classes\\\\u0022:\\\\u0022qtip-custom hw-tooltip hw-abstract-tooltip qtip-shadow qtip-rounded\\\\u0022,\\\\u0022classes_custom\\\\u0022:\\\\u0022hw-tooltip hw-abstract-tooltip\\\\u0022},\\\\u0022position\\\\u0022:{\\\\u0022at\\\\u0022:\\\\u0022right center\\\\u0022,\\\\u0022my\\\\u0022:\\\\u0022left center\\\\u0022,\\\\u0022viewport\\\\u0022:true,\\\\u0022adjust\\\\u0022:{\\\\u0022method\\\\u0022:\\\\u0022shift\\\\u0022}},\\\\u0022show\\\\u0022:{\\\\u0022event\\\\u0022:\\\\u0022mouseenter click \\\\u0022,\\\\u0022solo\\\\u0022:true},\\\\u0022hide\\\\u0022:{\\\\u0022event\\\\u0022:\\\\u0022mouseleave \\\\u0022,\\\\u0022fixed\\\\u0022:1,\\\\u0022delay\\\\u0022:\\\\u0022100\\\\u0022}},\\\\u0022highwire_author_tooltip\\\\u0022:{\\\\u0022content\\\\u0022:{\\\\u0022text\\\\u0022:\\\\u0022\\\\u0022},\\\\u0022style\\\\u0022:{\\\\u0022tip\\\\u0022:{\\\\u0022width\\\\u0022:15,\\\\u0022height\\\\u0022:15,\\\\u0022border\\\\u0022:1,\\\\u0022offset\\\\u0022:0,\\\\u0022corner\\\\u0022:true},\\\\u0022classes\\\\u0022:\\\\u0022qtip-custom hw-tooltip hw-author-tooltip qtip-shadow qtip-rounded\\\\u0022,\\\\u0022classes_custom\\\\u0022:\\\\u0022hw-tooltip hw-author-tooltip\\\\u0022},\\\\u0022position\\\\u0022:{\\\\u0022at\\\\u0022:\\\\u0022top center\\\\u0022,\\\\u0022my\\\\u0022:\\\\u0022bottom center\\\\u0022,\\\\u0022viewport\\\\u0022:true,\\\\u0022adjust\\\\u0022:{\\\\u0022method\\\\u0022:\\\\u0022\\\\u0022}},\\\\u0022show\\\\u0022:{\\\\u0022event\\\\u0022:\\\\u0022mouseenter \\\\u0022,\\\\u0022solo\\\\u0022:true},\\\\u0022hide\\\\u0022:{\\\\u0022event\\\\u0022:\\\\u0022mouseleave \\\\u0022,\\\\u0022fixed\\\\u0022:1,\\\\u0022delay\\\\u0022:\\\\u0022100\\\\u0022}},\\\\u0022highwire_reflinks_tooltip\\\\u0022:{\\\\u0022content\\\\u0022:{\\\\u0022text\\\\u0022:\\\\u0022\\\\u0022},\\\\u0022style\\\\u0022:{\\\\u0022tip\\\\u0022:{\\\\u0022width\\\\u0022:15,\\\\u0022height\\\\u0022:15,\\\\u0022border\\\\u0022:1,\\\\u0022mimic\\\\u0022:\\\\u0022top center\\\\u0022,\\\\u0022offset\\\\u0022:0,\\\\u0022corner\\\\u0022:true},\\\\u0022classes\\\\u0022:\\\\u0022qtip-custom hw-tooltip hw-ref-link-tooltip qtip-shadow qtip-rounded\\\\u0022,\\\\u0022classes_custom\\\\u0022:\\\\u0022hw-tooltip hw-ref-link-tooltip\\\\u0022},\\\\u0022position\\\\u0022:{\\\\u0022at\\\\u0022:\\\\u0022bottom left\\\\u0022,\\\\u0022my\\\\u0022:\\\\u0022top left\\\\u0022,\\\\u0022viewport\\\\u0022:true,\\\\u0022adjust\\\\u0022:{\\\\u0022method\\\\u0022:\\\\u0022flip\\\\u0022}},\\\\u0022show\\\\u0022:{\\\\u0022event\\\\u0022:\\\\u0022mouseenter \\\\u0022,\\\\u0022solo\\\\u0022:true},\\\\u0022hide\\\\u0022:{\\\\u0022event\\\\u0022:\\\\u0022mouseleave \\\\u0022,\\\\u0022fixed\\\\u0022:1,\\\\u0022delay\\\\u0022:\\\\u0022100\\\\u0022}}}\",\"qtipDebug\":\"{\\\\u0022leaveElement\\\\u0022:0}\",\"highwire_list_expand\":{\"is_collapsed\":\"1\"},\"urlIsAjaxTrusted\":{\"\\\\/collection\\\\/synthetic-biology\":true},\"highwireResponsive\":{\"enquire_enabled\":1,\"breakpoints_configured\":1,\"breakpoints\":{\"zero\":\"all and (min-width: 0px)\",\"xsmall\":\"all and (min-width: 380px)\",\"narrow\":\"all and (min-width: 768px) and (min-device-width: 768px), (max-device-width: 800px) and (min-width: 768px) and (orientation:landscape)\",\"normal\":\"all and (min-width: 980px) and (min-device-width: 980px), all and (max-device-width: 1024px) and (min-width: 1024px) and (orientation:landscape)\",\"wide\":\"all and (min-width: 1220px)\"}},\"eu_cookie_compliance\":{\"popup_enabled\":1,\"popup_agreed_enabled\":0,\"popup_hide_agreed\":0,\"popup_clicking_confirmation\":1,\"popup_scrolling_confirmation\":false,\"popup_html_info\":\"\\\\u003Cdiv\\\\u003E\\\\n  \\\\u003Cdiv class =\\\\u0022popup-content info\\\\u0022\\\\u003E\\\\n    \\\\u003Cdiv id=\\\\u0022popup-text\\\\u0022\\\\u003E\\\\n      \\\\u003Cp\\\\u003EWe use cookies on this site to enhance your user experience. By clicking any link on this page you are giving your consent for us to set cookies.\\\\u003C\\\\/p\\\\u003E\\\\n    \\\\u003C\\\\/div\\\\u003E\\\\n    \\\\u003Cdiv id=\\\\u0022popup-buttons\\\\u0022\\\\u003E\\\\n      \\\\u003Cbutton type=\\\\u0022button\\\\u0022 class=\\\\u0022agree-button eu-cookie-compliance-default-button\\\\u0022\\\\u003EContinue\\\\u003C\\\\/button\\\\u003E\\\\n                    \\\\u003Cbutton type=\\\\u0022button\\\\u0022 class=\\\\u0022find-more-button eu-cookie-compliance-more-button\\\\u0022\\\\u003EFind out more\\\\u003C\\\\/button\\\\u003E\\\\n          \\\\u003C\\\\/div\\\\u003E\\\\n  \\\\u003C\\\\/div\\\\u003E\\\\n\\\\u003C\\\\/div\\\\u003E\",\"use_mobile_message\":false,\"mobile_popup_html_info\":\"\\\\u003Cdiv\\\\u003E\\\\n  \\\\u003Cdiv class =\\\\u0022popup-content info\\\\u0022\\\\u003E\\\\n    \\\\u003Cdiv id=\\\\u0022popup-text\\\\u0022\\\\u003E\\\\n          \\\\u003C\\\\/div\\\\u003E\\\\n    \\\\u003Cdiv id=\\\\u0022popup-buttons\\\\u0022\\\\u003E\\\\n      \\\\u003Cbutton type=\\\\u0022button\\\\u0022 class=\\\\u0022agree-button eu-cookie-compliance-default-button\\\\u0022\\\\u003EContinue\\\\u003C\\\\/button\\\\u003E\\\\n                    \\\\u003Cbutton type=\\\\u0022button\\\\u0022 class=\\\\u0022find-more-button eu-cookie-compliance-more-button\\\\u0022\\\\u003EFind out more\\\\u003C\\\\/button\\\\u003E\\\\n          \\\\u003C\\\\/div\\\\u003E\\\\n  \\\\u003C\\\\/div\\\\u003E\\\\n\\\\u003C\\\\/div\\\\u003E\\\\n\",\"mobile_breakpoint\":\"768\",\"popup_html_agreed\":\"\\\\u003Cdiv\\\\u003E\\\\n  \\\\u003Cdiv class=\\\\u0022popup-content agreed\\\\u0022\\\\u003E\\\\n    \\\\u003Cdiv id=\\\\u0022popup-text\\\\u0022\\\\u003E\\\\n      \\\\u003Ch2\\\\u003EThank you for accepting cookies\\\\u003C\\\\/h2\\\\u003E\\\\u003Cp\\\\u003EYou can now hide this message or find out more about cookies.\\\\u003C\\\\/p\\\\u003E    \\\\u003C\\\\/div\\\\u003E\\\\n    \\\\u003Cdiv id=\\\\u0022popup-buttons\\\\u0022\\\\u003E\\\\n      \\\\u003Cbutton type=\\\\u0022button\\\\u0022 class=\\\\u0022hide-popup-button eu-cookie-compliance-hide-button\\\\u0022\\\\u003EHide\\\\u003C\\\\/button\\\\u003E\\\\n              \\\\u003Cbutton type=\\\\u0022button\\\\u0022 class=\\\\u0022find-more-button eu-cookie-compliance-more-button-thank-you\\\\u0022 \\\\u003EMore info\\\\u003C\\\\/button\\\\u003E\\\\n          \\\\u003C\\\\/div\\\\u003E\\\\n  \\\\u003C\\\\/div\\\\u003E\\\\n\\\\u003C\\\\/div\\\\u003E\",\"popup_use_bare_css\":false,\"popup_height\":\"auto\",\"popup_width\":\"100%\",\"popup_delay\":1000,\"popup_link\":\"\\\\/help\\\\/cookie-policy\",\"popup_link_new_window\":1,\"popup_position\":null,\"popup_language\":\"en\",\"store_consent\":false,\"better_support_for_screen_readers\":0,\"reload_page\":0,\"domain\":\"\",\"popup_eu_only_js\":0,\"cookie_lifetime\":\"365\",\"cookie_session\":false,\"disagree_do_not_show_popup\":0,\"method\":\"default\",\"whitelisted_cookies\":\"\",\"withdraw_markup\":\"\\\\u003Cbutton type=\\\\u0022button\\\\u0022 class=\\\\u0022eu-cookie-withdraw-tab\\\\u0022\\\\u003EPrivacy settings\\\\u003C\\\\/button\\\\u003E\\\\n\\\\u003Cdiv class=\\\\u0022eu-cookie-withdraw-banner\\\\u0022\\\\u003E\\\\n  \\\\u003Cdiv class=\\\\u0022popup-content info\\\\u0022\\\\u003E\\\\n    \\\\u003Cdiv id=\\\\u0022popup-text\\\\u0022\\\\u003E\\\\n      \\\\u003Cp\\\\u003E\\\\u0026lt;h2\\\\u0026gt;We use cookies on this site to enhance your user experience\\\\u0026lt;\\\\/h2\\\\u0026gt;\\\\u0026lt;p\\\\u0026gt;You have given your consent for us to set cookies.\\\\u0026lt;\\\\/p\\\\u0026gt;\\\\u003C\\\\/p\\\\u003E\\\\n    \\\\u003C\\\\/div\\\\u003E\\\\n    \\\\u003Cdiv id=\\\\u0022popup-buttons\\\\u0022\\\\u003E\\\\n      \\\\u003Cbutton type=\\\\u0022button\\\\u0022 class=\\\\u0022eu-cookie-withdraw-button\\\\u0022\\\\u003EWithdraw consent\\\\u003C\\\\/button\\\\u003E\\\\n    \\\\u003C\\\\/div\\\\u003E\\\\n  \\\\u003C\\\\/div\\\\u003E\\\\n\\\\u003C\\\\/div\\\\u003E\\\\n\",\"withdraw_enabled\":false},\"googleanalytics\":{\"trackOutbound\":1,\"trackMailto\":1,\"trackDownload\":1,\"trackDownloadExtensions\":\"7z|aac|arc|arj|asf|asx|avi|bin|csv|doc(x|m)?|dot(x|m)?|exe|flv|gif|gz|gzip|hqx|jar|jpe?g|js|mp(2|3|4|e?g)|mov(ie)?|msi|msp|pdf|phps|png|ppt(x|m)?|pot(x|m)?|pps(x|m)?|ppam|sld(x|m)?|thmx|qtm?|ra(m|r)?|sea|sit|tar|tgz|torrent|txt|wav|wma|wmv|wpd|xls(x|m|b)?|xlt(x|m)|xlam|xml|z|zip\",\"trackColorbox\":1,\"trackUrlFragments\":1},\"jnl_biorxiv_styles\":{\"defaultJCode\":\"biorxiv\"},\"omega\":{\"layouts\":{\"primary\":\"normal\",\"order\":[\"narrow\",\"normal\",\"wide\"],\"queries\":{\"narrow\":\"all and (min-width: 768px) and (min-device-width: 768px), (max-device-width: 800px) and (min-width: 768px) and (orientation:landscape)\",\"normal\":\"all and (min-width: 980px) and (min-device-width: 980px), all and (max-device-width: 1024px) and (min-width: 1024px) and (orientation:landscape)\",\"wide\":\"all and (min-width: 1220px)\"}}}});\\n//--><!]]>\\n</script>\\n    <!--[if lt IE 9]><script src=\"http://html5shiv.googlecode.com/svn/trunk/html5.js\"></script><![endif]-->\\n  </head>\\n  <body class=\"html not-front not-logged-in page-taxonomy page-taxonomy-term page-taxonomy-term- page-taxonomy-term-290 context-collection hw-default-jcode-biorxiv\">\\n<!-- Google Tag Manager -->\\n<noscript><iframe src=\"//www.googletagmanager.com/ns.html?id=GTM-M677548\" height=\"0\" width=\"0\" style=\"display:none;visibility:hidden\"></iframe></noscript>\\n<script type=\"text/javascript\">(function(w,d,s,l,i){w[l]=w[l]||[];w[l].push({\\'gtm.start\\':new Date().getTime(),event:\\'gtm.js\\'});var f=d.getElementsByTagName(s)[0];var j=d.createElement(s);var dl=l!=\\'dataLayer\\'?\\'&l=\\'+l:\\'\\';j.src=\\'//www.googletagmanager.com/gtm.js?id=\\'+i+dl;j.type=\\'text/javascript\\';j.async=true;f.parentNode.insertBefore(j,f);})(window,document,\\'script\\',\\'dataLayer\\',\\'GTM-M677548\\');</script>\\n<!-- End Google Tag Manager -->\\n    <div id=\"skip-link\">\\n      <a href=\"#main-content\" class=\"element-invisible element-focusable\">Skip to main content</a>\\n    </div>\\n        <div class=\"page clearfix page-box-shadows footer-borders panels-page panels-layout-jcore_2col\" id=\"page\">\\n      <header id=\"section-header\" class=\"section section-header\">\\n    \\n  <div id=\"zone-branding\" class=\"zone zone-branding clearfix print-display-block container-30\">\\n    <div class=\"grid-15 prefix-1 region region-branding print-display-block\" id=\"region-branding\">\\n  <div class=\"region-inner region-branding-inner\">\\n        <div class=\"branding-data clearfix\">\\n            <div class=\"logo-img\">\\n        <a href=\"/\" rel=\"home\" class=\"\" data-icon-position=\"\" data-hide-link-title=\"0\"><img alt=\"bioRxiv\" src=\"https://www.biorxiv.org/sites/default/files/bioRxiv_article.jpg\" /></a>      </div>\\n                </div>\\n          </div>\\n</div><div class=\"grid-11 suffix-1 region region-branding-second print-hidden\" id=\"region-branding-second\">\\n  <div class=\"region-inner region-branding-second-inner\">\\n    <div class=\"block block-system block-menu block-main-menu block-system-main-menu odd block-without-title\" id=\"block-system-main-menu\">\\n  <div class=\"block-inner clearfix\">\\n                \\n    <div class=\"content clearfix\">\\n      <nav class=\"menubar-nav\"><ul class=\"menu\" role=\"menu\"><li class=\"first leaf\" role=\"menuitem\"><a href=\"/\" title=\"\" class=\"\" data-icon-position=\"\" data-hide-link-title=\"0\">Home</a></li>\\n<li class=\"leaf\" role=\"menuitem\"><a href=\"/about-biorxiv\" class=\"\" data-icon-position=\"\" data-hide-link-title=\"0\">About</a></li>\\n<li class=\"leaf\" role=\"menuitem\"><a href=\"/submit-a-manuscript\" class=\"\" data-icon-position=\"\" data-hide-link-title=\"0\">Submit</a></li>\\n<li class=\"last leaf\" role=\"menuitem\"><a href=\"/content/alertsrss\" title=\"\" class=\"\" data-icon-position=\"\" data-hide-link-title=\"0\">ALERTS / RSS</a></li>\\n</ul></nav>    </div>\\n  </div>\\n</div><div class=\"block block-panels-mini block-biorxiv-search-box block-panels-mini-biorxiv-search-box even block-without-title\" id=\"block-panels-mini-biorxiv-search-box\">\\n  <div class=\"block-inner clearfix\">\\n                \\n    <div class=\"content clearfix\">\\n      <div class=\"panel-display panel-1col clearfix\" id=\"mini-panel-biorxiv_search_box\">\\n  <div class=\"panel-panel panel-col\">\\n    <div><div class=\"panel-pane pane-highwire-seach-quicksearch\" >\\n  \\n      \\n  \\n  <div class=\"pane-content\">\\n    <form class=\"highwire-quicksearch button-style-mini button-style-mini\" action=\"/collection/synthetic-biology\" method=\"post\" id=\"highwire-search-quicksearch-form-0\" accept-charset=\"UTF-8\"><div><div class=\"form-item form-item-label-invisible form-type-textfield form-item-keywords\">\\n  <label class=\"element-invisible\" for=\"edit-keywords\">Search for this keyword </label>\\n <input placeholder=\"Search\" type=\"text\" id=\"edit-keywords\" name=\"keywords\" value=\"\" size=\"60\" maxlength=\"128\" class=\"form-text\" />\\n</div>\\n<div class=\"button-wrapper button-mini\"><i class=\"icon-search\"></i><input data-icon-only=\"1\" data-font-icon=\"icon-search\" data-icon-position=\"after\" type=\"submit\" id=\"edit-submit\" name=\"op\" value=\"Search\" class=\"form-submit\" /></div><input type=\"hidden\" name=\"form_build_id\" value=\"form-Q48izyoc1v-2aOOVzjYQdFow_U7I3W-kKQa_SEjOebQ\" />\\n<input type=\"hidden\" name=\"form_id\" value=\"highwire_search_quicksearch_form_0\" />\\n</div></form>  </div>\\n\\n  \\n  </div>\\n<div class=\"panel-separator\"></div><div class=\"panel-pane pane-custom pane-1 advanced-search-link\" >\\n  \\n      \\n  \\n  <div class=\"pane-content\">\\n    <a href=\"/search\">Advanced Search</a>  </div>\\n\\n  \\n  </div>\\n</div>\\n  </div>\\n</div>\\n    </div>\\n  </div>\\n</div>  </div>\\n</div>  </div>\\n  \\n  <div id=\"zone-header\" class=\"zone zone-header clearfix container-30\">\\n  \\t      </div>\\n</header>    \\n      <section id=\"section-content\" class=\"section section-content\">\\n    \\n  <div id=\"zone-content\" class=\"zone zone-content clearfix container-30\">    \\n        \\n    <div class=\"grid-28 suffix-1 prefix-1 region region-content\" id=\"region-content\">\\n  <div class=\"region-inner region-content-inner\">\\n    <a id=\"main-content\"></a>\\n                        <div class=\"block block-system block-main block-system-main odd block-without-title\" id=\"block-system-main\">\\n  <div class=\"block-inner clearfix\">\\n                \\n    <div class=\"content clearfix\">\\n      <div class=\"panel-display panels-960-layout jcore-2col-layout\" >\\n\\t  <div class=\"panel-row-wrapper panel-row-first clearfix\">\\n\\t\\t\\n\\t\\t<div class=\"top-wrapper\">\\n\\t\\t\\t<div class=\"panel-panel panel-region-top\">\\n\\t\\t\\t  <div class=\"inside\"><div class=\"panel-pane pane-page-title\" >\\n  \\n      \\n  \\n  <div class=\"pane-content\">\\n    <h1 id=\"page-title\">Synthetic Biology</h1>\\n  </div>\\n\\n  \\n  </div>\\n</div>\\n\\t\\t\\t</div>\\n\\t\\t</div>\\n\\t\\n\\t</div> <!-- /.panel-row-wrapper -->\\t\\n\\t  \\n  <div class=\"panel-row-wrapper clearfix\">\\n\\t\\t\\n\\t\\t<div class=\"main-content-wrapper grid-17 suffix-1 alpha\">\\n\\t\\t\\t<div class=\"panel-panel panel-region-content\">\\n\\t\\t\\t  <div class=\"inside\"><div class=\"panel-pane pane-block pane-block-4 pane-block\" >\\n  \\n      \\n  \\n  <div class=\"pane-content\">\\n    <p><a href=\"/alerts/collection/add?destination=/alerts\">Sign Up for Subject Area Alerts</a></p>\\n  </div>\\n\\n  \\n  </div>\\n<div class=\"panel-separator\"></div><div class=\"panel-pane pane-highwire-collection-articles\" >\\n  \\n      \\n  \\n  <div class=\"pane-content\">\\n    <div class=\"highwire-list-wrapper highwire-article-citation-list\"><div class=\"highwire-list\"><ul><li class=\"first odd\"><div class=\"highwire-article-citation highwire-citation-type-highwire-article tooltip-enable\" data-node-nid=\"1869724\" id=\"node1869724\" data-pisa=\"biorxiv;2021.03.24.436753v1\" data-pisa-master=\"biorxiv;2021.03.24.436753\" data-seqnum=\"1869724\" data-apath=\"/biorxiv/early/2021/03/29/2021.03.24.436753.atom\" data-hw-abstract-tooltip-instance=\"highwire_abstract_tooltip\" title=\"A synthetic receptor platform enables rapid and portable monitoring of liver dysfunction via engineered bacteria.\" data-url=\"/highwire/article_citation_preview/1869724\"><div  class=\"highwire-cite highwire-cite-highwire-article highwire-citation-biorxiv-article-pap-list-overline clearfix\" >\\n      <span class=\"highwire-cite-title\" >\\n      <a href=\"/content/10.1101/2021.03.24.436753v1\" class=\"highwire-cite-linked-title\" data-icon-position=\"\" data-hide-link-title=\"0\"><span class=\"highwire-cite-title\">A synthetic receptor platform enables rapid and portable monitoring of liver dysfunction via engineered bacteria.</span></a>    </span>\\n  \\n      <div  class=\"highwire-cite-authors\" ><span  class=\"highwire-citation-authors\"><span class=\"highwire-citation-author first\" data-delta=\"0\"><span class=\"nlm-given-names\">Hung-Ju</span> <span class=\"nlm-surname\">Chang</span></span>, <span class=\"highwire-citation-author\" data-delta=\"1\"><span class=\"nlm-given-names\">Ana</span> <span class=\"nlm-surname\">Zuniga</span></span>, <span class=\"highwire-citation-author\" data-delta=\"2\"><span class=\"nlm-given-names\">Ismael</span> <span class=\"nlm-surname\">Conejero</span></span>, <span class=\"highwire-citation-author\" data-delta=\"3\"><span class=\"nlm-given-names\">Peter L</span> <span class=\"nlm-surname\">Voyvodic</span></span>, <span class=\"highwire-citation-author\" data-delta=\"4\"><span class=\"nlm-given-names\">Jerome</span> <span class=\"nlm-surname\">Gracy</span></span>, <span class=\"highwire-citation-author\" data-delta=\"5\"><span class=\"nlm-given-names\">Elena</span> <span class=\"nlm-surname\">Fajardo-Ruiz</span></span>, <span class=\"highwire-citation-author\" data-delta=\"6\"><span class=\"nlm-given-names\">Martin</span> <span class=\"nlm-surname\">Cohen-Gonsaud</span></span>, <span class=\"highwire-citation-author\" data-delta=\"7\"><span class=\"nlm-given-names\">Guillaume</span> <span class=\"nlm-surname\">Cambray</span></span>, <span class=\"highwire-citation-author\" data-delta=\"8\"><span class=\"nlm-given-names\">Georges-Philippe</span> <span class=\"nlm-surname\">Pageaux</span></span>, <span class=\"highwire-citation-author\" data-delta=\"9\"><span class=\"nlm-given-names\">Magdalena</span> <span class=\"nlm-surname\">Meszaros</span></span>, <span class=\"highwire-citation-author\" data-delta=\"10\"><span class=\"nlm-given-names\">Lucy</span> <span class=\"nlm-surname\">Meunier</span></span>, <span class=\"highwire-citation-author\" data-delta=\"11\"><span class=\"nlm-given-names\">Jerome</span> <span class=\"nlm-surname\">Bonnet</span></span></span></div>\\n  \\n      <div  class=\"highwire-cite-metadata\" ><span  class=\"highwire-cite-metadata-journal highwire-cite-metadata\">bioRxiv </span><span  class=\"highwire-cite-metadata-pages highwire-cite-metadata\">2021.03.24.436753; </span><span  class=\"highwire-cite-metadata-doi highwire-cite-metadata\"><span class=\"doi_label\">doi:</span> https://doi.org/10.1101/2021.03.24.436753 </span><span  class=\"highwire-cite-metadata-overline highwire-cite-metadata\">New Results </span></div>\\n  \\n  \\n      <div  class=\"highwire-cite-extras\" ><div id = \"hw-make-citation-1869724\" class = \"hw-make-citation\" data-encoded-apath=\";biorxiv;early;2021;03;29;2021.03.24.436753.atom\" data-seqnum=\"1869724\"><a href=\"/highwire-save-citation/saveapath/%3Bbiorxiv%3Bearly%3B2021%3B03%3B29%3B2021.03.24.436753.atom/nojs/1869724\" id=\"link-save-citation-toggle-1869724\" class=\"link-save-citation-save use-ajax hw-link-save-unsave-catation link-icon\" title=\"Save\"><i class=\"icon-plus\"></i> <span class=\"title\">Add to Selected Citations</span></a></div></div>\\n  \\n</div>\\n</div></li><li class=\"even\"><div class=\"highwire-article-citation highwire-citation-type-highwire-article tooltip-enable\" data-node-nid=\"1869578\" id=\"node1869578\" data-pisa=\"biorxiv;2021.03.28.437402v1\" data-pisa-master=\"biorxiv;2021.03.28.437402\" data-seqnum=\"1869578\" data-apath=\"/biorxiv/early/2021/03/29/2021.03.28.437402.atom\" data-hw-abstract-tooltip-instance=\"highwire_abstract_tooltip\" title=\"Combining evolutionary and assay-labelled data for protein fitness prediction\" data-url=\"/highwire/article_citation_preview/1869578\"><div  class=\"highwire-cite highwire-cite-highwire-article highwire-citation-biorxiv-article-pap-list-overline clearfix\" >\\n      <span class=\"highwire-cite-title\" >\\n      <a href=\"/content/10.1101/2021.03.28.437402v1\" class=\"highwire-cite-linked-title\" data-icon-position=\"\" data-hide-link-title=\"0\"><span class=\"highwire-cite-title\">Combining evolutionary and assay-labelled data for protein fitness prediction</span></a>    </span>\\n  \\n      <div  class=\"highwire-cite-authors\" ><span  class=\"highwire-citation-authors\"><span class=\"highwire-citation-author first\" data-delta=\"0\"><span class=\"nlm-given-names\">Chloe</span> <span class=\"nlm-surname\">Hsu</span></span>, <span class=\"highwire-citation-author\" data-delta=\"1\"><span class=\"nlm-given-names\">Hunter</span> <span class=\"nlm-surname\">Nisonoff</span></span>, <span class=\"highwire-citation-author\" data-delta=\"2\"><span class=\"nlm-given-names\">Clara</span> <span class=\"nlm-surname\">Fannjiang</span></span>, <span class=\"highwire-citation-author\" data-delta=\"3\"><span class=\"nlm-given-names\">Jennifer</span> <span class=\"nlm-surname\">Listgarten</span></span></span></div>\\n  \\n      <div  class=\"highwire-cite-metadata\" ><span  class=\"highwire-cite-metadata-journal highwire-cite-metadata\">bioRxiv </span><span  class=\"highwire-cite-metadata-pages highwire-cite-metadata\">2021.03.28.437402; </span><span  class=\"highwire-cite-metadata-doi highwire-cite-metadata\"><span class=\"doi_label\">doi:</span> https://doi.org/10.1101/2021.03.28.437402 </span><span  class=\"highwire-cite-metadata-overline highwire-cite-metadata\">New Results </span></div>\\n  \\n  \\n      <div  class=\"highwire-cite-extras\" ><div id = \"hw-make-citation-1869578\" class = \"hw-make-citation\" data-encoded-apath=\";biorxiv;early;2021;03;29;2021.03.28.437402.atom\" data-seqnum=\"1869578\"><a href=\"/highwire-save-citation/saveapath/%3Bbiorxiv%3Bearly%3B2021%3B03%3B29%3B2021.03.28.437402.atom/nojs/1869578\" id=\"link-save-citation-toggle-1869578\" class=\"link-save-citation-save use-ajax hw-link-save-unsave-catation link-icon\" title=\"Save\"><i class=\"icon-plus\"></i> <span class=\"title\">Add to Selected Citations</span></a></div></div>\\n  \\n</div>\\n</div></li><li class=\"odd\"><div class=\"highwire-article-citation highwire-citation-type-highwire-article tooltip-enable\" data-node-nid=\"1867234\" id=\"node1867234\" data-pisa=\"biorxiv;2021.02.19.432011v2\" data-pisa-master=\"biorxiv;2021.02.19.432011\" data-seqnum=\"1867234\" data-apath=\"/biorxiv/early/2021/03/28/2021.02.19.432011.atom\" data-hw-abstract-tooltip-instance=\"highwire_abstract_tooltip\" title=\"Bulk-assembly of monodisperse coacervates and giant unilamellar vesicles with programmable hierarchical complexity\" data-url=\"/highwire/article_citation_preview/1867234\"><div  class=\"highwire-cite highwire-cite-highwire-article highwire-citation-biorxiv-article-pap-list-overline clearfix\" >\\n      <span class=\"highwire-cite-title\" >\\n      <a href=\"/content/10.1101/2021.02.19.432011v2\" class=\"highwire-cite-linked-title\" data-icon-position=\"\" data-hide-link-title=\"0\"><span class=\"highwire-cite-title\">Bulk-assembly of monodisperse coacervates and giant unilamellar vesicles with programmable hierarchical complexity</span></a>    </span>\\n  \\n      <div  class=\"highwire-cite-authors\" ><span  class=\"highwire-citation-authors\"><span class=\"highwire-citation-author first\" data-delta=\"0\"><span class=\"nlm-given-names\">Qingchuan</span> <span class=\"nlm-surname\">Li</span></span>, <span class=\"highwire-citation-author\" data-delta=\"1\"><span class=\"nlm-given-names\">Qingchun</span> <span class=\"nlm-surname\">Song</span></span>, <span class=\"highwire-citation-author\" data-delta=\"2\"><span class=\"nlm-given-names\">Jing</span> <span class=\"nlm-surname\">Wei</span></span>, <span class=\"highwire-citation-author\" data-delta=\"3\"><span class=\"nlm-given-names\">Yang</span> <span class=\"nlm-surname\">Cao</span></span>, <span class=\"highwire-citation-author\" data-delta=\"4\"><span class=\"nlm-given-names\">Xinyu</span> <span class=\"nlm-surname\">Cui</span></span>, <span class=\"highwire-citation-author\" data-delta=\"5\"><span class=\"nlm-given-names\">Dairong</span> <span class=\"nlm-surname\">Chen</span></span>, <span class=\"highwire-citation-author\" data-delta=\"6\"><span class=\"nlm-given-names\">Ho</span> <span class=\"nlm-surname\">Cheung Shum</span></span></span></div>\\n  \\n      <div  class=\"highwire-cite-metadata\" ><span  class=\"highwire-cite-metadata-journal highwire-cite-metadata\">bioRxiv </span><span  class=\"highwire-cite-metadata-pages highwire-cite-metadata\">2021.02.19.432011; </span><span  class=\"highwire-cite-metadata-doi highwire-cite-metadata\"><span class=\"doi_label\">doi:</span> https://doi.org/10.1101/2021.02.19.432011 </span><span  class=\"highwire-cite-metadata-overline highwire-cite-metadata\">New Results </span></div>\\n  \\n  \\n      <div  class=\"highwire-cite-extras\" ><div id = \"hw-make-citation-1867234\" class = \"hw-make-citation\" data-encoded-apath=\";biorxiv;early;2021;03;28;2021.02.19.432011.atom\" data-seqnum=\"1867234\"><a href=\"/highwire-save-citation/saveapath/%3Bbiorxiv%3Bearly%3B2021%3B03%3B28%3B2021.02.19.432011.atom/nojs/1867234\" id=\"link-save-citation-toggle-1867234\" class=\"link-save-citation-save use-ajax hw-link-save-unsave-catation link-icon\" title=\"Save\"><i class=\"icon-plus\"></i> <span class=\"title\">Add to Selected Citations</span></a></div></div>\\n  \\n</div>\\n</div></li><li class=\"even\"><div class=\"highwire-article-citation highwire-citation-type-highwire-article tooltip-enable\" data-node-nid=\"1866303\" id=\"node1866303\" data-pisa=\"biorxiv;2021.03.26.437171v1\" data-pisa-master=\"biorxiv;2021.03.26.437171\" data-seqnum=\"1866303\" data-apath=\"/biorxiv/early/2021/03/27/2021.03.26.437171.atom\" data-hw-abstract-tooltip-instance=\"highwire_abstract_tooltip\" title=\"Low-cost drug discovery with engineered E. coli reveals an anti-mycobacterial activity of benazepril\" data-url=\"/highwire/article_citation_preview/1866303\"><div  class=\"highwire-cite highwire-cite-highwire-article highwire-citation-biorxiv-article-pap-list-overline clearfix\" >\\n      <span class=\"highwire-cite-title\" >\\n      <a href=\"/content/10.1101/2021.03.26.437171v1\" class=\"highwire-cite-linked-title\" data-icon-position=\"\" data-hide-link-title=\"0\"><span class=\"highwire-cite-title\">Low-cost drug discovery with engineered <em>E. coli</em> reveals an anti-mycobacterial activity of benazepril</span></a>    </span>\\n  \\n      <div  class=\"highwire-cite-authors\" ><span  class=\"highwire-citation-authors\"><span class=\"highwire-citation-author first\" data-delta=\"0\"><span class=\"nlm-given-names\">Nadine</span> <span class=\"nlm-surname\">Bongaerts</span></span>, <span class=\"highwire-citation-author\" data-delta=\"1\"><span class=\"nlm-given-names\">Zainab</span> <span class=\"nlm-surname\">Edoo</span></span>, <span class=\"highwire-citation-author\" data-delta=\"2\"><span class=\"nlm-given-names\">Ayan A.</span> <span class=\"nlm-surname\">Abukar</span></span>, <span class=\"highwire-citation-author\" data-delta=\"3\"><span class=\"nlm-given-names\">Xiaohu</span> <span class=\"nlm-surname\">Song</span></span>, <span class=\"highwire-citation-author\" data-delta=\"4\"><span class=\"nlm-given-names\">Sebastián</span> <span class=\"nlm-surname\">Sosa Carrillo</span></span>, <span class=\"highwire-citation-author\" data-delta=\"5\"><span class=\"nlm-given-names\">Ariel B.</span> <span class=\"nlm-surname\">Lindner</span></span>, <span class=\"highwire-citation-author\" data-delta=\"6\"><span class=\"nlm-given-names\">Edwin H.</span> <span class=\"nlm-surname\">Wintermute</span></span></span></div>\\n  \\n      <div  class=\"highwire-cite-metadata\" ><span  class=\"highwire-cite-metadata-journal highwire-cite-metadata\">bioRxiv </span><span  class=\"highwire-cite-metadata-pages highwire-cite-metadata\">2021.03.26.437171; </span><span  class=\"highwire-cite-metadata-doi highwire-cite-metadata\"><span class=\"doi_label\">doi:</span> https://doi.org/10.1101/2021.03.26.437171 </span><span  class=\"highwire-cite-metadata-overline highwire-cite-metadata\">New Results </span></div>\\n  \\n  \\n      <div  class=\"highwire-cite-extras\" ><div id = \"hw-make-citation-1866303\" class = \"hw-make-citation\" data-encoded-apath=\";biorxiv;early;2021;03;27;2021.03.26.437171.atom\" data-seqnum=\"1866303\"><a href=\"/highwire-save-citation/saveapath/%3Bbiorxiv%3Bearly%3B2021%3B03%3B27%3B2021.03.26.437171.atom/nojs/1866303\" id=\"link-save-citation-toggle-1866303\" class=\"link-save-citation-save use-ajax hw-link-save-unsave-catation link-icon\" title=\"Save\"><i class=\"icon-plus\"></i> <span class=\"title\">Add to Selected Citations</span></a></div></div>\\n  \\n</div>\\n</div></li><li class=\"odd\"><div class=\"highwire-article-citation highwire-citation-type-highwire-article tooltip-enable\" data-node-nid=\"1864526\" id=\"node1864526\" data-pisa=\"biorxiv;2021.03.26.437105v1\" data-pisa-master=\"biorxiv;2021.03.26.437105\" data-seqnum=\"1864526\" data-apath=\"/biorxiv/early/2021/03/26/2021.03.26.437105.atom\" data-hw-abstract-tooltip-instance=\"highwire_abstract_tooltip\" title=\"The Marburg Collection: A Golden Gate DNA Assembly Framework for Synthetic Biology Applications in Vibrio natriegens\" data-url=\"/highwire/article_citation_preview/1864526\"><div  class=\"highwire-cite highwire-cite-highwire-article highwire-citation-biorxiv-article-pap-list-overline clearfix\" >\\n      <span class=\"highwire-cite-title\" >\\n      <a href=\"/content/10.1101/2021.03.26.437105v1\" class=\"highwire-cite-linked-title\" data-icon-position=\"\" data-hide-link-title=\"0\"><span class=\"highwire-cite-title\">The Marburg Collection: A Golden Gate DNA Assembly Framework for Synthetic Biology Applications in <em>Vibrio natriegens</em></span></a>    </span>\\n  \\n      <div  class=\"highwire-cite-authors\" ><span  class=\"highwire-citation-authors\"><span class=\"highwire-citation-author first\" data-delta=\"0\"><span class=\"nlm-given-names\">Daniel</span> <span class=\"nlm-surname\">Stukenberg</span></span>, <span class=\"highwire-citation-author\" data-delta=\"1\"><span class=\"nlm-given-names\">Tobias</span> <span class=\"nlm-surname\">Hensel</span></span>, <span class=\"highwire-citation-author\" data-delta=\"2\"><span class=\"nlm-given-names\">Josef</span> <span class=\"nlm-surname\">Hoff</span></span>, <span class=\"highwire-citation-author\" data-delta=\"3\"><span class=\"nlm-given-names\">Benjamin</span> <span class=\"nlm-surname\">Daniel</span></span>, <span class=\"highwire-citation-author\" data-delta=\"4\"><span class=\"nlm-given-names\">René</span> <span class=\"nlm-surname\">Inckemann</span></span>, <span class=\"highwire-citation-author\" data-delta=\"5\"><span class=\"nlm-given-names\">Jamie N.</span> <span class=\"nlm-surname\">Tedeschi</span></span>, <span class=\"highwire-citation-author\" data-delta=\"6\"><span class=\"nlm-given-names\">Franziska</span> <span class=\"nlm-surname\">Nousch</span></span>, <span class=\"highwire-citation-author\" data-delta=\"7\"><span class=\"nlm-given-names\">Georg</span> <span class=\"nlm-surname\">Fritz</span></span></span></div>\\n  \\n      <div  class=\"highwire-cite-metadata\" ><span  class=\"highwire-cite-metadata-journal highwire-cite-metadata\">bioRxiv </span><span  class=\"highwire-cite-metadata-pages highwire-cite-metadata\">2021.03.26.437105; </span><span  class=\"highwire-cite-metadata-doi highwire-cite-metadata\"><span class=\"doi_label\">doi:</span> https://doi.org/10.1101/2021.03.26.437105 </span><span  class=\"highwire-cite-metadata-overline highwire-cite-metadata\">New Results </span></div>\\n  \\n  \\n      <div  class=\"highwire-cite-extras\" ><div id = \"hw-make-citation-1864526\" class = \"hw-make-citation\" data-encoded-apath=\";biorxiv;early;2021;03;26;2021.03.26.437105.atom\" data-seqnum=\"1864526\"><a href=\"/highwire-save-citation/saveapath/%3Bbiorxiv%3Bearly%3B2021%3B03%3B26%3B2021.03.26.437105.atom/nojs/1864526\" id=\"link-save-citation-toggle-1864526\" class=\"link-save-citation-save use-ajax hw-link-save-unsave-catation link-icon\" title=\"Save\"><i class=\"icon-plus\"></i> <span class=\"title\">Add to Selected Citations</span></a></div></div>\\n  \\n</div>\\n</div></li><li class=\"even\"><div class=\"highwire-article-citation highwire-citation-type-highwire-article tooltip-enable\" data-node-nid=\"1864487\" id=\"node1864487\" data-pisa=\"biorxiv;2021.03.26.437017v1\" data-pisa-master=\"biorxiv;2021.03.26.437017\" data-seqnum=\"1864487\" data-apath=\"/biorxiv/early/2021/03/26/2021.03.26.437017.atom\" data-hw-abstract-tooltip-instance=\"highwire_abstract_tooltip\" title=\"Improved architectures for flexible DNA production using retrons across kingdoms of life\" data-url=\"/highwire/article_citation_preview/1864487\"><div  class=\"highwire-cite highwire-cite-highwire-article highwire-citation-biorxiv-article-pap-list-overline clearfix\" >\\n      <span class=\"highwire-cite-title\" >\\n      <a href=\"/content/10.1101/2021.03.26.437017v1\" class=\"highwire-cite-linked-title\" data-icon-position=\"\" data-hide-link-title=\"0\"><span class=\"highwire-cite-title\">Improved architectures for flexible DNA production using retrons across kingdoms of life</span></a>    </span>\\n  \\n      <div  class=\"highwire-cite-authors\" ><span  class=\"highwire-citation-authors\"><span class=\"highwire-citation-author first\" data-delta=\"0\"><span class=\"nlm-given-names\">Santiago C.</span> <span class=\"nlm-surname\">Lopez</span></span>, <span class=\"highwire-citation-author\" data-delta=\"1\"><span class=\"nlm-given-names\">Kate D.</span> <span class=\"nlm-surname\">Crawford</span></span>, <span class=\"highwire-citation-author\" data-delta=\"2\"><span class=\"nlm-given-names\">Santi</span> <span class=\"nlm-surname\">Bhattarai-Kline</span></span>, <span class=\"highwire-citation-author\" data-delta=\"3\"><span class=\"nlm-given-names\">Seth L.</span> <span class=\"nlm-surname\">Shipman</span></span></span></div>\\n  \\n      <div  class=\"highwire-cite-metadata\" ><span  class=\"highwire-cite-metadata-journal highwire-cite-metadata\">bioRxiv </span><span  class=\"highwire-cite-metadata-pages highwire-cite-metadata\">2021.03.26.437017; </span><span  class=\"highwire-cite-metadata-doi highwire-cite-metadata\"><span class=\"doi_label\">doi:</span> https://doi.org/10.1101/2021.03.26.437017 </span><span  class=\"highwire-cite-metadata-overline highwire-cite-metadata\">New Results </span></div>\\n  \\n  \\n      <div  class=\"highwire-cite-extras\" ><div id = \"hw-make-citation-1864487\" class = \"hw-make-citation\" data-encoded-apath=\";biorxiv;early;2021;03;26;2021.03.26.437017.atom\" data-seqnum=\"1864487\"><a href=\"/highwire-save-citation/saveapath/%3Bbiorxiv%3Bearly%3B2021%3B03%3B26%3B2021.03.26.437017.atom/nojs/1864487\" id=\"link-save-citation-toggle-1864487\" class=\"link-save-citation-save use-ajax hw-link-save-unsave-catation link-icon\" title=\"Save\"><i class=\"icon-plus\"></i> <span class=\"title\">Add to Selected Citations</span></a></div></div>\\n  \\n</div>\\n</div></li><li class=\"odd\"><div class=\"highwire-article-citation highwire-citation-type-highwire-article tooltip-enable\" data-node-nid=\"1863221\" id=\"node1863221\" data-pisa=\"biorxiv;2021.03.25.434639v1\" data-pisa-master=\"biorxiv;2021.03.25.434639\" data-seqnum=\"1863221\" data-apath=\"/biorxiv/early/2021/03/25/2021.03.25.434639.atom\" data-hw-abstract-tooltip-instance=\"highwire_abstract_tooltip\" title=\"Acoustic Remote Control of Bacterial Immunotherapy\" data-url=\"/highwire/article_citation_preview/1863221\"><div  class=\"highwire-cite highwire-cite-highwire-article highwire-citation-biorxiv-article-pap-list-overline clearfix\" >\\n      <span class=\"highwire-cite-title\" >\\n      <a href=\"/content/10.1101/2021.03.25.434639v1\" class=\"highwire-cite-linked-title\" data-icon-position=\"\" data-hide-link-title=\"0\"><span class=\"highwire-cite-title\">Acoustic Remote Control of Bacterial Immunotherapy</span></a>    </span>\\n  \\n      <div  class=\"highwire-cite-authors\" ><span  class=\"highwire-citation-authors\"><span class=\"highwire-citation-author first\" data-delta=\"0\"><span class=\"nlm-given-names\">Mohamad H.</span> <span class=\"nlm-surname\">Abedi</span></span>, <span class=\"highwire-citation-author\" data-delta=\"1\"><span class=\"nlm-given-names\">Michael S.</span> <span class=\"nlm-surname\">Yao</span></span>, <span class=\"highwire-citation-author\" data-delta=\"2\"><span class=\"nlm-given-names\">David R.</span> <span class=\"nlm-surname\">Mittelstein</span></span>, <span class=\"highwire-citation-author\" data-delta=\"3\"><span class=\"nlm-given-names\">Avinoam</span> <span class=\"nlm-surname\">Bar-Zion</span></span>, <span class=\"highwire-citation-author\" data-delta=\"4\"><span class=\"nlm-given-names\">Margaret</span> <span class=\"nlm-surname\">Swift</span></span>, <span class=\"highwire-citation-author\" data-delta=\"5\"><span class=\"nlm-given-names\">Audrey</span> <span class=\"nlm-surname\">Lee-Gosselin</span></span>, <span class=\"highwire-citation-author\" data-delta=\"6\"><span class=\"nlm-given-names\">Mikhail G.</span> <span class=\"nlm-surname\">Shapiro</span></span></span></div>\\n  \\n      <div  class=\"highwire-cite-metadata\" ><span  class=\"highwire-cite-metadata-journal highwire-cite-metadata\">bioRxiv </span><span  class=\"highwire-cite-metadata-pages highwire-cite-metadata\">2021.03.25.434639; </span><span  class=\"highwire-cite-metadata-doi highwire-cite-metadata\"><span class=\"doi_label\">doi:</span> https://doi.org/10.1101/2021.03.25.434639 </span><span  class=\"highwire-cite-metadata-overline highwire-cite-metadata\">New Results </span></div>\\n  \\n  \\n      <div  class=\"highwire-cite-extras\" ><div id = \"hw-make-citation-1863221\" class = \"hw-make-citation\" data-encoded-apath=\";biorxiv;early;2021;03;25;2021.03.25.434639.atom\" data-seqnum=\"1863221\"><a href=\"/highwire-save-citation/saveapath/%3Bbiorxiv%3Bearly%3B2021%3B03%3B25%3B2021.03.25.434639.atom/nojs/1863221\" id=\"link-save-citation-toggle-1863221\" class=\"link-save-citation-save use-ajax hw-link-save-unsave-catation link-icon\" title=\"Save\"><i class=\"icon-plus\"></i> <span class=\"title\">Add to Selected Citations</span></a></div></div>\\n  \\n</div>\\n</div></li><li class=\"even\"><div class=\"highwire-article-citation highwire-citation-type-highwire-article tooltip-enable\" data-node-nid=\"1857040\" id=\"node1857040\" data-pisa=\"biorxiv;2020.11.25.398248v2\" data-pisa-master=\"biorxiv;2020.11.25.398248\" data-seqnum=\"1857040\" data-apath=\"/biorxiv/early/2021/03/22/2020.11.25.398248.atom\" data-hw-abstract-tooltip-instance=\"highwire_abstract_tooltip\" title=\"Generating complex patterns of gene expression without regulatory circuits\" data-url=\"/highwire/article_citation_preview/1857040\"><div  class=\"highwire-cite highwire-cite-highwire-article highwire-citation-biorxiv-article-pap-list-overline clearfix\" >\\n      <span class=\"highwire-cite-title\" >\\n      <a href=\"/content/10.1101/2020.11.25.398248v2\" class=\"highwire-cite-linked-title\" data-icon-position=\"\" data-hide-link-title=\"0\"><span class=\"highwire-cite-title\">Generating complex patterns of gene expression without regulatory circuits</span></a>    </span>\\n  \\n      <div  class=\"highwire-cite-authors\" ><span  class=\"highwire-citation-authors\"><span class=\"highwire-citation-author first\" data-delta=\"0\"><span class=\"nlm-given-names\">Sahil B.</span> <span class=\"nlm-surname\">Shah</span></span>, <span class=\"highwire-citation-author\" data-delta=\"1\"><span class=\"nlm-given-names\">Alexis M.</span> <span class=\"nlm-surname\">Hill</span></span>, <span class=\"highwire-citation-author\" data-delta=\"2\"><span class=\"nlm-given-names\">Claus O.</span> <span class=\"nlm-surname\">Wilke</span></span>, <span class=\"highwire-citation-author\" data-delta=\"3\"><span class=\"nlm-given-names\">Adam J.</span> <span class=\"nlm-surname\">Hockenberry</span></span></span></div>\\n  \\n      <div  class=\"highwire-cite-metadata\" ><span  class=\"highwire-cite-metadata-journal highwire-cite-metadata\">bioRxiv </span><span  class=\"highwire-cite-metadata-pages highwire-cite-metadata\">2020.11.25.398248; </span><span  class=\"highwire-cite-metadata-doi highwire-cite-metadata\"><span class=\"doi_label\">doi:</span> https://doi.org/10.1101/2020.11.25.398248 </span><span  class=\"highwire-cite-metadata-overline highwire-cite-metadata\">New Results </span></div>\\n  \\n  \\n      <div  class=\"highwire-cite-extras\" ><div id = \"hw-make-citation-1857040\" class = \"hw-make-citation\" data-encoded-apath=\";biorxiv;early;2021;03;22;2020.11.25.398248.atom\" data-seqnum=\"1857040\"><a href=\"/highwire-save-citation/saveapath/%3Bbiorxiv%3Bearly%3B2021%3B03%3B22%3B2020.11.25.398248.atom/nojs/1857040\" id=\"link-save-citation-toggle-1857040\" class=\"link-save-citation-save use-ajax hw-link-save-unsave-catation link-icon\" title=\"Save\"><i class=\"icon-plus\"></i> <span class=\"title\">Add to Selected Citations</span></a></div></div>\\n  \\n</div>\\n</div></li><li class=\"odd\"><div class=\"highwire-article-citation highwire-citation-type-highwire-article tooltip-enable\" data-node-nid=\"1856078\" id=\"node1856078\" data-pisa=\"biorxiv;2021.03.21.436342v1\" data-pisa-master=\"biorxiv;2021.03.21.436342\" data-seqnum=\"1856078\" data-apath=\"/biorxiv/early/2021/03/22/2021.03.21.436342.atom\" data-hw-abstract-tooltip-instance=\"highwire_abstract_tooltip\" title=\"A Class of Simple Biomolecular Antithetic Proportional-Integral-Derivative Controllers\" data-url=\"/highwire/article_citation_preview/1856078\"><div  class=\"highwire-cite highwire-cite-highwire-article highwire-citation-biorxiv-article-pap-list-overline clearfix\" >\\n      <span class=\"highwire-cite-title\" >\\n      <a href=\"/content/10.1101/2021.03.21.436342v1\" class=\"highwire-cite-linked-title\" data-icon-position=\"\" data-hide-link-title=\"0\"><span class=\"highwire-cite-title\">A Class of Simple Biomolecular Antithetic Proportional-Integral-Derivative Controllers</span></a>    </span>\\n  \\n      <div  class=\"highwire-cite-authors\" ><span  class=\"highwire-citation-authors\"><span class=\"highwire-citation-author first\" data-delta=\"0\"><span class=\"nlm-given-names\">Maurice</span> <span class=\"nlm-surname\">Filo</span></span>, <span class=\"highwire-citation-author\" data-delta=\"1\"><span class=\"nlm-given-names\">Mustafa</span> <span class=\"nlm-surname\">Khammash</span></span></span></div>\\n  \\n      <div  class=\"highwire-cite-metadata\" ><span  class=\"highwire-cite-metadata-journal highwire-cite-metadata\">bioRxiv </span><span  class=\"highwire-cite-metadata-pages highwire-cite-metadata\">2021.03.21.436342; </span><span  class=\"highwire-cite-metadata-doi highwire-cite-metadata\"><span class=\"doi_label\">doi:</span> https://doi.org/10.1101/2021.03.21.436342 </span><span  class=\"highwire-cite-metadata-overline highwire-cite-metadata\">New Results </span></div>\\n  \\n  \\n      <div  class=\"highwire-cite-extras\" ><div id = \"hw-make-citation-1856078\" class = \"hw-make-citation\" data-encoded-apath=\";biorxiv;early;2021;03;22;2021.03.21.436342.atom\" data-seqnum=\"1856078\"><a href=\"/highwire-save-citation/saveapath/%3Bbiorxiv%3Bearly%3B2021%3B03%3B22%3B2021.03.21.436342.atom/nojs/1856078\" id=\"link-save-citation-toggle-1856078\" class=\"link-save-citation-save use-ajax hw-link-save-unsave-catation link-icon\" title=\"Save\"><i class=\"icon-plus\"></i> <span class=\"title\">Add to Selected Citations</span></a></div></div>\\n  \\n</div>\\n</div></li><li class=\"last even\"><div class=\"highwire-article-citation highwire-citation-type-highwire-article tooltip-enable\" data-node-nid=\"1850422\" id=\"node1850422\" data-pisa=\"biorxiv;2021.03.17.435894v1\" data-pisa-master=\"biorxiv;2021.03.17.435894\" data-seqnum=\"1850422\" data-apath=\"/biorxiv/early/2021/03/18/2021.03.17.435894.atom\" data-hw-abstract-tooltip-instance=\"highwire_abstract_tooltip\" title=\"Efficiency of the synthetic self-splicing RiboJ ribozyme is robust to cis- and trans-changes in genetic background\" data-url=\"/highwire/article_citation_preview/1850422\"><div  class=\"highwire-cite highwire-cite-highwire-article highwire-citation-biorxiv-article-pap-list-overline clearfix\" >\\n      <span class=\"highwire-cite-title\" >\\n      <a href=\"/content/10.1101/2021.03.17.435894v1\" class=\"highwire-cite-linked-title\" data-icon-position=\"\" data-hide-link-title=\"0\"><span class=\"highwire-cite-title\">Efficiency of the synthetic self-splicing RiboJ ribozyme is robust to <em>cis</em>- and <em>trans</em>-changes in genetic background</span></a>    </span>\\n  \\n      <div  class=\"highwire-cite-authors\" ><span  class=\"highwire-citation-authors\"><span class=\"highwire-citation-author first\" data-delta=\"0\"><span class=\"nlm-given-names\">Markéta</span> <span class=\"nlm-surname\">Vlková</span></span>, <span class=\"highwire-citation-author\" data-delta=\"1\"><span class=\"nlm-given-names\">Bhargava Reddy</span> <span class=\"nlm-surname\">Morampalli</span></span>, <span class=\"highwire-citation-author\" data-delta=\"2\"><span class=\"nlm-given-names\">Olin K.</span> <span class=\"nlm-surname\">Silander</span></span></span></div>\\n  \\n      <div  class=\"highwire-cite-metadata\" ><span  class=\"highwire-cite-metadata-journal highwire-cite-metadata\">bioRxiv </span><span  class=\"highwire-cite-metadata-pages highwire-cite-metadata\">2021.03.17.435894; </span><span  class=\"highwire-cite-metadata-doi highwire-cite-metadata\"><span class=\"doi_label\">doi:</span> https://doi.org/10.1101/2021.03.17.435894 </span><span  class=\"highwire-cite-metadata-overline highwire-cite-metadata\">New Results </span></div>\\n  \\n  \\n      <div  class=\"highwire-cite-extras\" ><div id = \"hw-make-citation-1850422\" class = \"hw-make-citation\" data-encoded-apath=\";biorxiv;early;2021;03;18;2021.03.17.435894.atom\" data-seqnum=\"1850422\"><a href=\"/highwire-save-citation/saveapath/%3Bbiorxiv%3Bearly%3B2021%3B03%3B18%3B2021.03.17.435894.atom/nojs/1850422\" id=\"link-save-citation-toggle-1850422\" class=\"link-save-citation-save use-ajax hw-link-save-unsave-catation link-icon\" title=\"Save\"><i class=\"icon-plus\"></i> <span class=\"title\">Add to Selected Citations</span></a></div></div>\\n  \\n</div>\\n</div></li></ul></div></div><h2 class=\"element-invisible\">Pages</h2><div class=\"pager-wrapper pager-full-pagination clearfix pager-no-first-items\"><div class=\"highwire-list page-group-last item-list\"><ul class=\"pager pager-items-last\"><li class=\"pager-next first last odd\"><a href=\"/collection/synthetic-biology?page=1\" class=\"link-icon link-icon-after\">Next <i class=\"icon-circle-arrow-right\"></i></a></li></ul></div><div class=\"highwire-list page-group-items item-list\"><ul class=\"pager pager-items\"><li class=\"pager-current first odd\">1</li><li class=\"pager-item even\"><a title=\"Go to page 2\" href=\"/collection/synthetic-biology?page=1\">2</a></li><li class=\"pager-item odd\"><a title=\"Go to page 3\" href=\"/collection/synthetic-biology?page=2\">3</a></li><li class=\"pager-item even\"><a title=\"Go to page 4\" href=\"/collection/synthetic-biology?page=3\">4</a></li><li class=\"pager-item odd\"><a title=\"Go to page 5\" href=\"/collection/synthetic-biology?page=4\">5</a></li><li class=\"pager-item even\"><a title=\"Go to page 6\" href=\"/collection/synthetic-biology?page=5\">6</a></li><li class=\"pager-item odd\"><a title=\"Go to page 7\" href=\"/collection/synthetic-biology?page=6\">7</a></li><li class=\"pager-item even\"><a title=\"Go to page 8\" href=\"/collection/synthetic-biology?page=7\">8</a></li><li class=\"pager-item odd\"><a title=\"Go to page 9\" href=\"/collection/synthetic-biology?page=8\">9</a></li><li class=\"pager-ellipsis even\">&hellip;</li><li class=\"pager-last last odd\"><a title=\"Go to page 104\" href=\"/collection/synthetic-biology?page=103\">104</a></li></ul></div></div>  </div>\\n\\n  \\n  </div>\\n</div>\\n\\t\\t\\t</div>\\n\\t\\t</div>\\n\\t\\t\\n\\t\\t<div class=\"sidebar-right-wrapper grid-10 omega\">\\n\\t\\t\\t<div class=\"panel-panel panel-region-sidebar-right\">\\n\\t\\t\\t  <div class=\"inside\"><div class=\"panel-pane pane-panels-mini pane-biorxiv-save-citation-links\" >\\n  \\n      \\n  \\n  <div class=\"pane-content\">\\n    <div class=\"panel-display panel-1col clearfix\" id=\"mini-panel-biorxiv_save_citation_links\">\\n  <div class=\"panel-panel panel-col\">\\n    <div><div class=\"panel-pane pane-report-view-link\" >\\n  \\n      \\n  \\n  <div class=\"pane-content\">\\n    <a href=\"/highwire-save-citation/manage\" id=\"link-save-citation-report\" class=\"link-save-citation-report link-icon\"><i class=\"icon-bookmark\"></i> <span class=\"title\">View Selected Citations (0)</span></a>  </div>\\n\\n  \\n  </div>\\n<div class=\"panel-separator\"></div><div class=\"panel-pane pane-save-all-action-link\" >\\n  \\n      \\n  \\n  <div class=\"pane-content\">\\n    <ul class=\"inline hw-link-save-unsave-all-citation\"><li class=\"save-all-link first\"><a href=\"/highwire-save-citation/save-all//nojs\" class=\"link-save-all-citation-save link-icon\" title=\"Add All Citations\"><i class=\"icon-plus\"></i> <span class=\"title\">Add All Citations</span></a></li><li class=\"unsave-all-link last\"><a href=\"/highwire-save-citation/unsave-all//nojs\" class=\"link-save-all-citation-unsave link-icon\" title=\"Remove All Citations\"><i class=\"icon-ok\"></i> <span class=\"title\">Remove All Citations</span></a></li></ul>  </div>\\n\\n  \\n  </div>\\n</div>\\n  </div>\\n</div>\\n  </div>\\n\\n  \\n  </div>\\n<div class=\"panel-separator\"></div><div class=\"panel-pane pane-panels-mini pane-biorxiv-subject-collections\" >\\n  \\n      \\n  \\n  <div class=\"pane-content\">\\n    <div class=\"panel-flexible panels-flexible-8 clearfix\" id=\"mini-panel-biorxiv_subject_collections\">\\n<div class=\"panel-flexible-inside panels-flexible-8-inside\">\\n<div class=\"panels-flexible-region panels-flexible-region-8-center panels-flexible-region-first panels-flexible-region-last\">\\n  <div class=\"inside panels-flexible-region-inside panels-flexible-region-8-center-inside panels-flexible-region-inside-first panels-flexible-region-inside-last\">\\n<div class=\"panel-pane pane-snippet\" >\\n  \\n      \\n  \\n  <div class=\"pane-content\">\\n    <div class=\"snippet biorxiv-subject-areas-table-title\" id=\"biorxiv-subject-areas-table-title\">\\n  \\n      \\n  <div class=\"snippet-content\">\\n    <b>Subject Areas</b>  </div>\\n\\n</div>\\n  </div>\\n\\n  \\n  </div>\\n<div class=\"panel-separator\"></div><div class=\"panel-pane pane-snippet\" >\\n  \\n      \\n  \\n  <div class=\"pane-content\">\\n    <div class=\"snippet biorxiv-subject-areas-view-papers\" id=\"biorxiv-subject-areas-view-papers\">\\n  \\n      \\n  <div class=\"snippet-content\">\\n    <a href=\"/content/early/recent\"><strong>All Articles</strong></a>  </div>\\n\\n</div>\\n  </div>\\n\\n  \\n  </div>\\n<div class=\"panel-separator\"></div><div class=\"panel-pane pane-highwire-subject-collections\" >\\n  \\n      \\n  \\n  <div class=\"pane-content\">\\n    <ul id=\"collection\" class=\"collection highwire-list-expand\"><li class=\"outer collection depth-2  child first\"><div class = \"data-wrapper\"><a href=\"/collection/animal-behavior-and-cognition\" class=\"\" data-icon-position=\"\" data-hide-link-title=\"0\">Animal Behavior and Cognition</a> <span class = \"article-count\">(2609)</span></div></li>\\n<li class=\"outer collection depth-2  child\"><div class = \"data-wrapper\"><a href=\"/collection/biochemistry\" class=\"\" data-icon-position=\"\" data-hide-link-title=\"0\">Biochemistry</a> <span class = \"article-count\">(5144)</span></div></li>\\n<li class=\"outer collection depth-2  child\"><div class = \"data-wrapper\"><a href=\"/collection/bioengineering\" class=\"\" data-icon-position=\"\" data-hide-link-title=\"0\">Bioengineering</a> <span class = \"article-count\">(3596)</span></div></li>\\n<li class=\"outer collection depth-2  child\"><div class = \"data-wrapper\"><a href=\"/collection/bioinformatics\" class=\"\" data-icon-position=\"\" data-hide-link-title=\"0\">Bioinformatics</a> <span class = \"article-count\">(15588)</span></div></li>\\n<li class=\"outer collection depth-2  child\"><div class = \"data-wrapper\"><a href=\"/collection/biophysics\" class=\"\" data-icon-position=\"\" data-hide-link-title=\"0\">Biophysics</a> <span class = \"article-count\">(7119)</span></div></li>\\n<li class=\"outer collection depth-2  child\"><div class = \"data-wrapper\"><a href=\"/collection/cancer-biology\" class=\"\" data-icon-position=\"\" data-hide-link-title=\"0\">Cancer Biology</a> <span class = \"article-count\">(5539)</span></div></li>\\n<li class=\"outer collection depth-2  child\"><div class = \"data-wrapper\"><a href=\"/collection/cell-biology\" class=\"\" data-icon-position=\"\" data-hide-link-title=\"0\">Cell Biology</a> <span class = \"article-count\">(7947)</span></div></li>\\n<li class=\"outer collection depth-2  child\"><div class = \"data-wrapper\"><a href=\"/collection/clinical-trials\" class=\"\" data-icon-position=\"\" data-hide-link-title=\"0\">Clinical Trials</a> <span class = \"article-count\">(138)</span></div></li>\\n<li class=\"outer collection depth-2  child\"><div class = \"data-wrapper\"><a href=\"/collection/developmental-biology\" class=\"\" data-icon-position=\"\" data-hide-link-title=\"0\">Developmental Biology</a> <span class = \"article-count\">(4677)</span></div></li>\\n<li class=\"outer collection depth-2  child\"><div class = \"data-wrapper\"><a href=\"/collection/ecology\" class=\"\" data-icon-position=\"\" data-hide-link-title=\"0\">Ecology</a> <span class = \"article-count\">(7371)</span></div></li>\\n<li class=\"outer collection depth-2  child\"><div class = \"data-wrapper\"><a href=\"/collection/epidemiology\" class=\"\" data-icon-position=\"\" data-hide-link-title=\"0\">Epidemiology</a> <span class = \"article-count\">(2059)</span></div></li>\\n<li class=\"outer collection depth-2  child\"><div class = \"data-wrapper\"><a href=\"/collection/evolutionary-biology\" class=\"\" data-icon-position=\"\" data-hide-link-title=\"0\">Evolutionary Biology</a> <span class = \"article-count\">(10444)</span></div></li>\\n<li class=\"outer collection depth-2  child\"><div class = \"data-wrapper\"><a href=\"/collection/genetics\" class=\"\" data-icon-position=\"\" data-hide-link-title=\"0\">Genetics</a> <span class = \"article-count\">(7640)</span></div></li>\\n<li class=\"outer collection depth-2  child\"><div class = \"data-wrapper\"><a href=\"/collection/genomics\" class=\"\" data-icon-position=\"\" data-hide-link-title=\"0\">Genomics</a> <span class = \"article-count\">(9998)</span></div></li>\\n<li class=\"outer collection depth-2  child\"><div class = \"data-wrapper\"><a href=\"/collection/immunology\" class=\"\" data-icon-position=\"\" data-hide-link-title=\"0\">Immunology</a> <span class = \"article-count\">(5078)</span></div></li>\\n<li class=\"outer collection depth-2  child\"><div class = \"data-wrapper\"><a href=\"/collection/microbiology\" class=\"\" data-icon-position=\"\" data-hide-link-title=\"0\">Microbiology</a> <span class = \"article-count\">(13664)</span></div></li>\\n<li class=\"outer collection depth-2  child\"><div class = \"data-wrapper\"><a href=\"/collection/molecular-biology\" class=\"\" data-icon-position=\"\" data-hide-link-title=\"0\">Molecular Biology</a> <span class = \"article-count\">(5296)</span></div></li>\\n<li class=\"outer collection depth-2  child\"><div class = \"data-wrapper\"><a href=\"/collection/neuroscience\" class=\"\" data-icon-position=\"\" data-hide-link-title=\"0\">Neuroscience</a> <span class = \"article-count\">(30262)</span></div></li>\\n<li class=\"outer collection depth-2  child\"><div class = \"data-wrapper\"><a href=\"/collection/paleontology\" class=\"\" data-icon-position=\"\" data-hide-link-title=\"0\">Paleontology</a> <span class = \"article-count\">(208)</span></div></li>\\n<li class=\"outer collection depth-2  child\"><div class = \"data-wrapper\"><a href=\"/collection/pathology\" class=\"\" data-icon-position=\"\" data-hide-link-title=\"0\">Pathology</a> <span class = \"article-count\">(862)</span></div></li>\\n<li class=\"outer collection depth-2  child\"><div class = \"data-wrapper\"><a href=\"/collection/pharmacology-and-toxicology\" class=\"\" data-icon-position=\"\" data-hide-link-title=\"0\">Pharmacology and Toxicology</a> <span class = \"article-count\">(1499)</span></div></li>\\n<li class=\"outer collection depth-2  child\"><div class = \"data-wrapper\"><a href=\"/collection/physiology\" class=\"\" data-icon-position=\"\" data-hide-link-title=\"0\">Physiology</a> <span class = \"article-count\">(2209)</span></div></li>\\n<li class=\"outer collection depth-2  child\"><div class = \"data-wrapper\"><a href=\"/collection/plant-biology\" class=\"\" data-icon-position=\"\" data-hide-link-title=\"0\">Plant Biology</a> <span class = \"article-count\">(4926)</span></div></li>\\n<li class=\"outer collection depth-2  child\"><div class = \"data-wrapper\"><a href=\"/collection/scientific-communication-and-education\" class=\"\" data-icon-position=\"\" data-hide-link-title=\"0\">Scientific Communication and Education</a> <span class = \"article-count\">(1028)</span></div></li>\\n<li class=\"outer collection depth-2  child\"><div class = \"data-wrapper\"><a href=\"/collection/synthetic-biology\" class=\"active\" data-icon-position=\"\" data-hide-link-title=\"0\">Synthetic Biology</a> <span class = \"article-count\">(1362)</span></div></li>\\n<li class=\"outer collection depth-2  child\"><div class = \"data-wrapper\"><a href=\"/collection/systems-biology\" class=\"\" data-icon-position=\"\" data-hide-link-title=\"0\">Systems Biology</a> <span class = \"article-count\">(4103)</span></div></li>\\n<li class=\"outer collection depth-2  child last\"><div class = \"data-wrapper\"><a href=\"/collection/zoology\" class=\"\" data-icon-position=\"\" data-hide-link-title=\"0\">Zoology</a> <span class = \"article-count\">(790)</span></div></li>\\n</ul>  </div>\\n\\n  \\n  </div>\\n  </div>\\n</div>\\n</div>\\n</div>\\n  </div>\\n\\n  \\n  </div>\\n</div>\\n\\t\\t\\t</div>\\n\\t\\t</div>\\n\\t\\n\\t</div> <!-- /.panel-row-wrapper -->\\t\\n\\t\\n\\t</div>\\n\\n    </div>\\n  </div>\\n</div>      </div>\\n</div>  </div>\\n</section>    \\n  \\n  </div>    <div class=\"region region-page-bottom\" id=\"region-page-bottom\">\\n  <div class=\"region-inner region-page-bottom-inner\">\\n      </div>\\n</div><script type=\"text/javascript\" src=\"https://www.biorxiv.org/sites/default/files/advagg_js/js__bnwyEQSuZLC-kZnFqCi5iE02nOCzM7DjY7zYxcN9nsQ__VBiBT_qq_eHMMO2Q1rXK1u-hHff31XLUkmi9dgjuPeY__ml44raQIVBc4OdWQ4vqHF4rdwDMWhWvUX9q43euS4_o.js\"></script>\\n<script type=\"text/javascript\">\\n<!--//--><![CDATA[//><!--\\nfunction euCookieComplianceLoadScripts() {}\\n//--><!]]>\\n</script>\\n<script type=\"text/javascript\">\\n<!--//--><![CDATA[//><!--\\n;var eu_cookie_compliance_cookie_name=\\'\\';\\n//--><!]]>\\n</script>\\n<script type=\"text/javascript\" src=\"//d33xdlntwy0kbs.cloudfront.net/cshl_custom.js\"></script>\\n<script type=\"text/javascript\" src=\"https://www.biorxiv.org/sites/default/files/advagg_js/js__BmqjBnkz3MgYCAoc25s1lDRMEjLhC3mEPVonUFIHi08__Unwv5-ZIuHBfFwytsjEx1niBVJ7n1T4lPws7VrkHXM4__ml44raQIVBc4OdWQ4vqHF4rdwDMWhWvUX9q43euS4_o.js\"></script>\\n  </body>\\n</html>\\n'"
      ]
     },
     "execution_count": 6,
     "metadata": {},
     "output_type": "execute_result"
    }
   ],
   "source": [
    "html_page.text"
   ]
  },
  {
   "cell_type": "markdown",
   "id": "distant-military",
   "metadata": {},
   "source": [
    "Once the HTML plain text is loaded, we must start a `Parser` from `BeautifulSoup`. A parser is a **sinctactic analyser**. \n",
    "\n",
    "In this case BeautifulSoup allow us to work with different syntaxes, such as `HTML` or `XML` "
   ]
  },
  {
   "cell_type": "code",
   "execution_count": 7,
   "id": "instrumental-waterproof",
   "metadata": {},
   "outputs": [],
   "source": [
    "soup = BeautifulSoup(html_page.text, 'html.parser')"
   ]
  },
  {
   "cell_type": "markdown",
   "id": "hungry-extraction",
   "metadata": {},
   "source": [
    "Now we are able to extract the information we need. The most direct way to do it is from a web browser:\n",
    "\n",
    "1. Open the web page to analyse\n",
    "2. Right click on the item of interest <img src = \"./images/biorxiv_1.png\" alt = \"Drawing\" style = \"width: 600px;\" />\n",
    "3. Click on inspect <img src = \"./images/biorxiv_2.png\" alt = \"Drawing\" style = \"width: 600px;\" />\n",
    "4. Check the HTML tags to access the content directly in our scrapper "
   ]
  },
  {
   "cell_type": "markdown",
   "id": "accepted-submission",
   "metadata": {},
   "source": [
    "In this example we will extract the manuscript titles, therefore we must extract the paragraphs  tagged as ``<p>`` whose class name is ``class =\"title is-5 mathjax\">`` "
   ]
  },
  {
   "cell_type": "code",
   "execution_count": 32,
   "id": "responsible-approval",
   "metadata": {},
   "outputs": [],
   "source": [
    "titles = soup.find_all('a', attrs = {'class': 'highwire-cite-linked-title'})"
   ]
  },
  {
   "cell_type": "markdown",
   "id": "thirty-record",
   "metadata": {},
   "source": [
    "The function ``find_all()`` returns a list of type ``bs4.element.Tag`` with the matches of our query. "
   ]
  },
  {
   "cell_type": "code",
   "execution_count": 33,
   "id": "blond-progress",
   "metadata": {},
   "outputs": [
    {
     "name": "stdout",
     "output_type": "stream",
     "text": [
      "A synthetic receptor platform enables rapid and portable monitoring of liver dysfunction via engineered bacteria.\n"
     ]
    }
   ],
   "source": [
    "for title in titles:\n",
    "    print(title.text.strip())\n",
    "    break"
   ]
  },
  {
   "cell_type": "markdown",
   "id": "sacred-spider",
   "metadata": {},
   "source": [
    "and there you you have!"
   ]
  },
  {
   "cell_type": "markdown",
   "id": "announced-significance",
   "metadata": {},
   "source": [
    "### Exercise: Obtaining the paper links and information"
   ]
  },
  {
   "cell_type": "markdown",
   "id": "threaded-wallpaper",
   "metadata": {},
   "source": [
    "In this case we are going to read the HTML container in a little more general way. According to our previous query, all the results are encapsulated in the tag ``<ul>`` whose class is ``class =\"\"`` "
   ]
  },
  {
   "cell_type": "code",
   "execution_count": 89,
   "id": "injured-parliament",
   "metadata": {},
   "outputs": [],
   "source": [
    "results = soup.find_all('li', attrs = {'class': ['first odd', 'even','odd','last even']}, )"
   ]
  },
  {
   "cell_type": "code",
   "execution_count": 93,
   "id": "executed-cooking",
   "metadata": {},
   "outputs": [
    {
     "data": {
      "text/plain": [
       "[<li class=\"first odd\"><div class=\"highwire-article-citation highwire-citation-type-highwire-article tooltip-enable\" data-apath=\"/biorxiv/early/2021/03/29/2021.03.24.436753.atom\" data-hw-abstract-tooltip-instance=\"highwire_abstract_tooltip\" data-node-nid=\"1869724\" data-pisa=\"biorxiv;2021.03.24.436753v1\" data-pisa-master=\"biorxiv;2021.03.24.436753\" data-seqnum=\"1869724\" data-url=\"/highwire/article_citation_preview/1869724\" id=\"node1869724\" title=\"A synthetic receptor platform enables rapid and portable monitoring of liver dysfunction via engineered bacteria.\"><div class=\"highwire-cite highwire-cite-highwire-article highwire-citation-biorxiv-article-pap-list-overline clearfix\">\n",
       " <span class=\"highwire-cite-title\">\n",
       " <a class=\"highwire-cite-linked-title\" data-hide-link-title=\"0\" data-icon-position=\"\" href=\"/content/10.1101/2021.03.24.436753v1\"><span class=\"highwire-cite-title\">A synthetic receptor platform enables rapid and portable monitoring of liver dysfunction via engineered bacteria.</span></a> </span>\n",
       " <div class=\"highwire-cite-authors\"><span class=\"highwire-citation-authors\"><span class=\"highwire-citation-author first\" data-delta=\"0\"><span class=\"nlm-given-names\">Hung-Ju</span> <span class=\"nlm-surname\">Chang</span></span>, <span class=\"highwire-citation-author\" data-delta=\"1\"><span class=\"nlm-given-names\">Ana</span> <span class=\"nlm-surname\">Zuniga</span></span>, <span class=\"highwire-citation-author\" data-delta=\"2\"><span class=\"nlm-given-names\">Ismael</span> <span class=\"nlm-surname\">Conejero</span></span>, <span class=\"highwire-citation-author\" data-delta=\"3\"><span class=\"nlm-given-names\">Peter L</span> <span class=\"nlm-surname\">Voyvodic</span></span>, <span class=\"highwire-citation-author\" data-delta=\"4\"><span class=\"nlm-given-names\">Jerome</span> <span class=\"nlm-surname\">Gracy</span></span>, <span class=\"highwire-citation-author\" data-delta=\"5\"><span class=\"nlm-given-names\">Elena</span> <span class=\"nlm-surname\">Fajardo-Ruiz</span></span>, <span class=\"highwire-citation-author\" data-delta=\"6\"><span class=\"nlm-given-names\">Martin</span> <span class=\"nlm-surname\">Cohen-Gonsaud</span></span>, <span class=\"highwire-citation-author\" data-delta=\"7\"><span class=\"nlm-given-names\">Guillaume</span> <span class=\"nlm-surname\">Cambray</span></span>, <span class=\"highwire-citation-author\" data-delta=\"8\"><span class=\"nlm-given-names\">Georges-Philippe</span> <span class=\"nlm-surname\">Pageaux</span></span>, <span class=\"highwire-citation-author\" data-delta=\"9\"><span class=\"nlm-given-names\">Magdalena</span> <span class=\"nlm-surname\">Meszaros</span></span>, <span class=\"highwire-citation-author\" data-delta=\"10\"><span class=\"nlm-given-names\">Lucy</span> <span class=\"nlm-surname\">Meunier</span></span>, <span class=\"highwire-citation-author\" data-delta=\"11\"><span class=\"nlm-given-names\">Jerome</span> <span class=\"nlm-surname\">Bonnet</span></span></span></div>\n",
       " <div class=\"highwire-cite-metadata\"><span class=\"highwire-cite-metadata-journal highwire-cite-metadata\">bioRxiv </span><span class=\"highwire-cite-metadata-pages highwire-cite-metadata\">2021.03.24.436753; </span><span class=\"highwire-cite-metadata-doi highwire-cite-metadata\"><span class=\"doi_label\">doi:</span> https://doi.org/10.1101/2021.03.24.436753 </span><span class=\"highwire-cite-metadata-overline highwire-cite-metadata\">New Results </span></div>\n",
       " <div class=\"highwire-cite-extras\"><div class=\"hw-make-citation\" data-encoded-apath=\";biorxiv;early;2021;03;29;2021.03.24.436753.atom\" data-seqnum=\"1869724\" id=\"hw-make-citation-1869724\"><a class=\"link-save-citation-save use-ajax hw-link-save-unsave-catation link-icon\" href=\"/highwire-save-citation/saveapath/%3Bbiorxiv%3Bearly%3B2021%3B03%3B29%3B2021.03.24.436753.atom/nojs/1869724\" id=\"link-save-citation-toggle-1869724\" title=\"Save\"><i class=\"icon-plus\"></i> <span class=\"title\">Add to Selected Citations</span></a></div></div>\n",
       " </div>\n",
       " </div></li>,\n",
       " <li class=\"even\"><div class=\"highwire-article-citation highwire-citation-type-highwire-article tooltip-enable\" data-apath=\"/biorxiv/early/2021/03/29/2021.03.28.437402.atom\" data-hw-abstract-tooltip-instance=\"highwire_abstract_tooltip\" data-node-nid=\"1869578\" data-pisa=\"biorxiv;2021.03.28.437402v1\" data-pisa-master=\"biorxiv;2021.03.28.437402\" data-seqnum=\"1869578\" data-url=\"/highwire/article_citation_preview/1869578\" id=\"node1869578\" title=\"Combining evolutionary and assay-labelled data for protein fitness prediction\"><div class=\"highwire-cite highwire-cite-highwire-article highwire-citation-biorxiv-article-pap-list-overline clearfix\">\n",
       " <span class=\"highwire-cite-title\">\n",
       " <a class=\"highwire-cite-linked-title\" data-hide-link-title=\"0\" data-icon-position=\"\" href=\"/content/10.1101/2021.03.28.437402v1\"><span class=\"highwire-cite-title\">Combining evolutionary and assay-labelled data for protein fitness prediction</span></a> </span>\n",
       " <div class=\"highwire-cite-authors\"><span class=\"highwire-citation-authors\"><span class=\"highwire-citation-author first\" data-delta=\"0\"><span class=\"nlm-given-names\">Chloe</span> <span class=\"nlm-surname\">Hsu</span></span>, <span class=\"highwire-citation-author\" data-delta=\"1\"><span class=\"nlm-given-names\">Hunter</span> <span class=\"nlm-surname\">Nisonoff</span></span>, <span class=\"highwire-citation-author\" data-delta=\"2\"><span class=\"nlm-given-names\">Clara</span> <span class=\"nlm-surname\">Fannjiang</span></span>, <span class=\"highwire-citation-author\" data-delta=\"3\"><span class=\"nlm-given-names\">Jennifer</span> <span class=\"nlm-surname\">Listgarten</span></span></span></div>\n",
       " <div class=\"highwire-cite-metadata\"><span class=\"highwire-cite-metadata-journal highwire-cite-metadata\">bioRxiv </span><span class=\"highwire-cite-metadata-pages highwire-cite-metadata\">2021.03.28.437402; </span><span class=\"highwire-cite-metadata-doi highwire-cite-metadata\"><span class=\"doi_label\">doi:</span> https://doi.org/10.1101/2021.03.28.437402 </span><span class=\"highwire-cite-metadata-overline highwire-cite-metadata\">New Results </span></div>\n",
       " <div class=\"highwire-cite-extras\"><div class=\"hw-make-citation\" data-encoded-apath=\";biorxiv;early;2021;03;29;2021.03.28.437402.atom\" data-seqnum=\"1869578\" id=\"hw-make-citation-1869578\"><a class=\"link-save-citation-save use-ajax hw-link-save-unsave-catation link-icon\" href=\"/highwire-save-citation/saveapath/%3Bbiorxiv%3Bearly%3B2021%3B03%3B29%3B2021.03.28.437402.atom/nojs/1869578\" id=\"link-save-citation-toggle-1869578\" title=\"Save\"><i class=\"icon-plus\"></i> <span class=\"title\">Add to Selected Citations</span></a></div></div>\n",
       " </div>\n",
       " </div></li>,\n",
       " <li class=\"odd\"><div class=\"highwire-article-citation highwire-citation-type-highwire-article tooltip-enable\" data-apath=\"/biorxiv/early/2021/03/28/2021.02.19.432011.atom\" data-hw-abstract-tooltip-instance=\"highwire_abstract_tooltip\" data-node-nid=\"1867234\" data-pisa=\"biorxiv;2021.02.19.432011v2\" data-pisa-master=\"biorxiv;2021.02.19.432011\" data-seqnum=\"1867234\" data-url=\"/highwire/article_citation_preview/1867234\" id=\"node1867234\" title=\"Bulk-assembly of monodisperse coacervates and giant unilamellar vesicles with programmable hierarchical complexity\"><div class=\"highwire-cite highwire-cite-highwire-article highwire-citation-biorxiv-article-pap-list-overline clearfix\">\n",
       " <span class=\"highwire-cite-title\">\n",
       " <a class=\"highwire-cite-linked-title\" data-hide-link-title=\"0\" data-icon-position=\"\" href=\"/content/10.1101/2021.02.19.432011v2\"><span class=\"highwire-cite-title\">Bulk-assembly of monodisperse coacervates and giant unilamellar vesicles with programmable hierarchical complexity</span></a> </span>\n",
       " <div class=\"highwire-cite-authors\"><span class=\"highwire-citation-authors\"><span class=\"highwire-citation-author first\" data-delta=\"0\"><span class=\"nlm-given-names\">Qingchuan</span> <span class=\"nlm-surname\">Li</span></span>, <span class=\"highwire-citation-author\" data-delta=\"1\"><span class=\"nlm-given-names\">Qingchun</span> <span class=\"nlm-surname\">Song</span></span>, <span class=\"highwire-citation-author\" data-delta=\"2\"><span class=\"nlm-given-names\">Jing</span> <span class=\"nlm-surname\">Wei</span></span>, <span class=\"highwire-citation-author\" data-delta=\"3\"><span class=\"nlm-given-names\">Yang</span> <span class=\"nlm-surname\">Cao</span></span>, <span class=\"highwire-citation-author\" data-delta=\"4\"><span class=\"nlm-given-names\">Xinyu</span> <span class=\"nlm-surname\">Cui</span></span>, <span class=\"highwire-citation-author\" data-delta=\"5\"><span class=\"nlm-given-names\">Dairong</span> <span class=\"nlm-surname\">Chen</span></span>, <span class=\"highwire-citation-author\" data-delta=\"6\"><span class=\"nlm-given-names\">Ho</span> <span class=\"nlm-surname\">Cheung Shum</span></span></span></div>\n",
       " <div class=\"highwire-cite-metadata\"><span class=\"highwire-cite-metadata-journal highwire-cite-metadata\">bioRxiv </span><span class=\"highwire-cite-metadata-pages highwire-cite-metadata\">2021.02.19.432011; </span><span class=\"highwire-cite-metadata-doi highwire-cite-metadata\"><span class=\"doi_label\">doi:</span> https://doi.org/10.1101/2021.02.19.432011 </span><span class=\"highwire-cite-metadata-overline highwire-cite-metadata\">New Results </span></div>\n",
       " <div class=\"highwire-cite-extras\"><div class=\"hw-make-citation\" data-encoded-apath=\";biorxiv;early;2021;03;28;2021.02.19.432011.atom\" data-seqnum=\"1867234\" id=\"hw-make-citation-1867234\"><a class=\"link-save-citation-save use-ajax hw-link-save-unsave-catation link-icon\" href=\"/highwire-save-citation/saveapath/%3Bbiorxiv%3Bearly%3B2021%3B03%3B28%3B2021.02.19.432011.atom/nojs/1867234\" id=\"link-save-citation-toggle-1867234\" title=\"Save\"><i class=\"icon-plus\"></i> <span class=\"title\">Add to Selected Citations</span></a></div></div>\n",
       " </div>\n",
       " </div></li>,\n",
       " <li class=\"even\"><div class=\"highwire-article-citation highwire-citation-type-highwire-article tooltip-enable\" data-apath=\"/biorxiv/early/2021/03/27/2021.03.26.437171.atom\" data-hw-abstract-tooltip-instance=\"highwire_abstract_tooltip\" data-node-nid=\"1866303\" data-pisa=\"biorxiv;2021.03.26.437171v1\" data-pisa-master=\"biorxiv;2021.03.26.437171\" data-seqnum=\"1866303\" data-url=\"/highwire/article_citation_preview/1866303\" id=\"node1866303\" title=\"Low-cost drug discovery with engineered E. coli reveals an anti-mycobacterial activity of benazepril\"><div class=\"highwire-cite highwire-cite-highwire-article highwire-citation-biorxiv-article-pap-list-overline clearfix\">\n",
       " <span class=\"highwire-cite-title\">\n",
       " <a class=\"highwire-cite-linked-title\" data-hide-link-title=\"0\" data-icon-position=\"\" href=\"/content/10.1101/2021.03.26.437171v1\"><span class=\"highwire-cite-title\">Low-cost drug discovery with engineered <em>E. coli</em> reveals an anti-mycobacterial activity of benazepril</span></a> </span>\n",
       " <div class=\"highwire-cite-authors\"><span class=\"highwire-citation-authors\"><span class=\"highwire-citation-author first\" data-delta=\"0\"><span class=\"nlm-given-names\">Nadine</span> <span class=\"nlm-surname\">Bongaerts</span></span>, <span class=\"highwire-citation-author\" data-delta=\"1\"><span class=\"nlm-given-names\">Zainab</span> <span class=\"nlm-surname\">Edoo</span></span>, <span class=\"highwire-citation-author\" data-delta=\"2\"><span class=\"nlm-given-names\">Ayan A.</span> <span class=\"nlm-surname\">Abukar</span></span>, <span class=\"highwire-citation-author\" data-delta=\"3\"><span class=\"nlm-given-names\">Xiaohu</span> <span class=\"nlm-surname\">Song</span></span>, <span class=\"highwire-citation-author\" data-delta=\"4\"><span class=\"nlm-given-names\">Sebastián</span> <span class=\"nlm-surname\">Sosa Carrillo</span></span>, <span class=\"highwire-citation-author\" data-delta=\"5\"><span class=\"nlm-given-names\">Ariel B.</span> <span class=\"nlm-surname\">Lindner</span></span>, <span class=\"highwire-citation-author\" data-delta=\"6\"><span class=\"nlm-given-names\">Edwin H.</span> <span class=\"nlm-surname\">Wintermute</span></span></span></div>\n",
       " <div class=\"highwire-cite-metadata\"><span class=\"highwire-cite-metadata-journal highwire-cite-metadata\">bioRxiv </span><span class=\"highwire-cite-metadata-pages highwire-cite-metadata\">2021.03.26.437171; </span><span class=\"highwire-cite-metadata-doi highwire-cite-metadata\"><span class=\"doi_label\">doi:</span> https://doi.org/10.1101/2021.03.26.437171 </span><span class=\"highwire-cite-metadata-overline highwire-cite-metadata\">New Results </span></div>\n",
       " <div class=\"highwire-cite-extras\"><div class=\"hw-make-citation\" data-encoded-apath=\";biorxiv;early;2021;03;27;2021.03.26.437171.atom\" data-seqnum=\"1866303\" id=\"hw-make-citation-1866303\"><a class=\"link-save-citation-save use-ajax hw-link-save-unsave-catation link-icon\" href=\"/highwire-save-citation/saveapath/%3Bbiorxiv%3Bearly%3B2021%3B03%3B27%3B2021.03.26.437171.atom/nojs/1866303\" id=\"link-save-citation-toggle-1866303\" title=\"Save\"><i class=\"icon-plus\"></i> <span class=\"title\">Add to Selected Citations</span></a></div></div>\n",
       " </div>\n",
       " </div></li>,\n",
       " <li class=\"odd\"><div class=\"highwire-article-citation highwire-citation-type-highwire-article tooltip-enable\" data-apath=\"/biorxiv/early/2021/03/26/2021.03.26.437105.atom\" data-hw-abstract-tooltip-instance=\"highwire_abstract_tooltip\" data-node-nid=\"1864526\" data-pisa=\"biorxiv;2021.03.26.437105v1\" data-pisa-master=\"biorxiv;2021.03.26.437105\" data-seqnum=\"1864526\" data-url=\"/highwire/article_citation_preview/1864526\" id=\"node1864526\" title=\"The Marburg Collection: A Golden Gate DNA Assembly Framework for Synthetic Biology Applications in Vibrio natriegens\"><div class=\"highwire-cite highwire-cite-highwire-article highwire-citation-biorxiv-article-pap-list-overline clearfix\">\n",
       " <span class=\"highwire-cite-title\">\n",
       " <a class=\"highwire-cite-linked-title\" data-hide-link-title=\"0\" data-icon-position=\"\" href=\"/content/10.1101/2021.03.26.437105v1\"><span class=\"highwire-cite-title\">The Marburg Collection: A Golden Gate DNA Assembly Framework for Synthetic Biology Applications in <em>Vibrio natriegens</em></span></a> </span>\n",
       " <div class=\"highwire-cite-authors\"><span class=\"highwire-citation-authors\"><span class=\"highwire-citation-author first\" data-delta=\"0\"><span class=\"nlm-given-names\">Daniel</span> <span class=\"nlm-surname\">Stukenberg</span></span>, <span class=\"highwire-citation-author\" data-delta=\"1\"><span class=\"nlm-given-names\">Tobias</span> <span class=\"nlm-surname\">Hensel</span></span>, <span class=\"highwire-citation-author\" data-delta=\"2\"><span class=\"nlm-given-names\">Josef</span> <span class=\"nlm-surname\">Hoff</span></span>, <span class=\"highwire-citation-author\" data-delta=\"3\"><span class=\"nlm-given-names\">Benjamin</span> <span class=\"nlm-surname\">Daniel</span></span>, <span class=\"highwire-citation-author\" data-delta=\"4\"><span class=\"nlm-given-names\">René</span> <span class=\"nlm-surname\">Inckemann</span></span>, <span class=\"highwire-citation-author\" data-delta=\"5\"><span class=\"nlm-given-names\">Jamie N.</span> <span class=\"nlm-surname\">Tedeschi</span></span>, <span class=\"highwire-citation-author\" data-delta=\"6\"><span class=\"nlm-given-names\">Franziska</span> <span class=\"nlm-surname\">Nousch</span></span>, <span class=\"highwire-citation-author\" data-delta=\"7\"><span class=\"nlm-given-names\">Georg</span> <span class=\"nlm-surname\">Fritz</span></span></span></div>\n",
       " <div class=\"highwire-cite-metadata\"><span class=\"highwire-cite-metadata-journal highwire-cite-metadata\">bioRxiv </span><span class=\"highwire-cite-metadata-pages highwire-cite-metadata\">2021.03.26.437105; </span><span class=\"highwire-cite-metadata-doi highwire-cite-metadata\"><span class=\"doi_label\">doi:</span> https://doi.org/10.1101/2021.03.26.437105 </span><span class=\"highwire-cite-metadata-overline highwire-cite-metadata\">New Results </span></div>\n",
       " <div class=\"highwire-cite-extras\"><div class=\"hw-make-citation\" data-encoded-apath=\";biorxiv;early;2021;03;26;2021.03.26.437105.atom\" data-seqnum=\"1864526\" id=\"hw-make-citation-1864526\"><a class=\"link-save-citation-save use-ajax hw-link-save-unsave-catation link-icon\" href=\"/highwire-save-citation/saveapath/%3Bbiorxiv%3Bearly%3B2021%3B03%3B26%3B2021.03.26.437105.atom/nojs/1864526\" id=\"link-save-citation-toggle-1864526\" title=\"Save\"><i class=\"icon-plus\"></i> <span class=\"title\">Add to Selected Citations</span></a></div></div>\n",
       " </div>\n",
       " </div></li>,\n",
       " <li class=\"even\"><div class=\"highwire-article-citation highwire-citation-type-highwire-article tooltip-enable\" data-apath=\"/biorxiv/early/2021/03/26/2021.03.26.437017.atom\" data-hw-abstract-tooltip-instance=\"highwire_abstract_tooltip\" data-node-nid=\"1864487\" data-pisa=\"biorxiv;2021.03.26.437017v1\" data-pisa-master=\"biorxiv;2021.03.26.437017\" data-seqnum=\"1864487\" data-url=\"/highwire/article_citation_preview/1864487\" id=\"node1864487\" title=\"Improved architectures for flexible DNA production using retrons across kingdoms of life\"><div class=\"highwire-cite highwire-cite-highwire-article highwire-citation-biorxiv-article-pap-list-overline clearfix\">\n",
       " <span class=\"highwire-cite-title\">\n",
       " <a class=\"highwire-cite-linked-title\" data-hide-link-title=\"0\" data-icon-position=\"\" href=\"/content/10.1101/2021.03.26.437017v1\"><span class=\"highwire-cite-title\">Improved architectures for flexible DNA production using retrons across kingdoms of life</span></a> </span>\n",
       " <div class=\"highwire-cite-authors\"><span class=\"highwire-citation-authors\"><span class=\"highwire-citation-author first\" data-delta=\"0\"><span class=\"nlm-given-names\">Santiago C.</span> <span class=\"nlm-surname\">Lopez</span></span>, <span class=\"highwire-citation-author\" data-delta=\"1\"><span class=\"nlm-given-names\">Kate D.</span> <span class=\"nlm-surname\">Crawford</span></span>, <span class=\"highwire-citation-author\" data-delta=\"2\"><span class=\"nlm-given-names\">Santi</span> <span class=\"nlm-surname\">Bhattarai-Kline</span></span>, <span class=\"highwire-citation-author\" data-delta=\"3\"><span class=\"nlm-given-names\">Seth L.</span> <span class=\"nlm-surname\">Shipman</span></span></span></div>\n",
       " <div class=\"highwire-cite-metadata\"><span class=\"highwire-cite-metadata-journal highwire-cite-metadata\">bioRxiv </span><span class=\"highwire-cite-metadata-pages highwire-cite-metadata\">2021.03.26.437017; </span><span class=\"highwire-cite-metadata-doi highwire-cite-metadata\"><span class=\"doi_label\">doi:</span> https://doi.org/10.1101/2021.03.26.437017 </span><span class=\"highwire-cite-metadata-overline highwire-cite-metadata\">New Results </span></div>\n",
       " <div class=\"highwire-cite-extras\"><div class=\"hw-make-citation\" data-encoded-apath=\";biorxiv;early;2021;03;26;2021.03.26.437017.atom\" data-seqnum=\"1864487\" id=\"hw-make-citation-1864487\"><a class=\"link-save-citation-save use-ajax hw-link-save-unsave-catation link-icon\" href=\"/highwire-save-citation/saveapath/%3Bbiorxiv%3Bearly%3B2021%3B03%3B26%3B2021.03.26.437017.atom/nojs/1864487\" id=\"link-save-citation-toggle-1864487\" title=\"Save\"><i class=\"icon-plus\"></i> <span class=\"title\">Add to Selected Citations</span></a></div></div>\n",
       " </div>\n",
       " </div></li>,\n",
       " <li class=\"odd\"><div class=\"highwire-article-citation highwire-citation-type-highwire-article tooltip-enable\" data-apath=\"/biorxiv/early/2021/03/25/2021.03.25.434639.atom\" data-hw-abstract-tooltip-instance=\"highwire_abstract_tooltip\" data-node-nid=\"1863221\" data-pisa=\"biorxiv;2021.03.25.434639v1\" data-pisa-master=\"biorxiv;2021.03.25.434639\" data-seqnum=\"1863221\" data-url=\"/highwire/article_citation_preview/1863221\" id=\"node1863221\" title=\"Acoustic Remote Control of Bacterial Immunotherapy\"><div class=\"highwire-cite highwire-cite-highwire-article highwire-citation-biorxiv-article-pap-list-overline clearfix\">\n",
       " <span class=\"highwire-cite-title\">\n",
       " <a class=\"highwire-cite-linked-title\" data-hide-link-title=\"0\" data-icon-position=\"\" href=\"/content/10.1101/2021.03.25.434639v1\"><span class=\"highwire-cite-title\">Acoustic Remote Control of Bacterial Immunotherapy</span></a> </span>\n",
       " <div class=\"highwire-cite-authors\"><span class=\"highwire-citation-authors\"><span class=\"highwire-citation-author first\" data-delta=\"0\"><span class=\"nlm-given-names\">Mohamad H.</span> <span class=\"nlm-surname\">Abedi</span></span>, <span class=\"highwire-citation-author\" data-delta=\"1\"><span class=\"nlm-given-names\">Michael S.</span> <span class=\"nlm-surname\">Yao</span></span>, <span class=\"highwire-citation-author\" data-delta=\"2\"><span class=\"nlm-given-names\">David R.</span> <span class=\"nlm-surname\">Mittelstein</span></span>, <span class=\"highwire-citation-author\" data-delta=\"3\"><span class=\"nlm-given-names\">Avinoam</span> <span class=\"nlm-surname\">Bar-Zion</span></span>, <span class=\"highwire-citation-author\" data-delta=\"4\"><span class=\"nlm-given-names\">Margaret</span> <span class=\"nlm-surname\">Swift</span></span>, <span class=\"highwire-citation-author\" data-delta=\"5\"><span class=\"nlm-given-names\">Audrey</span> <span class=\"nlm-surname\">Lee-Gosselin</span></span>, <span class=\"highwire-citation-author\" data-delta=\"6\"><span class=\"nlm-given-names\">Mikhail G.</span> <span class=\"nlm-surname\">Shapiro</span></span></span></div>\n",
       " <div class=\"highwire-cite-metadata\"><span class=\"highwire-cite-metadata-journal highwire-cite-metadata\">bioRxiv </span><span class=\"highwire-cite-metadata-pages highwire-cite-metadata\">2021.03.25.434639; </span><span class=\"highwire-cite-metadata-doi highwire-cite-metadata\"><span class=\"doi_label\">doi:</span> https://doi.org/10.1101/2021.03.25.434639 </span><span class=\"highwire-cite-metadata-overline highwire-cite-metadata\">New Results </span></div>\n",
       " <div class=\"highwire-cite-extras\"><div class=\"hw-make-citation\" data-encoded-apath=\";biorxiv;early;2021;03;25;2021.03.25.434639.atom\" data-seqnum=\"1863221\" id=\"hw-make-citation-1863221\"><a class=\"link-save-citation-save use-ajax hw-link-save-unsave-catation link-icon\" href=\"/highwire-save-citation/saveapath/%3Bbiorxiv%3Bearly%3B2021%3B03%3B25%3B2021.03.25.434639.atom/nojs/1863221\" id=\"link-save-citation-toggle-1863221\" title=\"Save\"><i class=\"icon-plus\"></i> <span class=\"title\">Add to Selected Citations</span></a></div></div>\n",
       " </div>\n",
       " </div></li>,\n",
       " <li class=\"even\"><div class=\"highwire-article-citation highwire-citation-type-highwire-article tooltip-enable\" data-apath=\"/biorxiv/early/2021/03/22/2020.11.25.398248.atom\" data-hw-abstract-tooltip-instance=\"highwire_abstract_tooltip\" data-node-nid=\"1857040\" data-pisa=\"biorxiv;2020.11.25.398248v2\" data-pisa-master=\"biorxiv;2020.11.25.398248\" data-seqnum=\"1857040\" data-url=\"/highwire/article_citation_preview/1857040\" id=\"node1857040\" title=\"Generating complex patterns of gene expression without regulatory circuits\"><div class=\"highwire-cite highwire-cite-highwire-article highwire-citation-biorxiv-article-pap-list-overline clearfix\">\n",
       " <span class=\"highwire-cite-title\">\n",
       " <a class=\"highwire-cite-linked-title\" data-hide-link-title=\"0\" data-icon-position=\"\" href=\"/content/10.1101/2020.11.25.398248v2\"><span class=\"highwire-cite-title\">Generating complex patterns of gene expression without regulatory circuits</span></a> </span>\n",
       " <div class=\"highwire-cite-authors\"><span class=\"highwire-citation-authors\"><span class=\"highwire-citation-author first\" data-delta=\"0\"><span class=\"nlm-given-names\">Sahil B.</span> <span class=\"nlm-surname\">Shah</span></span>, <span class=\"highwire-citation-author\" data-delta=\"1\"><span class=\"nlm-given-names\">Alexis M.</span> <span class=\"nlm-surname\">Hill</span></span>, <span class=\"highwire-citation-author\" data-delta=\"2\"><span class=\"nlm-given-names\">Claus O.</span> <span class=\"nlm-surname\">Wilke</span></span>, <span class=\"highwire-citation-author\" data-delta=\"3\"><span class=\"nlm-given-names\">Adam J.</span> <span class=\"nlm-surname\">Hockenberry</span></span></span></div>\n",
       " <div class=\"highwire-cite-metadata\"><span class=\"highwire-cite-metadata-journal highwire-cite-metadata\">bioRxiv </span><span class=\"highwire-cite-metadata-pages highwire-cite-metadata\">2020.11.25.398248; </span><span class=\"highwire-cite-metadata-doi highwire-cite-metadata\"><span class=\"doi_label\">doi:</span> https://doi.org/10.1101/2020.11.25.398248 </span><span class=\"highwire-cite-metadata-overline highwire-cite-metadata\">New Results </span></div>\n",
       " <div class=\"highwire-cite-extras\"><div class=\"hw-make-citation\" data-encoded-apath=\";biorxiv;early;2021;03;22;2020.11.25.398248.atom\" data-seqnum=\"1857040\" id=\"hw-make-citation-1857040\"><a class=\"link-save-citation-save use-ajax hw-link-save-unsave-catation link-icon\" href=\"/highwire-save-citation/saveapath/%3Bbiorxiv%3Bearly%3B2021%3B03%3B22%3B2020.11.25.398248.atom/nojs/1857040\" id=\"link-save-citation-toggle-1857040\" title=\"Save\"><i class=\"icon-plus\"></i> <span class=\"title\">Add to Selected Citations</span></a></div></div>\n",
       " </div>\n",
       " </div></li>,\n",
       " <li class=\"odd\"><div class=\"highwire-article-citation highwire-citation-type-highwire-article tooltip-enable\" data-apath=\"/biorxiv/early/2021/03/22/2021.03.21.436342.atom\" data-hw-abstract-tooltip-instance=\"highwire_abstract_tooltip\" data-node-nid=\"1856078\" data-pisa=\"biorxiv;2021.03.21.436342v1\" data-pisa-master=\"biorxiv;2021.03.21.436342\" data-seqnum=\"1856078\" data-url=\"/highwire/article_citation_preview/1856078\" id=\"node1856078\" title=\"A Class of Simple Biomolecular Antithetic Proportional-Integral-Derivative Controllers\"><div class=\"highwire-cite highwire-cite-highwire-article highwire-citation-biorxiv-article-pap-list-overline clearfix\">\n",
       " <span class=\"highwire-cite-title\">\n",
       " <a class=\"highwire-cite-linked-title\" data-hide-link-title=\"0\" data-icon-position=\"\" href=\"/content/10.1101/2021.03.21.436342v1\"><span class=\"highwire-cite-title\">A Class of Simple Biomolecular Antithetic Proportional-Integral-Derivative Controllers</span></a> </span>\n",
       " <div class=\"highwire-cite-authors\"><span class=\"highwire-citation-authors\"><span class=\"highwire-citation-author first\" data-delta=\"0\"><span class=\"nlm-given-names\">Maurice</span> <span class=\"nlm-surname\">Filo</span></span>, <span class=\"highwire-citation-author\" data-delta=\"1\"><span class=\"nlm-given-names\">Mustafa</span> <span class=\"nlm-surname\">Khammash</span></span></span></div>\n",
       " <div class=\"highwire-cite-metadata\"><span class=\"highwire-cite-metadata-journal highwire-cite-metadata\">bioRxiv </span><span class=\"highwire-cite-metadata-pages highwire-cite-metadata\">2021.03.21.436342; </span><span class=\"highwire-cite-metadata-doi highwire-cite-metadata\"><span class=\"doi_label\">doi:</span> https://doi.org/10.1101/2021.03.21.436342 </span><span class=\"highwire-cite-metadata-overline highwire-cite-metadata\">New Results </span></div>\n",
       " <div class=\"highwire-cite-extras\"><div class=\"hw-make-citation\" data-encoded-apath=\";biorxiv;early;2021;03;22;2021.03.21.436342.atom\" data-seqnum=\"1856078\" id=\"hw-make-citation-1856078\"><a class=\"link-save-citation-save use-ajax hw-link-save-unsave-catation link-icon\" href=\"/highwire-save-citation/saveapath/%3Bbiorxiv%3Bearly%3B2021%3B03%3B22%3B2021.03.21.436342.atom/nojs/1856078\" id=\"link-save-citation-toggle-1856078\" title=\"Save\"><i class=\"icon-plus\"></i> <span class=\"title\">Add to Selected Citations</span></a></div></div>\n",
       " </div>\n",
       " </div></li>,\n",
       " <li class=\"last even\"><div class=\"highwire-article-citation highwire-citation-type-highwire-article tooltip-enable\" data-apath=\"/biorxiv/early/2021/03/18/2021.03.17.435894.atom\" data-hw-abstract-tooltip-instance=\"highwire_abstract_tooltip\" data-node-nid=\"1850422\" data-pisa=\"biorxiv;2021.03.17.435894v1\" data-pisa-master=\"biorxiv;2021.03.17.435894\" data-seqnum=\"1850422\" data-url=\"/highwire/article_citation_preview/1850422\" id=\"node1850422\" title=\"Efficiency of the synthetic self-splicing RiboJ ribozyme is robust to cis- and trans-changes in genetic background\"><div class=\"highwire-cite highwire-cite-highwire-article highwire-citation-biorxiv-article-pap-list-overline clearfix\">\n",
       " <span class=\"highwire-cite-title\">\n",
       " <a class=\"highwire-cite-linked-title\" data-hide-link-title=\"0\" data-icon-position=\"\" href=\"/content/10.1101/2021.03.17.435894v1\"><span class=\"highwire-cite-title\">Efficiency of the synthetic self-splicing RiboJ ribozyme is robust to <em>cis</em>- and <em>trans</em>-changes in genetic background</span></a> </span>\n",
       " <div class=\"highwire-cite-authors\"><span class=\"highwire-citation-authors\"><span class=\"highwire-citation-author first\" data-delta=\"0\"><span class=\"nlm-given-names\">Markéta</span> <span class=\"nlm-surname\">Vlková</span></span>, <span class=\"highwire-citation-author\" data-delta=\"1\"><span class=\"nlm-given-names\">Bhargava Reddy</span> <span class=\"nlm-surname\">Morampalli</span></span>, <span class=\"highwire-citation-author\" data-delta=\"2\"><span class=\"nlm-given-names\">Olin K.</span> <span class=\"nlm-surname\">Silander</span></span></span></div>\n",
       " <div class=\"highwire-cite-metadata\"><span class=\"highwire-cite-metadata-journal highwire-cite-metadata\">bioRxiv </span><span class=\"highwire-cite-metadata-pages highwire-cite-metadata\">2021.03.17.435894; </span><span class=\"highwire-cite-metadata-doi highwire-cite-metadata\"><span class=\"doi_label\">doi:</span> https://doi.org/10.1101/2021.03.17.435894 </span><span class=\"highwire-cite-metadata-overline highwire-cite-metadata\">New Results </span></div>\n",
       " <div class=\"highwire-cite-extras\"><div class=\"hw-make-citation\" data-encoded-apath=\";biorxiv;early;2021;03;18;2021.03.17.435894.atom\" data-seqnum=\"1850422\" id=\"hw-make-citation-1850422\"><a class=\"link-save-citation-save use-ajax hw-link-save-unsave-catation link-icon\" href=\"/highwire-save-citation/saveapath/%3Bbiorxiv%3Bearly%3B2021%3B03%3B18%3B2021.03.17.435894.atom/nojs/1850422\" id=\"link-save-citation-toggle-1850422\" title=\"Save\"><i class=\"icon-plus\"></i> <span class=\"title\">Add to Selected Citations</span></a></div></div>\n",
       " </div>\n",
       " </div></li>,\n",
       " <li class=\"pager-next first last odd\"><a class=\"link-icon link-icon-after\" href=\"/collection/synthetic-biology?page=1\">Next <i class=\"icon-circle-arrow-right\"></i></a></li>,\n",
       " <li class=\"pager-current first odd\">1</li>,\n",
       " <li class=\"pager-item even\"><a href=\"/collection/synthetic-biology?page=1\" title=\"Go to page 2\">2</a></li>,\n",
       " <li class=\"pager-item odd\"><a href=\"/collection/synthetic-biology?page=2\" title=\"Go to page 3\">3</a></li>,\n",
       " <li class=\"pager-item even\"><a href=\"/collection/synthetic-biology?page=3\" title=\"Go to page 4\">4</a></li>,\n",
       " <li class=\"pager-item odd\"><a href=\"/collection/synthetic-biology?page=4\" title=\"Go to page 5\">5</a></li>,\n",
       " <li class=\"pager-item even\"><a href=\"/collection/synthetic-biology?page=5\" title=\"Go to page 6\">6</a></li>,\n",
       " <li class=\"pager-item odd\"><a href=\"/collection/synthetic-biology?page=6\" title=\"Go to page 7\">7</a></li>,\n",
       " <li class=\"pager-item even\"><a href=\"/collection/synthetic-biology?page=7\" title=\"Go to page 8\">8</a></li>,\n",
       " <li class=\"pager-item odd\"><a href=\"/collection/synthetic-biology?page=8\" title=\"Go to page 9\">9</a></li>,\n",
       " <li class=\"pager-ellipsis even\">…</li>,\n",
       " <li class=\"pager-last last odd\"><a href=\"/collection/synthetic-biology?page=103\" title=\"Go to page 104\">104</a></li>]"
      ]
     },
     "execution_count": 93,
     "metadata": {},
     "output_type": "execute_result"
    }
   ],
   "source": [
    "results"
   ]
  },
  {
   "cell_type": "code",
   "execution_count": 124,
   "id": "clean-technician",
   "metadata": {},
   "outputs": [
    {
     "name": "stdout",
     "output_type": "stream",
     "text": [
      "<span class=\"highwire-cite-title\">\n",
      "<a class=\"highwire-cite-linked-title\" data-hide-link-title=\"0\" data-icon-position=\"\" href=\"/content/10.1101/2021.03.24.436753v1\"><span class=\"highwire-cite-title\">A synthetic receptor platform enables rapid and portable monitoring of liver dysfunction via engineered bacteria.</span></a> </span>\n",
      "<span class=\"highwire-cite-title\">\n",
      "<a class=\"highwire-cite-linked-title\" data-hide-link-title=\"0\" data-icon-position=\"\" href=\"/content/10.1101/2021.03.28.437402v1\"><span class=\"highwire-cite-title\">Combining evolutionary and assay-labelled data for protein fitness prediction</span></a> </span>\n",
      "<span class=\"highwire-cite-title\">\n",
      "<a class=\"highwire-cite-linked-title\" data-hide-link-title=\"0\" data-icon-position=\"\" href=\"/content/10.1101/2021.02.19.432011v2\"><span class=\"highwire-cite-title\">Bulk-assembly of monodisperse coacervates and giant unilamellar vesicles with programmable hierarchical complexity</span></a> </span>\n",
      "<span class=\"highwire-cite-title\">\n",
      "<a class=\"highwire-cite-linked-title\" data-hide-link-title=\"0\" data-icon-position=\"\" href=\"/content/10.1101/2021.03.26.437171v1\"><span class=\"highwire-cite-title\">Low-cost drug discovery with engineered <em>E. coli</em> reveals an anti-mycobacterial activity of benazepril</span></a> </span>\n",
      "<span class=\"highwire-cite-title\">\n",
      "<a class=\"highwire-cite-linked-title\" data-hide-link-title=\"0\" data-icon-position=\"\" href=\"/content/10.1101/2021.03.26.437105v1\"><span class=\"highwire-cite-title\">The Marburg Collection: A Golden Gate DNA Assembly Framework for Synthetic Biology Applications in <em>Vibrio natriegens</em></span></a> </span>\n",
      "<span class=\"highwire-cite-title\">\n",
      "<a class=\"highwire-cite-linked-title\" data-hide-link-title=\"0\" data-icon-position=\"\" href=\"/content/10.1101/2021.03.26.437017v1\"><span class=\"highwire-cite-title\">Improved architectures for flexible DNA production using retrons across kingdoms of life</span></a> </span>\n",
      "<span class=\"highwire-cite-title\">\n",
      "<a class=\"highwire-cite-linked-title\" data-hide-link-title=\"0\" data-icon-position=\"\" href=\"/content/10.1101/2021.03.25.434639v1\"><span class=\"highwire-cite-title\">Acoustic Remote Control of Bacterial Immunotherapy</span></a> </span>\n",
      "<span class=\"highwire-cite-title\">\n",
      "<a class=\"highwire-cite-linked-title\" data-hide-link-title=\"0\" data-icon-position=\"\" href=\"/content/10.1101/2020.11.25.398248v2\"><span class=\"highwire-cite-title\">Generating complex patterns of gene expression without regulatory circuits</span></a> </span>\n",
      "<span class=\"highwire-cite-title\">\n",
      "<a class=\"highwire-cite-linked-title\" data-hide-link-title=\"0\" data-icon-position=\"\" href=\"/content/10.1101/2021.03.21.436342v1\"><span class=\"highwire-cite-title\">A Class of Simple Biomolecular Antithetic Proportional-Integral-Derivative Controllers</span></a> </span>\n",
      "<span class=\"highwire-cite-title\">\n",
      "<a class=\"highwire-cite-linked-title\" data-hide-link-title=\"0\" data-icon-position=\"\" href=\"/content/10.1101/2021.03.17.435894v1\"><span class=\"highwire-cite-title\">Efficiency of the synthetic self-splicing RiboJ ribozyme is robust to <em>cis</em>- and <em>trans</em>-changes in genetic background</span></a> </span>\n"
     ]
    }
   ],
   "source": [
    "s=(res.find('span', attrs = {'class': 'highwire-cite-title'}) for res in results if res.find('span', attrs = {'class': 'highwire-cite-title'}) != None)\n",
    "        \n",
    "for y in s:\n",
    "    print(y)"
   ]
  },
  {
   "cell_type": "markdown",
   "id": "middle-concentration",
   "metadata": {},
   "source": [
    "We create three empty lists to save the information"
   ]
  },
  {
   "cell_type": "code",
   "execution_count": 91,
   "id": "adequate-northern",
   "metadata": {},
   "outputs": [],
   "source": [
    "titles_list  = [] # to save titles\n",
    "authors_list = [] # to save authors\n",
    "pdf_link_list = [] # to save links\n"
   ]
  },
  {
   "cell_type": "markdown",
   "id": "seasonal-buffalo",
   "metadata": {},
   "source": [
    "Now we iterate within `results`  going tag by tag until reaching our needed content"
   ]
  },
  {
   "cell_type": "code",
   "execution_count": 131,
   "id": "italic-preview",
   "metadata": {},
   "outputs": [],
   "source": [
    "for res in results:\n",
    "    title = (res.find('span', attrs = {'class': 'highwire-cite-title'}) for res in results if res.find('span', attrs = {'class': 'highwire-cite-title'}))# access the title tag\n",
    "    link_content = (res.find('span', attrs = {'class': 'highwire-cite-title'}) for res in results if res.find('span', attrs = {'class': 'highwire-cite-title'}) != None)\n",
    " # access the link tag\n",
    "    link_content = (link.find('a') for link in link_content) # then to the span tag within the previous tag\n",
    "    links = ['https://www.biorxiv.org'+link.attrs.get('href') for link in link_content] # we iterate and extract the href attribute \n",
    "    authors = (res.find('span', attrs = {'class': 'highwire-citation-authors'}) for res in results if res.find('span', attrs = {'class': 'highwire-citation-authors'})!=None) # access the authors tag\n",
    " \n",
    "    # Saves the paper title\n",
    "    for tit in title:\n",
    "        titles_list.append(tit.text.strip())\n",
    "    \n",
    "    # Saves the authors \n",
    "    for aut in authors:\n",
    "        authors_list.append(aut.text.strip())\n",
    "    \n",
    "    # The first link will always be pdf \n",
    "    pdf_link_list.append(links[0])"
   ]
  },
  {
   "cell_type": "code",
   "execution_count": 133,
   "id": "fatal-sister",
   "metadata": {},
   "outputs": [
    {
     "data": {
      "text/plain": [
       "['Hung-Ju Chang, Ana Zuniga, Ismael Conejero, Peter L Voyvodic, Jerome Gracy, Elena Fajardo-Ruiz, Martin Cohen-Gonsaud, Guillaume Cambray, Georges-Philippe Pageaux, Magdalena Meszaros, Lucy Meunier, Jerome Bonnet',\n",
       " 'Chloe Hsu, Hunter Nisonoff, Clara Fannjiang, Jennifer Listgarten',\n",
       " 'Qingchuan Li, Qingchun Song, Jing Wei, Yang Cao, Xinyu Cui, Dairong Chen, Ho Cheung Shum',\n",
       " 'Nadine Bongaerts, Zainab Edoo, Ayan A. Abukar, Xiaohu Song, Sebastián Sosa Carrillo, Ariel B. Lindner, Edwin H. Wintermute',\n",
       " 'Daniel Stukenberg, Tobias Hensel, Josef Hoff, Benjamin Daniel, René Inckemann, Jamie N. Tedeschi, Franziska Nousch, Georg Fritz',\n",
       " 'Santiago C. Lopez, Kate D. Crawford, Santi Bhattarai-Kline, Seth L. Shipman',\n",
       " 'Mohamad H. Abedi, Michael S. Yao, David R. Mittelstein, Avinoam Bar-Zion, Margaret Swift, Audrey Lee-Gosselin, Mikhail G. Shapiro',\n",
       " 'Sahil B. Shah, Alexis M. Hill, Claus O. Wilke, Adam J. Hockenberry',\n",
       " 'Maurice Filo, Mustafa Khammash',\n",
       " 'Markéta Vlková, Bhargava Reddy Morampalli, Olin K. Silander',\n",
       " 'Hung-Ju Chang, Ana Zuniga, Ismael Conejero, Peter L Voyvodic, Jerome Gracy, Elena Fajardo-Ruiz, Martin Cohen-Gonsaud, Guillaume Cambray, Georges-Philippe Pageaux, Magdalena Meszaros, Lucy Meunier, Jerome Bonnet',\n",
       " 'Chloe Hsu, Hunter Nisonoff, Clara Fannjiang, Jennifer Listgarten',\n",
       " 'Qingchuan Li, Qingchun Song, Jing Wei, Yang Cao, Xinyu Cui, Dairong Chen, Ho Cheung Shum',\n",
       " 'Nadine Bongaerts, Zainab Edoo, Ayan A. Abukar, Xiaohu Song, Sebastián Sosa Carrillo, Ariel B. Lindner, Edwin H. Wintermute',\n",
       " 'Daniel Stukenberg, Tobias Hensel, Josef Hoff, Benjamin Daniel, René Inckemann, Jamie N. Tedeschi, Franziska Nousch, Georg Fritz',\n",
       " 'Santiago C. Lopez, Kate D. Crawford, Santi Bhattarai-Kline, Seth L. Shipman',\n",
       " 'Mohamad H. Abedi, Michael S. Yao, David R. Mittelstein, Avinoam Bar-Zion, Margaret Swift, Audrey Lee-Gosselin, Mikhail G. Shapiro',\n",
       " 'Sahil B. Shah, Alexis M. Hill, Claus O. Wilke, Adam J. Hockenberry',\n",
       " 'Maurice Filo, Mustafa Khammash',\n",
       " 'Markéta Vlková, Bhargava Reddy Morampalli, Olin K. Silander',\n",
       " 'Hung-Ju Chang, Ana Zuniga, Ismael Conejero, Peter L Voyvodic, Jerome Gracy, Elena Fajardo-Ruiz, Martin Cohen-Gonsaud, Guillaume Cambray, Georges-Philippe Pageaux, Magdalena Meszaros, Lucy Meunier, Jerome Bonnet',\n",
       " 'Chloe Hsu, Hunter Nisonoff, Clara Fannjiang, Jennifer Listgarten',\n",
       " 'Qingchuan Li, Qingchun Song, Jing Wei, Yang Cao, Xinyu Cui, Dairong Chen, Ho Cheung Shum',\n",
       " 'Nadine Bongaerts, Zainab Edoo, Ayan A. Abukar, Xiaohu Song, Sebastián Sosa Carrillo, Ariel B. Lindner, Edwin H. Wintermute',\n",
       " 'Daniel Stukenberg, Tobias Hensel, Josef Hoff, Benjamin Daniel, René Inckemann, Jamie N. Tedeschi, Franziska Nousch, Georg Fritz',\n",
       " 'Santiago C. Lopez, Kate D. Crawford, Santi Bhattarai-Kline, Seth L. Shipman',\n",
       " 'Mohamad H. Abedi, Michael S. Yao, David R. Mittelstein, Avinoam Bar-Zion, Margaret Swift, Audrey Lee-Gosselin, Mikhail G. Shapiro',\n",
       " 'Sahil B. Shah, Alexis M. Hill, Claus O. Wilke, Adam J. Hockenberry',\n",
       " 'Maurice Filo, Mustafa Khammash',\n",
       " 'Markéta Vlková, Bhargava Reddy Morampalli, Olin K. Silander',\n",
       " 'Hung-Ju Chang, Ana Zuniga, Ismael Conejero, Peter L Voyvodic, Jerome Gracy, Elena Fajardo-Ruiz, Martin Cohen-Gonsaud, Guillaume Cambray, Georges-Philippe Pageaux, Magdalena Meszaros, Lucy Meunier, Jerome Bonnet',\n",
       " 'Chloe Hsu, Hunter Nisonoff, Clara Fannjiang, Jennifer Listgarten',\n",
       " 'Qingchuan Li, Qingchun Song, Jing Wei, Yang Cao, Xinyu Cui, Dairong Chen, Ho Cheung Shum',\n",
       " 'Nadine Bongaerts, Zainab Edoo, Ayan A. Abukar, Xiaohu Song, Sebastián Sosa Carrillo, Ariel B. Lindner, Edwin H. Wintermute',\n",
       " 'Daniel Stukenberg, Tobias Hensel, Josef Hoff, Benjamin Daniel, René Inckemann, Jamie N. Tedeschi, Franziska Nousch, Georg Fritz',\n",
       " 'Santiago C. Lopez, Kate D. Crawford, Santi Bhattarai-Kline, Seth L. Shipman',\n",
       " 'Mohamad H. Abedi, Michael S. Yao, David R. Mittelstein, Avinoam Bar-Zion, Margaret Swift, Audrey Lee-Gosselin, Mikhail G. Shapiro',\n",
       " 'Sahil B. Shah, Alexis M. Hill, Claus O. Wilke, Adam J. Hockenberry',\n",
       " 'Maurice Filo, Mustafa Khammash',\n",
       " 'Markéta Vlková, Bhargava Reddy Morampalli, Olin K. Silander',\n",
       " 'Hung-Ju Chang, Ana Zuniga, Ismael Conejero, Peter L Voyvodic, Jerome Gracy, Elena Fajardo-Ruiz, Martin Cohen-Gonsaud, Guillaume Cambray, Georges-Philippe Pageaux, Magdalena Meszaros, Lucy Meunier, Jerome Bonnet',\n",
       " 'Chloe Hsu, Hunter Nisonoff, Clara Fannjiang, Jennifer Listgarten',\n",
       " 'Qingchuan Li, Qingchun Song, Jing Wei, Yang Cao, Xinyu Cui, Dairong Chen, Ho Cheung Shum',\n",
       " 'Nadine Bongaerts, Zainab Edoo, Ayan A. Abukar, Xiaohu Song, Sebastián Sosa Carrillo, Ariel B. Lindner, Edwin H. Wintermute',\n",
       " 'Daniel Stukenberg, Tobias Hensel, Josef Hoff, Benjamin Daniel, René Inckemann, Jamie N. Tedeschi, Franziska Nousch, Georg Fritz',\n",
       " 'Santiago C. Lopez, Kate D. Crawford, Santi Bhattarai-Kline, Seth L. Shipman',\n",
       " 'Mohamad H. Abedi, Michael S. Yao, David R. Mittelstein, Avinoam Bar-Zion, Margaret Swift, Audrey Lee-Gosselin, Mikhail G. Shapiro',\n",
       " 'Sahil B. Shah, Alexis M. Hill, Claus O. Wilke, Adam J. Hockenberry',\n",
       " 'Maurice Filo, Mustafa Khammash',\n",
       " 'Markéta Vlková, Bhargava Reddy Morampalli, Olin K. Silander',\n",
       " 'Hung-Ju Chang, Ana Zuniga, Ismael Conejero, Peter L Voyvodic, Jerome Gracy, Elena Fajardo-Ruiz, Martin Cohen-Gonsaud, Guillaume Cambray, Georges-Philippe Pageaux, Magdalena Meszaros, Lucy Meunier, Jerome Bonnet',\n",
       " 'Chloe Hsu, Hunter Nisonoff, Clara Fannjiang, Jennifer Listgarten',\n",
       " 'Qingchuan Li, Qingchun Song, Jing Wei, Yang Cao, Xinyu Cui, Dairong Chen, Ho Cheung Shum',\n",
       " 'Nadine Bongaerts, Zainab Edoo, Ayan A. Abukar, Xiaohu Song, Sebastián Sosa Carrillo, Ariel B. Lindner, Edwin H. Wintermute',\n",
       " 'Daniel Stukenberg, Tobias Hensel, Josef Hoff, Benjamin Daniel, René Inckemann, Jamie N. Tedeschi, Franziska Nousch, Georg Fritz',\n",
       " 'Santiago C. Lopez, Kate D. Crawford, Santi Bhattarai-Kline, Seth L. Shipman',\n",
       " 'Mohamad H. Abedi, Michael S. Yao, David R. Mittelstein, Avinoam Bar-Zion, Margaret Swift, Audrey Lee-Gosselin, Mikhail G. Shapiro',\n",
       " 'Sahil B. Shah, Alexis M. Hill, Claus O. Wilke, Adam J. Hockenberry',\n",
       " 'Maurice Filo, Mustafa Khammash',\n",
       " 'Markéta Vlková, Bhargava Reddy Morampalli, Olin K. Silander',\n",
       " 'Hung-Ju Chang, Ana Zuniga, Ismael Conejero, Peter L Voyvodic, Jerome Gracy, Elena Fajardo-Ruiz, Martin Cohen-Gonsaud, Guillaume Cambray, Georges-Philippe Pageaux, Magdalena Meszaros, Lucy Meunier, Jerome Bonnet',\n",
       " 'Chloe Hsu, Hunter Nisonoff, Clara Fannjiang, Jennifer Listgarten',\n",
       " 'Qingchuan Li, Qingchun Song, Jing Wei, Yang Cao, Xinyu Cui, Dairong Chen, Ho Cheung Shum',\n",
       " 'Nadine Bongaerts, Zainab Edoo, Ayan A. Abukar, Xiaohu Song, Sebastián Sosa Carrillo, Ariel B. Lindner, Edwin H. Wintermute',\n",
       " 'Daniel Stukenberg, Tobias Hensel, Josef Hoff, Benjamin Daniel, René Inckemann, Jamie N. Tedeschi, Franziska Nousch, Georg Fritz',\n",
       " 'Santiago C. Lopez, Kate D. Crawford, Santi Bhattarai-Kline, Seth L. Shipman',\n",
       " 'Mohamad H. Abedi, Michael S. Yao, David R. Mittelstein, Avinoam Bar-Zion, Margaret Swift, Audrey Lee-Gosselin, Mikhail G. Shapiro',\n",
       " 'Sahil B. Shah, Alexis M. Hill, Claus O. Wilke, Adam J. Hockenberry',\n",
       " 'Maurice Filo, Mustafa Khammash',\n",
       " 'Markéta Vlková, Bhargava Reddy Morampalli, Olin K. Silander',\n",
       " 'Hung-Ju Chang, Ana Zuniga, Ismael Conejero, Peter L Voyvodic, Jerome Gracy, Elena Fajardo-Ruiz, Martin Cohen-Gonsaud, Guillaume Cambray, Georges-Philippe Pageaux, Magdalena Meszaros, Lucy Meunier, Jerome Bonnet',\n",
       " 'Chloe Hsu, Hunter Nisonoff, Clara Fannjiang, Jennifer Listgarten',\n",
       " 'Qingchuan Li, Qingchun Song, Jing Wei, Yang Cao, Xinyu Cui, Dairong Chen, Ho Cheung Shum',\n",
       " 'Nadine Bongaerts, Zainab Edoo, Ayan A. Abukar, Xiaohu Song, Sebastián Sosa Carrillo, Ariel B. Lindner, Edwin H. Wintermute',\n",
       " 'Daniel Stukenberg, Tobias Hensel, Josef Hoff, Benjamin Daniel, René Inckemann, Jamie N. Tedeschi, Franziska Nousch, Georg Fritz',\n",
       " 'Santiago C. Lopez, Kate D. Crawford, Santi Bhattarai-Kline, Seth L. Shipman',\n",
       " 'Mohamad H. Abedi, Michael S. Yao, David R. Mittelstein, Avinoam Bar-Zion, Margaret Swift, Audrey Lee-Gosselin, Mikhail G. Shapiro',\n",
       " 'Sahil B. Shah, Alexis M. Hill, Claus O. Wilke, Adam J. Hockenberry',\n",
       " 'Maurice Filo, Mustafa Khammash',\n",
       " 'Markéta Vlková, Bhargava Reddy Morampalli, Olin K. Silander',\n",
       " 'Hung-Ju Chang, Ana Zuniga, Ismael Conejero, Peter L Voyvodic, Jerome Gracy, Elena Fajardo-Ruiz, Martin Cohen-Gonsaud, Guillaume Cambray, Georges-Philippe Pageaux, Magdalena Meszaros, Lucy Meunier, Jerome Bonnet',\n",
       " 'Chloe Hsu, Hunter Nisonoff, Clara Fannjiang, Jennifer Listgarten',\n",
       " 'Qingchuan Li, Qingchun Song, Jing Wei, Yang Cao, Xinyu Cui, Dairong Chen, Ho Cheung Shum',\n",
       " 'Nadine Bongaerts, Zainab Edoo, Ayan A. Abukar, Xiaohu Song, Sebastián Sosa Carrillo, Ariel B. Lindner, Edwin H. Wintermute',\n",
       " 'Daniel Stukenberg, Tobias Hensel, Josef Hoff, Benjamin Daniel, René Inckemann, Jamie N. Tedeschi, Franziska Nousch, Georg Fritz',\n",
       " 'Santiago C. Lopez, Kate D. Crawford, Santi Bhattarai-Kline, Seth L. Shipman',\n",
       " 'Mohamad H. Abedi, Michael S. Yao, David R. Mittelstein, Avinoam Bar-Zion, Margaret Swift, Audrey Lee-Gosselin, Mikhail G. Shapiro',\n",
       " 'Sahil B. Shah, Alexis M. Hill, Claus O. Wilke, Adam J. Hockenberry',\n",
       " 'Maurice Filo, Mustafa Khammash',\n",
       " 'Markéta Vlková, Bhargava Reddy Morampalli, Olin K. Silander',\n",
       " 'Hung-Ju Chang, Ana Zuniga, Ismael Conejero, Peter L Voyvodic, Jerome Gracy, Elena Fajardo-Ruiz, Martin Cohen-Gonsaud, Guillaume Cambray, Georges-Philippe Pageaux, Magdalena Meszaros, Lucy Meunier, Jerome Bonnet',\n",
       " 'Chloe Hsu, Hunter Nisonoff, Clara Fannjiang, Jennifer Listgarten',\n",
       " 'Qingchuan Li, Qingchun Song, Jing Wei, Yang Cao, Xinyu Cui, Dairong Chen, Ho Cheung Shum',\n",
       " 'Nadine Bongaerts, Zainab Edoo, Ayan A. Abukar, Xiaohu Song, Sebastián Sosa Carrillo, Ariel B. Lindner, Edwin H. Wintermute',\n",
       " 'Daniel Stukenberg, Tobias Hensel, Josef Hoff, Benjamin Daniel, René Inckemann, Jamie N. Tedeschi, Franziska Nousch, Georg Fritz',\n",
       " 'Santiago C. Lopez, Kate D. Crawford, Santi Bhattarai-Kline, Seth L. Shipman',\n",
       " 'Mohamad H. Abedi, Michael S. Yao, David R. Mittelstein, Avinoam Bar-Zion, Margaret Swift, Audrey Lee-Gosselin, Mikhail G. Shapiro',\n",
       " 'Sahil B. Shah, Alexis M. Hill, Claus O. Wilke, Adam J. Hockenberry',\n",
       " 'Maurice Filo, Mustafa Khammash',\n",
       " 'Markéta Vlková, Bhargava Reddy Morampalli, Olin K. Silander',\n",
       " 'Hung-Ju Chang, Ana Zuniga, Ismael Conejero, Peter L Voyvodic, Jerome Gracy, Elena Fajardo-Ruiz, Martin Cohen-Gonsaud, Guillaume Cambray, Georges-Philippe Pageaux, Magdalena Meszaros, Lucy Meunier, Jerome Bonnet',\n",
       " 'Chloe Hsu, Hunter Nisonoff, Clara Fannjiang, Jennifer Listgarten',\n",
       " 'Qingchuan Li, Qingchun Song, Jing Wei, Yang Cao, Xinyu Cui, Dairong Chen, Ho Cheung Shum',\n",
       " 'Nadine Bongaerts, Zainab Edoo, Ayan A. Abukar, Xiaohu Song, Sebastián Sosa Carrillo, Ariel B. Lindner, Edwin H. Wintermute',\n",
       " 'Daniel Stukenberg, Tobias Hensel, Josef Hoff, Benjamin Daniel, René Inckemann, Jamie N. Tedeschi, Franziska Nousch, Georg Fritz',\n",
       " 'Santiago C. Lopez, Kate D. Crawford, Santi Bhattarai-Kline, Seth L. Shipman',\n",
       " 'Mohamad H. Abedi, Michael S. Yao, David R. Mittelstein, Avinoam Bar-Zion, Margaret Swift, Audrey Lee-Gosselin, Mikhail G. Shapiro',\n",
       " 'Sahil B. Shah, Alexis M. Hill, Claus O. Wilke, Adam J. Hockenberry',\n",
       " 'Maurice Filo, Mustafa Khammash',\n",
       " 'Markéta Vlková, Bhargava Reddy Morampalli, Olin K. Silander',\n",
       " 'Hung-Ju Chang, Ana Zuniga, Ismael Conejero, Peter L Voyvodic, Jerome Gracy, Elena Fajardo-Ruiz, Martin Cohen-Gonsaud, Guillaume Cambray, Georges-Philippe Pageaux, Magdalena Meszaros, Lucy Meunier, Jerome Bonnet',\n",
       " 'Chloe Hsu, Hunter Nisonoff, Clara Fannjiang, Jennifer Listgarten',\n",
       " 'Qingchuan Li, Qingchun Song, Jing Wei, Yang Cao, Xinyu Cui, Dairong Chen, Ho Cheung Shum',\n",
       " 'Nadine Bongaerts, Zainab Edoo, Ayan A. Abukar, Xiaohu Song, Sebastián Sosa Carrillo, Ariel B. Lindner, Edwin H. Wintermute',\n",
       " 'Daniel Stukenberg, Tobias Hensel, Josef Hoff, Benjamin Daniel, René Inckemann, Jamie N. Tedeschi, Franziska Nousch, Georg Fritz',\n",
       " 'Santiago C. Lopez, Kate D. Crawford, Santi Bhattarai-Kline, Seth L. Shipman',\n",
       " 'Mohamad H. Abedi, Michael S. Yao, David R. Mittelstein, Avinoam Bar-Zion, Margaret Swift, Audrey Lee-Gosselin, Mikhail G. Shapiro',\n",
       " 'Sahil B. Shah, Alexis M. Hill, Claus O. Wilke, Adam J. Hockenberry',\n",
       " 'Maurice Filo, Mustafa Khammash',\n",
       " 'Markéta Vlková, Bhargava Reddy Morampalli, Olin K. Silander',\n",
       " 'Hung-Ju Chang, Ana Zuniga, Ismael Conejero, Peter L Voyvodic, Jerome Gracy, Elena Fajardo-Ruiz, Martin Cohen-Gonsaud, Guillaume Cambray, Georges-Philippe Pageaux, Magdalena Meszaros, Lucy Meunier, Jerome Bonnet',\n",
       " 'Chloe Hsu, Hunter Nisonoff, Clara Fannjiang, Jennifer Listgarten',\n",
       " 'Qingchuan Li, Qingchun Song, Jing Wei, Yang Cao, Xinyu Cui, Dairong Chen, Ho Cheung Shum',\n",
       " 'Nadine Bongaerts, Zainab Edoo, Ayan A. Abukar, Xiaohu Song, Sebastián Sosa Carrillo, Ariel B. Lindner, Edwin H. Wintermute',\n",
       " 'Daniel Stukenberg, Tobias Hensel, Josef Hoff, Benjamin Daniel, René Inckemann, Jamie N. Tedeschi, Franziska Nousch, Georg Fritz',\n",
       " 'Santiago C. Lopez, Kate D. Crawford, Santi Bhattarai-Kline, Seth L. Shipman',\n",
       " 'Mohamad H. Abedi, Michael S. Yao, David R. Mittelstein, Avinoam Bar-Zion, Margaret Swift, Audrey Lee-Gosselin, Mikhail G. Shapiro',\n",
       " 'Sahil B. Shah, Alexis M. Hill, Claus O. Wilke, Adam J. Hockenberry',\n",
       " 'Maurice Filo, Mustafa Khammash',\n",
       " 'Markéta Vlková, Bhargava Reddy Morampalli, Olin K. Silander',\n",
       " 'Hung-Ju Chang, Ana Zuniga, Ismael Conejero, Peter L Voyvodic, Jerome Gracy, Elena Fajardo-Ruiz, Martin Cohen-Gonsaud, Guillaume Cambray, Georges-Philippe Pageaux, Magdalena Meszaros, Lucy Meunier, Jerome Bonnet',\n",
       " 'Chloe Hsu, Hunter Nisonoff, Clara Fannjiang, Jennifer Listgarten',\n",
       " 'Qingchuan Li, Qingchun Song, Jing Wei, Yang Cao, Xinyu Cui, Dairong Chen, Ho Cheung Shum',\n",
       " 'Nadine Bongaerts, Zainab Edoo, Ayan A. Abukar, Xiaohu Song, Sebastián Sosa Carrillo, Ariel B. Lindner, Edwin H. Wintermute',\n",
       " 'Daniel Stukenberg, Tobias Hensel, Josef Hoff, Benjamin Daniel, René Inckemann, Jamie N. Tedeschi, Franziska Nousch, Georg Fritz',\n",
       " 'Santiago C. Lopez, Kate D. Crawford, Santi Bhattarai-Kline, Seth L. Shipman',\n",
       " 'Mohamad H. Abedi, Michael S. Yao, David R. Mittelstein, Avinoam Bar-Zion, Margaret Swift, Audrey Lee-Gosselin, Mikhail G. Shapiro',\n",
       " 'Sahil B. Shah, Alexis M. Hill, Claus O. Wilke, Adam J. Hockenberry',\n",
       " 'Maurice Filo, Mustafa Khammash',\n",
       " 'Markéta Vlková, Bhargava Reddy Morampalli, Olin K. Silander',\n",
       " 'Hung-Ju Chang, Ana Zuniga, Ismael Conejero, Peter L Voyvodic, Jerome Gracy, Elena Fajardo-Ruiz, Martin Cohen-Gonsaud, Guillaume Cambray, Georges-Philippe Pageaux, Magdalena Meszaros, Lucy Meunier, Jerome Bonnet',\n",
       " 'Chloe Hsu, Hunter Nisonoff, Clara Fannjiang, Jennifer Listgarten',\n",
       " 'Qingchuan Li, Qingchun Song, Jing Wei, Yang Cao, Xinyu Cui, Dairong Chen, Ho Cheung Shum',\n",
       " 'Nadine Bongaerts, Zainab Edoo, Ayan A. Abukar, Xiaohu Song, Sebastián Sosa Carrillo, Ariel B. Lindner, Edwin H. Wintermute',\n",
       " 'Daniel Stukenberg, Tobias Hensel, Josef Hoff, Benjamin Daniel, René Inckemann, Jamie N. Tedeschi, Franziska Nousch, Georg Fritz',\n",
       " 'Santiago C. Lopez, Kate D. Crawford, Santi Bhattarai-Kline, Seth L. Shipman',\n",
       " 'Mohamad H. Abedi, Michael S. Yao, David R. Mittelstein, Avinoam Bar-Zion, Margaret Swift, Audrey Lee-Gosselin, Mikhail G. Shapiro',\n",
       " 'Sahil B. Shah, Alexis M. Hill, Claus O. Wilke, Adam J. Hockenberry',\n",
       " 'Maurice Filo, Mustafa Khammash',\n",
       " 'Markéta Vlková, Bhargava Reddy Morampalli, Olin K. Silander',\n",
       " 'Hung-Ju Chang, Ana Zuniga, Ismael Conejero, Peter L Voyvodic, Jerome Gracy, Elena Fajardo-Ruiz, Martin Cohen-Gonsaud, Guillaume Cambray, Georges-Philippe Pageaux, Magdalena Meszaros, Lucy Meunier, Jerome Bonnet',\n",
       " 'Chloe Hsu, Hunter Nisonoff, Clara Fannjiang, Jennifer Listgarten',\n",
       " 'Qingchuan Li, Qingchun Song, Jing Wei, Yang Cao, Xinyu Cui, Dairong Chen, Ho Cheung Shum',\n",
       " 'Nadine Bongaerts, Zainab Edoo, Ayan A. Abukar, Xiaohu Song, Sebastián Sosa Carrillo, Ariel B. Lindner, Edwin H. Wintermute',\n",
       " 'Daniel Stukenberg, Tobias Hensel, Josef Hoff, Benjamin Daniel, René Inckemann, Jamie N. Tedeschi, Franziska Nousch, Georg Fritz',\n",
       " 'Santiago C. Lopez, Kate D. Crawford, Santi Bhattarai-Kline, Seth L. Shipman',\n",
       " 'Mohamad H. Abedi, Michael S. Yao, David R. Mittelstein, Avinoam Bar-Zion, Margaret Swift, Audrey Lee-Gosselin, Mikhail G. Shapiro',\n",
       " 'Sahil B. Shah, Alexis M. Hill, Claus O. Wilke, Adam J. Hockenberry',\n",
       " 'Maurice Filo, Mustafa Khammash',\n",
       " 'Markéta Vlková, Bhargava Reddy Morampalli, Olin K. Silander',\n",
       " 'Hung-Ju Chang, Ana Zuniga, Ismael Conejero, Peter L Voyvodic, Jerome Gracy, Elena Fajardo-Ruiz, Martin Cohen-Gonsaud, Guillaume Cambray, Georges-Philippe Pageaux, Magdalena Meszaros, Lucy Meunier, Jerome Bonnet',\n",
       " 'Chloe Hsu, Hunter Nisonoff, Clara Fannjiang, Jennifer Listgarten',\n",
       " 'Qingchuan Li, Qingchun Song, Jing Wei, Yang Cao, Xinyu Cui, Dairong Chen, Ho Cheung Shum',\n",
       " 'Nadine Bongaerts, Zainab Edoo, Ayan A. Abukar, Xiaohu Song, Sebastián Sosa Carrillo, Ariel B. Lindner, Edwin H. Wintermute',\n",
       " 'Daniel Stukenberg, Tobias Hensel, Josef Hoff, Benjamin Daniel, René Inckemann, Jamie N. Tedeschi, Franziska Nousch, Georg Fritz',\n",
       " 'Santiago C. Lopez, Kate D. Crawford, Santi Bhattarai-Kline, Seth L. Shipman',\n",
       " 'Mohamad H. Abedi, Michael S. Yao, David R. Mittelstein, Avinoam Bar-Zion, Margaret Swift, Audrey Lee-Gosselin, Mikhail G. Shapiro',\n",
       " 'Sahil B. Shah, Alexis M. Hill, Claus O. Wilke, Adam J. Hockenberry',\n",
       " 'Maurice Filo, Mustafa Khammash',\n",
       " 'Markéta Vlková, Bhargava Reddy Morampalli, Olin K. Silander',\n",
       " 'Hung-Ju Chang, Ana Zuniga, Ismael Conejero, Peter L Voyvodic, Jerome Gracy, Elena Fajardo-Ruiz, Martin Cohen-Gonsaud, Guillaume Cambray, Georges-Philippe Pageaux, Magdalena Meszaros, Lucy Meunier, Jerome Bonnet',\n",
       " 'Chloe Hsu, Hunter Nisonoff, Clara Fannjiang, Jennifer Listgarten',\n",
       " 'Qingchuan Li, Qingchun Song, Jing Wei, Yang Cao, Xinyu Cui, Dairong Chen, Ho Cheung Shum',\n",
       " 'Nadine Bongaerts, Zainab Edoo, Ayan A. Abukar, Xiaohu Song, Sebastián Sosa Carrillo, Ariel B. Lindner, Edwin H. Wintermute',\n",
       " 'Daniel Stukenberg, Tobias Hensel, Josef Hoff, Benjamin Daniel, René Inckemann, Jamie N. Tedeschi, Franziska Nousch, Georg Fritz',\n",
       " 'Santiago C. Lopez, Kate D. Crawford, Santi Bhattarai-Kline, Seth L. Shipman',\n",
       " 'Mohamad H. Abedi, Michael S. Yao, David R. Mittelstein, Avinoam Bar-Zion, Margaret Swift, Audrey Lee-Gosselin, Mikhail G. Shapiro',\n",
       " 'Sahil B. Shah, Alexis M. Hill, Claus O. Wilke, Adam J. Hockenberry',\n",
       " 'Maurice Filo, Mustafa Khammash',\n",
       " 'Markéta Vlková, Bhargava Reddy Morampalli, Olin K. Silander',\n",
       " 'Hung-Ju Chang, Ana Zuniga, Ismael Conejero, Peter L Voyvodic, Jerome Gracy, Elena Fajardo-Ruiz, Martin Cohen-Gonsaud, Guillaume Cambray, Georges-Philippe Pageaux, Magdalena Meszaros, Lucy Meunier, Jerome Bonnet',\n",
       " 'Chloe Hsu, Hunter Nisonoff, Clara Fannjiang, Jennifer Listgarten',\n",
       " 'Qingchuan Li, Qingchun Song, Jing Wei, Yang Cao, Xinyu Cui, Dairong Chen, Ho Cheung Shum',\n",
       " 'Nadine Bongaerts, Zainab Edoo, Ayan A. Abukar, Xiaohu Song, Sebastián Sosa Carrillo, Ariel B. Lindner, Edwin H. Wintermute',\n",
       " 'Daniel Stukenberg, Tobias Hensel, Josef Hoff, Benjamin Daniel, René Inckemann, Jamie N. Tedeschi, Franziska Nousch, Georg Fritz',\n",
       " 'Santiago C. Lopez, Kate D. Crawford, Santi Bhattarai-Kline, Seth L. Shipman',\n",
       " 'Mohamad H. Abedi, Michael S. Yao, David R. Mittelstein, Avinoam Bar-Zion, Margaret Swift, Audrey Lee-Gosselin, Mikhail G. Shapiro',\n",
       " 'Sahil B. Shah, Alexis M. Hill, Claus O. Wilke, Adam J. Hockenberry',\n",
       " 'Maurice Filo, Mustafa Khammash',\n",
       " 'Markéta Vlková, Bhargava Reddy Morampalli, Olin K. Silander',\n",
       " 'Hung-Ju Chang, Ana Zuniga, Ismael Conejero, Peter L Voyvodic, Jerome Gracy, Elena Fajardo-Ruiz, Martin Cohen-Gonsaud, Guillaume Cambray, Georges-Philippe Pageaux, Magdalena Meszaros, Lucy Meunier, Jerome Bonnet',\n",
       " 'Chloe Hsu, Hunter Nisonoff, Clara Fannjiang, Jennifer Listgarten',\n",
       " 'Qingchuan Li, Qingchun Song, Jing Wei, Yang Cao, Xinyu Cui, Dairong Chen, Ho Cheung Shum',\n",
       " 'Nadine Bongaerts, Zainab Edoo, Ayan A. Abukar, Xiaohu Song, Sebastián Sosa Carrillo, Ariel B. Lindner, Edwin H. Wintermute',\n",
       " 'Daniel Stukenberg, Tobias Hensel, Josef Hoff, Benjamin Daniel, René Inckemann, Jamie N. Tedeschi, Franziska Nousch, Georg Fritz',\n",
       " 'Santiago C. Lopez, Kate D. Crawford, Santi Bhattarai-Kline, Seth L. Shipman',\n",
       " 'Mohamad H. Abedi, Michael S. Yao, David R. Mittelstein, Avinoam Bar-Zion, Margaret Swift, Audrey Lee-Gosselin, Mikhail G. Shapiro',\n",
       " 'Sahil B. Shah, Alexis M. Hill, Claus O. Wilke, Adam J. Hockenberry',\n",
       " 'Maurice Filo, Mustafa Khammash',\n",
       " 'Markéta Vlková, Bhargava Reddy Morampalli, Olin K. Silander',\n",
       " 'Hung-Ju Chang, Ana Zuniga, Ismael Conejero, Peter L Voyvodic, Jerome Gracy, Elena Fajardo-Ruiz, Martin Cohen-Gonsaud, Guillaume Cambray, Georges-Philippe Pageaux, Magdalena Meszaros, Lucy Meunier, Jerome Bonnet',\n",
       " 'Chloe Hsu, Hunter Nisonoff, Clara Fannjiang, Jennifer Listgarten',\n",
       " 'Qingchuan Li, Qingchun Song, Jing Wei, Yang Cao, Xinyu Cui, Dairong Chen, Ho Cheung Shum',\n",
       " 'Nadine Bongaerts, Zainab Edoo, Ayan A. Abukar, Xiaohu Song, Sebastián Sosa Carrillo, Ariel B. Lindner, Edwin H. Wintermute',\n",
       " 'Daniel Stukenberg, Tobias Hensel, Josef Hoff, Benjamin Daniel, René Inckemann, Jamie N. Tedeschi, Franziska Nousch, Georg Fritz',\n",
       " 'Santiago C. Lopez, Kate D. Crawford, Santi Bhattarai-Kline, Seth L. Shipman',\n",
       " 'Mohamad H. Abedi, Michael S. Yao, David R. Mittelstein, Avinoam Bar-Zion, Margaret Swift, Audrey Lee-Gosselin, Mikhail G. Shapiro',\n",
       " 'Sahil B. Shah, Alexis M. Hill, Claus O. Wilke, Adam J. Hockenberry',\n",
       " 'Maurice Filo, Mustafa Khammash',\n",
       " 'Markéta Vlková, Bhargava Reddy Morampalli, Olin K. Silander',\n",
       " 'Hung-Ju Chang, Ana Zuniga, Ismael Conejero, Peter L Voyvodic, Jerome Gracy, Elena Fajardo-Ruiz, Martin Cohen-Gonsaud, Guillaume Cambray, Georges-Philippe Pageaux, Magdalena Meszaros, Lucy Meunier, Jerome Bonnet',\n",
       " 'Chloe Hsu, Hunter Nisonoff, Clara Fannjiang, Jennifer Listgarten',\n",
       " 'Qingchuan Li, Qingchun Song, Jing Wei, Yang Cao, Xinyu Cui, Dairong Chen, Ho Cheung Shum',\n",
       " 'Nadine Bongaerts, Zainab Edoo, Ayan A. Abukar, Xiaohu Song, Sebastián Sosa Carrillo, Ariel B. Lindner, Edwin H. Wintermute',\n",
       " 'Daniel Stukenberg, Tobias Hensel, Josef Hoff, Benjamin Daniel, René Inckemann, Jamie N. Tedeschi, Franziska Nousch, Georg Fritz',\n",
       " 'Santiago C. Lopez, Kate D. Crawford, Santi Bhattarai-Kline, Seth L. Shipman',\n",
       " 'Mohamad H. Abedi, Michael S. Yao, David R. Mittelstein, Avinoam Bar-Zion, Margaret Swift, Audrey Lee-Gosselin, Mikhail G. Shapiro',\n",
       " 'Sahil B. Shah, Alexis M. Hill, Claus O. Wilke, Adam J. Hockenberry',\n",
       " 'Maurice Filo, Mustafa Khammash',\n",
       " 'Markéta Vlková, Bhargava Reddy Morampalli, Olin K. Silander',\n",
       " 'Hung-Ju Chang, Ana Zuniga, Ismael Conejero, Peter L Voyvodic, Jerome Gracy, Elena Fajardo-Ruiz, Martin Cohen-Gonsaud, Guillaume Cambray, Georges-Philippe Pageaux, Magdalena Meszaros, Lucy Meunier, Jerome Bonnet',\n",
       " 'Chloe Hsu, Hunter Nisonoff, Clara Fannjiang, Jennifer Listgarten',\n",
       " 'Qingchuan Li, Qingchun Song, Jing Wei, Yang Cao, Xinyu Cui, Dairong Chen, Ho Cheung Shum',\n",
       " 'Nadine Bongaerts, Zainab Edoo, Ayan A. Abukar, Xiaohu Song, Sebastián Sosa Carrillo, Ariel B. Lindner, Edwin H. Wintermute',\n",
       " 'Daniel Stukenberg, Tobias Hensel, Josef Hoff, Benjamin Daniel, René Inckemann, Jamie N. Tedeschi, Franziska Nousch, Georg Fritz',\n",
       " 'Santiago C. Lopez, Kate D. Crawford, Santi Bhattarai-Kline, Seth L. Shipman',\n",
       " 'Mohamad H. Abedi, Michael S. Yao, David R. Mittelstein, Avinoam Bar-Zion, Margaret Swift, Audrey Lee-Gosselin, Mikhail G. Shapiro',\n",
       " 'Sahil B. Shah, Alexis M. Hill, Claus O. Wilke, Adam J. Hockenberry',\n",
       " 'Maurice Filo, Mustafa Khammash',\n",
       " 'Markéta Vlková, Bhargava Reddy Morampalli, Olin K. Silander',\n",
       " 'Hung-Ju Chang, Ana Zuniga, Ismael Conejero, Peter L Voyvodic, Jerome Gracy, Elena Fajardo-Ruiz, Martin Cohen-Gonsaud, Guillaume Cambray, Georges-Philippe Pageaux, Magdalena Meszaros, Lucy Meunier, Jerome Bonnet',\n",
       " 'Chloe Hsu, Hunter Nisonoff, Clara Fannjiang, Jennifer Listgarten',\n",
       " 'Qingchuan Li, Qingchun Song, Jing Wei, Yang Cao, Xinyu Cui, Dairong Chen, Ho Cheung Shum',\n",
       " 'Nadine Bongaerts, Zainab Edoo, Ayan A. Abukar, Xiaohu Song, Sebastián Sosa Carrillo, Ariel B. Lindner, Edwin H. Wintermute',\n",
       " 'Daniel Stukenberg, Tobias Hensel, Josef Hoff, Benjamin Daniel, René Inckemann, Jamie N. Tedeschi, Franziska Nousch, Georg Fritz',\n",
       " 'Santiago C. Lopez, Kate D. Crawford, Santi Bhattarai-Kline, Seth L. Shipman',\n",
       " 'Mohamad H. Abedi, Michael S. Yao, David R. Mittelstein, Avinoam Bar-Zion, Margaret Swift, Audrey Lee-Gosselin, Mikhail G. Shapiro',\n",
       " 'Sahil B. Shah, Alexis M. Hill, Claus O. Wilke, Adam J. Hockenberry',\n",
       " 'Maurice Filo, Mustafa Khammash',\n",
       " 'Markéta Vlková, Bhargava Reddy Morampalli, Olin K. Silander',\n",
       " 'Hung-Ju Chang, Ana Zuniga, Ismael Conejero, Peter L Voyvodic, Jerome Gracy, Elena Fajardo-Ruiz, Martin Cohen-Gonsaud, Guillaume Cambray, Georges-Philippe Pageaux, Magdalena Meszaros, Lucy Meunier, Jerome Bonnet',\n",
       " 'Chloe Hsu, Hunter Nisonoff, Clara Fannjiang, Jennifer Listgarten',\n",
       " 'Qingchuan Li, Qingchun Song, Jing Wei, Yang Cao, Xinyu Cui, Dairong Chen, Ho Cheung Shum',\n",
       " 'Nadine Bongaerts, Zainab Edoo, Ayan A. Abukar, Xiaohu Song, Sebastián Sosa Carrillo, Ariel B. Lindner, Edwin H. Wintermute',\n",
       " 'Daniel Stukenberg, Tobias Hensel, Josef Hoff, Benjamin Daniel, René Inckemann, Jamie N. Tedeschi, Franziska Nousch, Georg Fritz',\n",
       " 'Santiago C. Lopez, Kate D. Crawford, Santi Bhattarai-Kline, Seth L. Shipman',\n",
       " 'Mohamad H. Abedi, Michael S. Yao, David R. Mittelstein, Avinoam Bar-Zion, Margaret Swift, Audrey Lee-Gosselin, Mikhail G. Shapiro',\n",
       " 'Sahil B. Shah, Alexis M. Hill, Claus O. Wilke, Adam J. Hockenberry',\n",
       " 'Maurice Filo, Mustafa Khammash',\n",
       " 'Markéta Vlková, Bhargava Reddy Morampalli, Olin K. Silander']"
      ]
     },
     "execution_count": 133,
     "metadata": {},
     "output_type": "execute_result"
    }
   ],
   "source": [
    "authors_list"
   ]
  },
  {
   "cell_type": "markdown",
   "id": "early-liberia",
   "metadata": {},
   "source": [
    "Now that we have everything properly saved we can create a Pandas `DataFrame` with the obtained the results "
   ]
  },
  {
   "cell_type": "code",
   "execution_count": 21,
   "id": "allied-edgar",
   "metadata": {},
   "outputs": [],
   "source": [
    "import pandas as pd"
   ]
  },
  {
   "cell_type": "code",
   "execution_count": 135,
   "id": "separate-scoop",
   "metadata": {},
   "outputs": [],
   "source": [
    "df_biorxiv = pd.DataFrame() # We create an empty DataFrame\n",
    "df_biorxiv['title'] = titles_list # Creates the title column\n",
    "#df_biorxiv['authors'] = authors_list # Creates the authors column\n",
    "#df_biorxiv['link'] = pdf_link_list  # Creates the link column"
   ]
  },
  {
   "cell_type": "code",
   "execution_count": 145,
   "id": "related-resort",
   "metadata": {},
   "outputs": [
    {
     "data": {
      "text/html": [
       "<div>\n",
       "<style scoped>\n",
       "    .dataframe tbody tr th:only-of-type {\n",
       "        vertical-align: middle;\n",
       "    }\n",
       "\n",
       "    .dataframe tbody tr th {\n",
       "        vertical-align: top;\n",
       "    }\n",
       "\n",
       "    .dataframe thead th {\n",
       "        text-align: right;\n",
       "    }\n",
       "</style>\n",
       "<table border=\"1\" class=\"dataframe\">\n",
       "  <thead>\n",
       "    <tr style=\"text-align: right;\">\n",
       "      <th></th>\n",
       "      <th>title</th>\n",
       "    </tr>\n",
       "  </thead>\n",
       "  <tbody>\n",
       "    <tr>\n",
       "      <th>0</th>\n",
       "      <td>A synthetic receptor platform enables rapid an...</td>\n",
       "    </tr>\n",
       "  </tbody>\n",
       "</table>\n",
       "</div>"
      ],
      "text/plain": [
       "                                               title\n",
       "0  A synthetic receptor platform enables rapid an..."
      ]
     },
     "execution_count": 145,
     "metadata": {},
     "output_type": "execute_result"
    }
   ],
   "source": [
    "df_biorxiv.head(1)"
   ]
  },
  {
   "cell_type": "markdown",
   "id": "varying-individual",
   "metadata": {},
   "source": [
    "Now that our data is inside a data frame we can use the `unnest_tokens` function from `tidytext` to transform this data.\n",
    "\n",
    "The `unnest_tokens` function is probably the most important function in tidytext. It takes data from a an `object` variable (aka `string`) and splits it into *tokens*. For just now, the tokens will be words, but it's also possible to specify that our tokens are sentences, or characters. We'll see the options for different tokens later.\n",
    "\n",
    "The `unnest_tokens` function takes three mandatory arguments. The first is the data frame that contains our text data; here we have piped that in. The second is the new column that we are going to create that contains our tokens, in our case we've called it `word` because the tokens are words. And the third argument is the name of the column that contains the text data that we are going to tokenise, in our case `phrase`.\n"
   ]
  },
  {
   "cell_type": "code",
   "execution_count": 144,
   "id": "social-yeast",
   "metadata": {},
   "outputs": [],
   "source": [
    "from tidytext import unnest_tokens"
   ]
  },
  {
   "cell_type": "code",
   "execution_count": 146,
   "id": "false-bronze",
   "metadata": {},
   "outputs": [
    {
     "data": {
      "text/html": [
       "<div>\n",
       "<style scoped>\n",
       "    .dataframe tbody tr th:only-of-type {\n",
       "        vertical-align: middle;\n",
       "    }\n",
       "\n",
       "    .dataframe tbody tr th {\n",
       "        vertical-align: top;\n",
       "    }\n",
       "\n",
       "    .dataframe thead th {\n",
       "        text-align: right;\n",
       "    }\n",
       "</style>\n",
       "<table border=\"1\" class=\"dataframe\">\n",
       "  <thead>\n",
       "    <tr style=\"text-align: right;\">\n",
       "      <th></th>\n",
       "      <th>word</th>\n",
       "    </tr>\n",
       "  </thead>\n",
       "  <tbody>\n",
       "    <tr>\n",
       "      <th>0</th>\n",
       "      <td>a</td>\n",
       "    </tr>\n",
       "    <tr>\n",
       "      <th>0</th>\n",
       "      <td>synthetic</td>\n",
       "    </tr>\n",
       "    <tr>\n",
       "      <th>0</th>\n",
       "      <td>receptor</td>\n",
       "    </tr>\n",
       "    <tr>\n",
       "      <th>0</th>\n",
       "      <td>platform</td>\n",
       "    </tr>\n",
       "    <tr>\n",
       "      <th>0</th>\n",
       "      <td>enables</td>\n",
       "    </tr>\n",
       "    <tr>\n",
       "      <th>...</th>\n",
       "      <td>...</td>\n",
       "    </tr>\n",
       "    <tr>\n",
       "      <th>359</th>\n",
       "      <td>and</td>\n",
       "    </tr>\n",
       "    <tr>\n",
       "      <th>359</th>\n",
       "      <td>transchanges</td>\n",
       "    </tr>\n",
       "    <tr>\n",
       "      <th>359</th>\n",
       "      <td>in</td>\n",
       "    </tr>\n",
       "    <tr>\n",
       "      <th>359</th>\n",
       "      <td>genetic</td>\n",
       "    </tr>\n",
       "    <tr>\n",
       "      <th>359</th>\n",
       "      <td>background</td>\n",
       "    </tr>\n",
       "  </tbody>\n",
       "</table>\n",
       "<p>4176 rows × 1 columns</p>\n",
       "</div>"
      ],
      "text/plain": [
       "             word\n",
       "0               a\n",
       "0       synthetic\n",
       "0        receptor\n",
       "0        platform\n",
       "0         enables\n",
       "..            ...\n",
       "359           and\n",
       "359  transchanges\n",
       "359            in\n",
       "359       genetic\n",
       "359    background\n",
       "\n",
       "[4176 rows x 1 columns]"
      ]
     },
     "execution_count": 146,
     "metadata": {},
     "output_type": "execute_result"
    }
   ],
   "source": [
    "words_df = unnest_tokens(df_biorxiv, 'word', 'title')\n",
    "\n",
    "words_df"
   ]
  },
  {
   "cell_type": "markdown",
   "id": "homeless-ivory",
   "metadata": {},
   "source": [
    "You'll notice that the ID column has been preserved. You can go and check that all the words that appeared in the first phrase have id 0, all the words that appeared in the second phrase have id 1 etc. This is really useful when we have extra information about the text in our original data that we want to preserve through tokenisation.\n",
    "\n",
    "Now that we have a tidy data frame, it's easy to manipulate using `pandas`. To start, let's put our words in alphabetical order.\n"
   ]
  },
  {
   "cell_type": "code",
   "execution_count": 147,
   "id": "western-morning",
   "metadata": {},
   "outputs": [
    {
     "data": {
      "text/html": [
       "<div>\n",
       "<style scoped>\n",
       "    .dataframe tbody tr th:only-of-type {\n",
       "        vertical-align: middle;\n",
       "    }\n",
       "\n",
       "    .dataframe tbody tr th {\n",
       "        vertical-align: top;\n",
       "    }\n",
       "\n",
       "    .dataframe thead th {\n",
       "        text-align: right;\n",
       "    }\n",
       "</style>\n",
       "<table border=\"1\" class=\"dataframe\">\n",
       "  <thead>\n",
       "    <tr style=\"text-align: right;\">\n",
       "      <th></th>\n",
       "      <th>word</th>\n",
       "    </tr>\n",
       "  </thead>\n",
       "  <tbody>\n",
       "    <tr>\n",
       "      <th>0</th>\n",
       "      <td>a</td>\n",
       "    </tr>\n",
       "    <tr>\n",
       "      <th>244</th>\n",
       "      <td>a</td>\n",
       "    </tr>\n",
       "    <tr>\n",
       "      <th>240</th>\n",
       "      <td>a</td>\n",
       "    </tr>\n",
       "    <tr>\n",
       "      <th>238</th>\n",
       "      <td>a</td>\n",
       "    </tr>\n",
       "    <tr>\n",
       "      <th>234</th>\n",
       "      <td>a</td>\n",
       "    </tr>\n",
       "    <tr>\n",
       "      <th>...</th>\n",
       "      <td>...</td>\n",
       "    </tr>\n",
       "    <tr>\n",
       "      <th>197</th>\n",
       "      <td>without</td>\n",
       "    </tr>\n",
       "    <tr>\n",
       "      <th>77</th>\n",
       "      <td>without</td>\n",
       "    </tr>\n",
       "    <tr>\n",
       "      <th>287</th>\n",
       "      <td>without</td>\n",
       "    </tr>\n",
       "    <tr>\n",
       "      <th>37</th>\n",
       "      <td>without</td>\n",
       "    </tr>\n",
       "    <tr>\n",
       "      <th>217</th>\n",
       "      <td>without</td>\n",
       "    </tr>\n",
       "  </tbody>\n",
       "</table>\n",
       "<p>4176 rows × 1 columns</p>\n",
       "</div>"
      ],
      "text/plain": [
       "        word\n",
       "0          a\n",
       "244        a\n",
       "240        a\n",
       "238        a\n",
       "234        a\n",
       "..       ...\n",
       "197  without\n",
       "77   without\n",
       "287  without\n",
       "37   without\n",
       "217  without\n",
       "\n",
       "[4176 rows x 1 columns]"
      ]
     },
     "execution_count": 147,
     "metadata": {},
     "output_type": "execute_result"
    }
   ],
   "source": [
    "words_df.sort_values('word')"
   ]
  },
  {
   "cell_type": "markdown",
   "id": "brave-bicycle",
   "metadata": {},
   "source": [
    "A really common task that you'll want to perform is finding out how often each word appears in each phrase. We can do this with a `groupby` and `size`.\n"
   ]
  },
  {
   "cell_type": "code",
   "execution_count": 148,
   "id": "demographic-image",
   "metadata": {},
   "outputs": [
    {
     "data": {
      "text/html": [
       "<div>\n",
       "<style scoped>\n",
       "    .dataframe tbody tr th:only-of-type {\n",
       "        vertical-align: middle;\n",
       "    }\n",
       "\n",
       "    .dataframe tbody tr th {\n",
       "        vertical-align: top;\n",
       "    }\n",
       "\n",
       "    .dataframe thead th {\n",
       "        text-align: right;\n",
       "    }\n",
       "</style>\n",
       "<table border=\"1\" class=\"dataframe\">\n",
       "  <thead>\n",
       "    <tr style=\"text-align: right;\">\n",
       "      <th></th>\n",
       "      <th>word</th>\n",
       "      <th>level_1</th>\n",
       "      <th>counts</th>\n",
       "    </tr>\n",
       "  </thead>\n",
       "  <tbody>\n",
       "    <tr>\n",
       "      <th>0</th>\n",
       "      <td>a</td>\n",
       "      <td>0</td>\n",
       "      <td>1</td>\n",
       "    </tr>\n",
       "    <tr>\n",
       "      <th>1</th>\n",
       "      <td>a</td>\n",
       "      <td>4</td>\n",
       "      <td>1</td>\n",
       "    </tr>\n",
       "    <tr>\n",
       "      <th>2</th>\n",
       "      <td>a</td>\n",
       "      <td>8</td>\n",
       "      <td>1</td>\n",
       "    </tr>\n",
       "    <tr>\n",
       "      <th>3</th>\n",
       "      <td>a</td>\n",
       "      <td>10</td>\n",
       "      <td>1</td>\n",
       "    </tr>\n",
       "    <tr>\n",
       "      <th>4</th>\n",
       "      <td>a</td>\n",
       "      <td>14</td>\n",
       "      <td>1</td>\n",
       "    </tr>\n",
       "    <tr>\n",
       "      <th>...</th>\n",
       "      <td>...</td>\n",
       "      <td>...</td>\n",
       "      <td>...</td>\n",
       "    </tr>\n",
       "    <tr>\n",
       "      <th>4171</th>\n",
       "      <td>without</td>\n",
       "      <td>317</td>\n",
       "      <td>1</td>\n",
       "    </tr>\n",
       "    <tr>\n",
       "      <th>4172</th>\n",
       "      <td>without</td>\n",
       "      <td>327</td>\n",
       "      <td>1</td>\n",
       "    </tr>\n",
       "    <tr>\n",
       "      <th>4173</th>\n",
       "      <td>without</td>\n",
       "      <td>337</td>\n",
       "      <td>1</td>\n",
       "    </tr>\n",
       "    <tr>\n",
       "      <th>4174</th>\n",
       "      <td>without</td>\n",
       "      <td>347</td>\n",
       "      <td>1</td>\n",
       "    </tr>\n",
       "    <tr>\n",
       "      <th>4175</th>\n",
       "      <td>without</td>\n",
       "      <td>357</td>\n",
       "      <td>1</td>\n",
       "    </tr>\n",
       "  </tbody>\n",
       "</table>\n",
       "<p>4176 rows × 3 columns</p>\n",
       "</div>"
      ],
      "text/plain": [
       "         word  level_1  counts\n",
       "0           a        0       1\n",
       "1           a        4       1\n",
       "2           a        8       1\n",
       "3           a       10       1\n",
       "4           a       14       1\n",
       "...       ...      ...     ...\n",
       "4171  without      317       1\n",
       "4172  without      327       1\n",
       "4173  without      337       1\n",
       "4174  without      347       1\n",
       "4175  without      357       1\n",
       "\n",
       "[4176 rows x 3 columns]"
      ]
     },
     "execution_count": 148,
     "metadata": {},
     "output_type": "execute_result"
    }
   ],
   "source": [
    "words_df.groupby(['word', words_df.index]).size().reset_index(name='counts')"
   ]
  },
  {
   "cell_type": "markdown",
   "id": "horizontal-latino",
   "metadata": {},
   "source": [
    "Or you may want to count the words across all phrases. Again, this is done with group by "
   ]
  },
  {
   "cell_type": "code",
   "execution_count": 149,
   "id": "sticky-liechtenstein",
   "metadata": {},
   "outputs": [
    {
     "data": {
      "text/html": [
       "<div>\n",
       "<style scoped>\n",
       "    .dataframe tbody tr th:only-of-type {\n",
       "        vertical-align: middle;\n",
       "    }\n",
       "\n",
       "    .dataframe tbody tr th {\n",
       "        vertical-align: top;\n",
       "    }\n",
       "\n",
       "    .dataframe thead th {\n",
       "        text-align: right;\n",
       "    }\n",
       "</style>\n",
       "<table border=\"1\" class=\"dataframe\">\n",
       "  <thead>\n",
       "    <tr style=\"text-align: right;\">\n",
       "      <th></th>\n",
       "      <th>word</th>\n",
       "      <th>counts</th>\n",
       "    </tr>\n",
       "  </thead>\n",
       "  <tbody>\n",
       "    <tr>\n",
       "      <th>0</th>\n",
       "      <td>a</td>\n",
       "      <td>108</td>\n",
       "    </tr>\n",
       "    <tr>\n",
       "      <th>1</th>\n",
       "      <td>acoustic</td>\n",
       "      <td>36</td>\n",
       "    </tr>\n",
       "    <tr>\n",
       "      <th>2</th>\n",
       "      <td>across</td>\n",
       "      <td>36</td>\n",
       "    </tr>\n",
       "    <tr>\n",
       "      <th>3</th>\n",
       "      <td>activity</td>\n",
       "      <td>36</td>\n",
       "    </tr>\n",
       "    <tr>\n",
       "      <th>4</th>\n",
       "      <td>an</td>\n",
       "      <td>36</td>\n",
       "    </tr>\n",
       "    <tr>\n",
       "      <th>...</th>\n",
       "      <td>...</td>\n",
       "      <td>...</td>\n",
       "    </tr>\n",
       "    <tr>\n",
       "      <th>90</th>\n",
       "      <td>vesicles</td>\n",
       "      <td>36</td>\n",
       "    </tr>\n",
       "    <tr>\n",
       "      <th>91</th>\n",
       "      <td>via</td>\n",
       "      <td>36</td>\n",
       "    </tr>\n",
       "    <tr>\n",
       "      <th>92</th>\n",
       "      <td>vibrio</td>\n",
       "      <td>36</td>\n",
       "    </tr>\n",
       "    <tr>\n",
       "      <th>93</th>\n",
       "      <td>with</td>\n",
       "      <td>72</td>\n",
       "    </tr>\n",
       "    <tr>\n",
       "      <th>94</th>\n",
       "      <td>without</td>\n",
       "      <td>36</td>\n",
       "    </tr>\n",
       "  </tbody>\n",
       "</table>\n",
       "<p>95 rows × 2 columns</p>\n",
       "</div>"
      ],
      "text/plain": [
       "        word  counts\n",
       "0          a     108\n",
       "1   acoustic      36\n",
       "2     across      36\n",
       "3   activity      36\n",
       "4         an      36\n",
       "..       ...     ...\n",
       "90  vesicles      36\n",
       "91       via      36\n",
       "92    vibrio      36\n",
       "93      with      72\n",
       "94   without      36\n",
       "\n",
       "[95 rows x 2 columns]"
      ]
     },
     "execution_count": 149,
     "metadata": {},
     "output_type": "execute_result"
    }
   ],
   "source": [
    "words_df.groupby('word').size().reset_index(name='counts')"
   ]
  },
  {
   "cell_type": "markdown",
   "id": "cross-prize",
   "metadata": {},
   "source": [
    "Again, let's find out how often each word appears and arrange from the most common word to the least common.\n",
    "Since this is such a common pattern (not just in text mining, but in many types of analysis) `pandas` provides a short-cut. The function `value_counts` will group by the variable or variables given, and summarise by `count`.\n"
   ]
  },
  {
   "cell_type": "code",
   "execution_count": 150,
   "id": "responsible-proposal",
   "metadata": {},
   "outputs": [
    {
     "data": {
      "text/html": [
       "<div>\n",
       "<style scoped>\n",
       "    .dataframe tbody tr th:only-of-type {\n",
       "        vertical-align: middle;\n",
       "    }\n",
       "\n",
       "    .dataframe tbody tr th {\n",
       "        vertical-align: top;\n",
       "    }\n",
       "\n",
       "    .dataframe thead th {\n",
       "        text-align: right;\n",
       "    }\n",
       "</style>\n",
       "<table border=\"1\" class=\"dataframe\">\n",
       "  <thead>\n",
       "    <tr style=\"text-align: right;\">\n",
       "      <th></th>\n",
       "      <th>word</th>\n",
       "      <th>counts</th>\n",
       "    </tr>\n",
       "  </thead>\n",
       "  <tbody>\n",
       "    <tr>\n",
       "      <th>0</th>\n",
       "      <td>of</td>\n",
       "      <td>288</td>\n",
       "    </tr>\n",
       "    <tr>\n",
       "      <th>1</th>\n",
       "      <td>and</td>\n",
       "      <td>144</td>\n",
       "    </tr>\n",
       "    <tr>\n",
       "      <th>2</th>\n",
       "      <td>a</td>\n",
       "      <td>108</td>\n",
       "    </tr>\n",
       "    <tr>\n",
       "      <th>3</th>\n",
       "      <td>for</td>\n",
       "      <td>108</td>\n",
       "    </tr>\n",
       "    <tr>\n",
       "      <th>4</th>\n",
       "      <td>synthetic</td>\n",
       "      <td>108</td>\n",
       "    </tr>\n",
       "    <tr>\n",
       "      <th>...</th>\n",
       "      <td>...</td>\n",
       "      <td>...</td>\n",
       "    </tr>\n",
       "    <tr>\n",
       "      <th>90</th>\n",
       "      <td>controllers</td>\n",
       "      <td>36</td>\n",
       "    </tr>\n",
       "    <tr>\n",
       "      <th>91</th>\n",
       "      <td>control</td>\n",
       "      <td>36</td>\n",
       "    </tr>\n",
       "    <tr>\n",
       "      <th>92</th>\n",
       "      <td>complexity</td>\n",
       "      <td>36</td>\n",
       "    </tr>\n",
       "    <tr>\n",
       "      <th>93</th>\n",
       "      <td>complex</td>\n",
       "      <td>36</td>\n",
       "    </tr>\n",
       "    <tr>\n",
       "      <th>94</th>\n",
       "      <td>without</td>\n",
       "      <td>36</td>\n",
       "    </tr>\n",
       "  </tbody>\n",
       "</table>\n",
       "<p>95 rows × 2 columns</p>\n",
       "</div>"
      ],
      "text/plain": [
       "           word  counts\n",
       "0            of     288\n",
       "1           and     144\n",
       "2             a     108\n",
       "3           for     108\n",
       "4     synthetic     108\n",
       "..          ...     ...\n",
       "90  controllers      36\n",
       "91      control      36\n",
       "92   complexity      36\n",
       "93      complex      36\n",
       "94      without      36\n",
       "\n",
       "[95 rows x 2 columns]"
      ]
     },
     "execution_count": 150,
     "metadata": {},
     "output_type": "execute_result"
    }
   ],
   "source": [
    "words_df.value_counts('word').reset_index(name='counts')"
   ]
  },
  {
   "cell_type": "markdown",
   "id": "external-wagner",
   "metadata": {},
   "source": [
    "The most common words are not very interesting! They are words common to all English texts.\n",
    "\n",
    "These common English words are known as **stop words**. The [`stop_words`](https://pypi.org/project/stop-words/) library has a built-in data frame that contains stop words in different languages. This means we can remove the stop words from our data by using either  `merge`, `lambda` or `isin`\n"
   ]
  },
  {
   "cell_type": "code",
   "execution_count": 151,
   "id": "heavy-radius",
   "metadata": {},
   "outputs": [],
   "source": [
    "from stop_words import get_stop_words"
   ]
  },
  {
   "cell_type": "code",
   "execution_count": 152,
   "id": "recognized-insider",
   "metadata": {},
   "outputs": [
    {
     "data": {
      "text/html": [
       "<div>\n",
       "<style scoped>\n",
       "    .dataframe tbody tr th:only-of-type {\n",
       "        vertical-align: middle;\n",
       "    }\n",
       "\n",
       "    .dataframe tbody tr th {\n",
       "        vertical-align: top;\n",
       "    }\n",
       "\n",
       "    .dataframe thead th {\n",
       "        text-align: right;\n",
       "    }\n",
       "</style>\n",
       "<table border=\"1\" class=\"dataframe\">\n",
       "  <thead>\n",
       "    <tr style=\"text-align: right;\">\n",
       "      <th></th>\n",
       "      <th>stop_words</th>\n",
       "    </tr>\n",
       "  </thead>\n",
       "  <tbody>\n",
       "    <tr>\n",
       "      <th>0</th>\n",
       "      <td>a</td>\n",
       "    </tr>\n",
       "    <tr>\n",
       "      <th>1</th>\n",
       "      <td>about</td>\n",
       "    </tr>\n",
       "    <tr>\n",
       "      <th>2</th>\n",
       "      <td>above</td>\n",
       "    </tr>\n",
       "    <tr>\n",
       "      <th>3</th>\n",
       "      <td>after</td>\n",
       "    </tr>\n",
       "    <tr>\n",
       "      <th>4</th>\n",
       "      <td>again</td>\n",
       "    </tr>\n",
       "    <tr>\n",
       "      <th>...</th>\n",
       "      <td>...</td>\n",
       "    </tr>\n",
       "    <tr>\n",
       "      <th>169</th>\n",
       "      <td>you've</td>\n",
       "    </tr>\n",
       "    <tr>\n",
       "      <th>170</th>\n",
       "      <td>your</td>\n",
       "    </tr>\n",
       "    <tr>\n",
       "      <th>171</th>\n",
       "      <td>yours</td>\n",
       "    </tr>\n",
       "    <tr>\n",
       "      <th>172</th>\n",
       "      <td>yourself</td>\n",
       "    </tr>\n",
       "    <tr>\n",
       "      <th>173</th>\n",
       "      <td>yourselves</td>\n",
       "    </tr>\n",
       "  </tbody>\n",
       "</table>\n",
       "<p>174 rows × 1 columns</p>\n",
       "</div>"
      ],
      "text/plain": [
       "     stop_words\n",
       "0             a\n",
       "1         about\n",
       "2         above\n",
       "3         after\n",
       "4         again\n",
       "..          ...\n",
       "169      you've\n",
       "170        your\n",
       "171       yours\n",
       "172    yourself\n",
       "173  yourselves\n",
       "\n",
       "[174 rows x 1 columns]"
      ]
     },
     "execution_count": 152,
     "metadata": {},
     "output_type": "execute_result"
    }
   ],
   "source": [
    "#as a list\n",
    "\n",
    "stop_words = get_stop_words('en')\n",
    "\n",
    "#as a DataFrame\n",
    "\n",
    "df_stop_words = pd.DataFrame({\n",
    "    'stop_words' : get_stop_words('en')\n",
    "})\n",
    "df_stop_words"
   ]
  },
  {
   "cell_type": "markdown",
   "id": "appreciated-reform",
   "metadata": {},
   "source": [
    "You can also use `isin` and negate the mask to find values not in `df_stop_words`:"
   ]
  },
  {
   "cell_type": "code",
   "execution_count": 153,
   "id": "arranged-connecticut",
   "metadata": {},
   "outputs": [
    {
     "data": {
      "text/html": [
       "<div>\n",
       "<style scoped>\n",
       "    .dataframe tbody tr th:only-of-type {\n",
       "        vertical-align: middle;\n",
       "    }\n",
       "\n",
       "    .dataframe tbody tr th {\n",
       "        vertical-align: top;\n",
       "    }\n",
       "\n",
       "    .dataframe thead th {\n",
       "        text-align: right;\n",
       "    }\n",
       "</style>\n",
       "<table border=\"1\" class=\"dataframe\">\n",
       "  <thead>\n",
       "    <tr style=\"text-align: right;\">\n",
       "      <th></th>\n",
       "      <th>word</th>\n",
       "    </tr>\n",
       "  </thead>\n",
       "  <tbody>\n",
       "    <tr>\n",
       "      <th>0</th>\n",
       "      <td>synthetic</td>\n",
       "    </tr>\n",
       "    <tr>\n",
       "      <th>0</th>\n",
       "      <td>receptor</td>\n",
       "    </tr>\n",
       "    <tr>\n",
       "      <th>0</th>\n",
       "      <td>platform</td>\n",
       "    </tr>\n",
       "    <tr>\n",
       "      <th>0</th>\n",
       "      <td>enables</td>\n",
       "    </tr>\n",
       "    <tr>\n",
       "      <th>0</th>\n",
       "      <td>rapid</td>\n",
       "    </tr>\n",
       "    <tr>\n",
       "      <th>...</th>\n",
       "      <td>...</td>\n",
       "    </tr>\n",
       "    <tr>\n",
       "      <th>359</th>\n",
       "      <td>robust</td>\n",
       "    </tr>\n",
       "    <tr>\n",
       "      <th>359</th>\n",
       "      <td>cis</td>\n",
       "    </tr>\n",
       "    <tr>\n",
       "      <th>359</th>\n",
       "      <td>transchanges</td>\n",
       "    </tr>\n",
       "    <tr>\n",
       "      <th>359</th>\n",
       "      <td>genetic</td>\n",
       "    </tr>\n",
       "    <tr>\n",
       "      <th>359</th>\n",
       "      <td>background</td>\n",
       "    </tr>\n",
       "  </tbody>\n",
       "</table>\n",
       "<p>3204 rows × 1 columns</p>\n",
       "</div>"
      ],
      "text/plain": [
       "             word\n",
       "0       synthetic\n",
       "0        receptor\n",
       "0        platform\n",
       "0         enables\n",
       "0           rapid\n",
       "..            ...\n",
       "359        robust\n",
       "359           cis\n",
       "359  transchanges\n",
       "359       genetic\n",
       "359    background\n",
       "\n",
       "[3204 rows x 1 columns]"
      ]
     },
     "execution_count": 153,
     "metadata": {},
     "output_type": "execute_result"
    }
   ],
   "source": [
    "words_df[~words_df['word'].isin(df_stop_words['stop_words'])]"
   ]
  },
  {
   "cell_type": "code",
   "execution_count": 154,
   "id": "republican-enemy",
   "metadata": {},
   "outputs": [],
   "source": [
    "df_words_ns = words_df[~words_df['word'].isin(df_stop_words['stop_words'])]"
   ]
  },
  {
   "cell_type": "code",
   "execution_count": 155,
   "id": "economic-romania",
   "metadata": {},
   "outputs": [
    {
     "data": {
      "text/html": [
       "<div>\n",
       "<style scoped>\n",
       "    .dataframe tbody tr th:only-of-type {\n",
       "        vertical-align: middle;\n",
       "    }\n",
       "\n",
       "    .dataframe tbody tr th {\n",
       "        vertical-align: top;\n",
       "    }\n",
       "\n",
       "    .dataframe thead th {\n",
       "        text-align: right;\n",
       "    }\n",
       "</style>\n",
       "<table border=\"1\" class=\"dataframe\">\n",
       "  <thead>\n",
       "    <tr style=\"text-align: right;\">\n",
       "      <th></th>\n",
       "      <th>word</th>\n",
       "      <th>counts</th>\n",
       "    </tr>\n",
       "  </thead>\n",
       "  <tbody>\n",
       "    <tr>\n",
       "      <th>0</th>\n",
       "      <td>synthetic</td>\n",
       "      <td>108</td>\n",
       "    </tr>\n",
       "    <tr>\n",
       "      <th>1</th>\n",
       "      <td>dna</td>\n",
       "      <td>72</td>\n",
       "    </tr>\n",
       "    <tr>\n",
       "      <th>2</th>\n",
       "      <td>engineered</td>\n",
       "      <td>72</td>\n",
       "    </tr>\n",
       "    <tr>\n",
       "      <th>3</th>\n",
       "      <td>acoustic</td>\n",
       "      <td>36</td>\n",
       "    </tr>\n",
       "    <tr>\n",
       "      <th>4</th>\n",
       "      <td>marburg</td>\n",
       "      <td>36</td>\n",
       "    </tr>\n",
       "    <tr>\n",
       "      <th>...</th>\n",
       "      <td>...</td>\n",
       "      <td>...</td>\n",
       "    </tr>\n",
       "    <tr>\n",
       "      <th>80</th>\n",
       "      <td>controllers</td>\n",
       "      <td>36</td>\n",
       "    </tr>\n",
       "    <tr>\n",
       "      <th>81</th>\n",
       "      <td>control</td>\n",
       "      <td>36</td>\n",
       "    </tr>\n",
       "    <tr>\n",
       "      <th>82</th>\n",
       "      <td>complexity</td>\n",
       "      <td>36</td>\n",
       "    </tr>\n",
       "    <tr>\n",
       "      <th>83</th>\n",
       "      <td>complex</td>\n",
       "      <td>36</td>\n",
       "    </tr>\n",
       "    <tr>\n",
       "      <th>84</th>\n",
       "      <td>without</td>\n",
       "      <td>36</td>\n",
       "    </tr>\n",
       "  </tbody>\n",
       "</table>\n",
       "<p>85 rows × 2 columns</p>\n",
       "</div>"
      ],
      "text/plain": [
       "           word  counts\n",
       "0     synthetic     108\n",
       "1           dna      72\n",
       "2    engineered      72\n",
       "3      acoustic      36\n",
       "4       marburg      36\n",
       "..          ...     ...\n",
       "80  controllers      36\n",
       "81      control      36\n",
       "82   complexity      36\n",
       "83      complex      36\n",
       "84      without      36\n",
       "\n",
       "[85 rows x 2 columns]"
      ]
     },
     "execution_count": 155,
     "metadata": {},
     "output_type": "execute_result"
    }
   ],
   "source": [
    "df_words_ns.value_counts('word').reset_index(name='counts')"
   ]
  },
  {
   "cell_type": "code",
   "execution_count": null,
   "id": "disabled-uncertainty",
   "metadata": {},
   "outputs": [],
   "source": []
  },
  {
   "cell_type": "code",
   "execution_count": null,
   "id": "protecting-continuity",
   "metadata": {},
   "outputs": [],
   "source": []
  },
  {
   "cell_type": "code",
   "execution_count": null,
   "id": "basic-intermediate",
   "metadata": {},
   "outputs": [],
   "source": []
  },
  {
   "cell_type": "markdown",
   "id": "cardiovascular-award",
   "metadata": {},
   "source": [
    "## Generating Wordclouds"
   ]
  },
  {
   "cell_type": "markdown",
   "id": "falling-liabilities",
   "metadata": {},
   "source": [
    "We are going to use the [`wordcloud`](https://amueller.github.io/word_cloud/generated/wordcloud.WordCloud.html) package"
   ]
  },
  {
   "cell_type": "code",
   "execution_count": null,
   "id": "intensive-jerusalem",
   "metadata": {},
   "outputs": [],
   "source": [
    "!pip install git+https://github.com/amueller/word_cloud"
   ]
  },
  {
   "cell_type": "code",
   "execution_count": null,
   "id": "correct-pregnancy",
   "metadata": {},
   "outputs": [],
   "source": [
    "!pip install Pillow"
   ]
  },
  {
   "cell_type": "markdown",
   "id": "relative-rings",
   "metadata": {},
   "source": [
    "Now we can import the libraries and functions we will use"
   ]
  },
  {
   "cell_type": "code",
   "execution_count": 156,
   "id": "photographic-damage",
   "metadata": {},
   "outputs": [],
   "source": [
    "from PIL import Image\n",
    "import numpy as np\n",
    "import matplotlib.pyplot as plt\n",
    "%matplotlib inline \n",
    "from wordcloud import WordCloud, STOPWORDS\n",
    "\n"
   ]
  },
  {
   "cell_type": "markdown",
   "id": "likely-antigua",
   "metadata": {},
   "source": [
    "This library also contains StopWords as we saw last week"
   ]
  },
  {
   "cell_type": "code",
   "execution_count": 157,
   "id": "formed-recommendation",
   "metadata": {},
   "outputs": [],
   "source": [
    "stopwords = set(STOPWORDS)\n",
    "#stopwords.add(\"said\") #Added specifically for this book"
   ]
  },
  {
   "cell_type": "code",
   "execution_count": 158,
   "id": "undefined-activity",
   "metadata": {},
   "outputs": [],
   "source": [
    "def plot_cloud(wordcloud):\n",
    "    # Set figure size\n",
    "    plt.figure(figsize=(40, 30))\n",
    "    # Display image\n",
    "    plt.imshow(wordcloud) \n",
    "    # No axis details\n",
    "    plt.axis(\"off\");"
   ]
  },
  {
   "cell_type": "code",
   "execution_count": 4,
   "id": "northern-extent",
   "metadata": {},
   "outputs": [
    {
     "ename": "NameError",
     "evalue": "name 'titles_list' is not defined",
     "output_type": "error",
     "traceback": [
      "\u001b[1;31m---------------------------------------------------------------------------\u001b[0m",
      "\u001b[1;31mNameError\u001b[0m                                 Traceback (most recent call last)",
      "\u001b[1;32m<ipython-input-4-bb59b4a33db6>\u001b[0m in \u001b[0;36m<module>\u001b[1;34m\u001b[0m\n\u001b[1;32m----> 1\u001b[1;33m \u001b[0mtitles_joined\u001b[0m \u001b[1;33m=\u001b[0m  \u001b[1;34m' '\u001b[0m\u001b[1;33m.\u001b[0m\u001b[0mjoin\u001b[0m\u001b[1;33m(\u001b[0m\u001b[0mtitles_list\u001b[0m\u001b[1;33m)\u001b[0m\u001b[1;33m\u001b[0m\u001b[1;33m\u001b[0m\u001b[0m\n\u001b[0m",
      "\u001b[1;31mNameError\u001b[0m: name 'titles_list' is not defined"
     ]
    }
   ],
   "source": [
    "titles_joined =  ' '.join(titles_list)"
   ]
  },
  {
   "cell_type": "code",
   "execution_count": 161,
   "id": "challenging-employer",
   "metadata": {},
   "outputs": [
    {
     "ename": "OSError",
     "evalue": "invalid face handle",
     "output_type": "error",
     "traceback": [
      "\u001b[1;31m---------------------------------------------------------------------------\u001b[0m",
      "\u001b[1;31mOSError\u001b[0m                                   Traceback (most recent call last)",
      "\u001b[1;32m<ipython-input-161-68b41cd87a80>\u001b[0m in \u001b[0;36m<module>\u001b[1;34m\u001b[0m\n\u001b[0;32m      1\u001b[0m \u001b[1;31m# Generate word cloud\u001b[0m\u001b[1;33m\u001b[0m\u001b[1;33m\u001b[0m\u001b[1;33m\u001b[0m\u001b[0m\n\u001b[1;32m----> 2\u001b[1;33m wordcloud = WordCloud(width = 80, \n\u001b[0m\u001b[0;32m      3\u001b[0m                       \u001b[0mheight\u001b[0m \u001b[1;33m=\u001b[0m \u001b[1;36m40\u001b[0m\u001b[1;33m,\u001b[0m\u001b[1;33m\u001b[0m\u001b[1;33m\u001b[0m\u001b[0m\n\u001b[0;32m      4\u001b[0m                       \u001b[0mmax_words\u001b[0m\u001b[1;33m=\u001b[0m\u001b[1;36m200\u001b[0m\u001b[1;33m,\u001b[0m\u001b[1;33m\u001b[0m\u001b[1;33m\u001b[0m\u001b[0m\n\u001b[0;32m      5\u001b[0m                       \u001b[0mrandom_state\u001b[0m\u001b[1;33m=\u001b[0m\u001b[1;36m1\u001b[0m\u001b[1;33m,\u001b[0m\u001b[1;33m\u001b[0m\u001b[1;33m\u001b[0m\u001b[0m\n",
      "\u001b[1;32m~\\anaconda3\\lib\\site-packages\\wordcloud\\wordcloud.py\u001b[0m in \u001b[0;36mgenerate\u001b[1;34m(self, text)\u001b[0m\n\u001b[0;32m    637\u001b[0m         \u001b[0mself\u001b[0m\u001b[1;33m\u001b[0m\u001b[1;33m\u001b[0m\u001b[0m\n\u001b[0;32m    638\u001b[0m         \"\"\"\n\u001b[1;32m--> 639\u001b[1;33m         \u001b[1;32mreturn\u001b[0m \u001b[0mself\u001b[0m\u001b[1;33m.\u001b[0m\u001b[0mgenerate_from_text\u001b[0m\u001b[1;33m(\u001b[0m\u001b[0mtext\u001b[0m\u001b[1;33m)\u001b[0m\u001b[1;33m\u001b[0m\u001b[1;33m\u001b[0m\u001b[0m\n\u001b[0m\u001b[0;32m    640\u001b[0m \u001b[1;33m\u001b[0m\u001b[0m\n\u001b[0;32m    641\u001b[0m     \u001b[1;32mdef\u001b[0m \u001b[0m_check_generated\u001b[0m\u001b[1;33m(\u001b[0m\u001b[0mself\u001b[0m\u001b[1;33m)\u001b[0m\u001b[1;33m:\u001b[0m\u001b[1;33m\u001b[0m\u001b[1;33m\u001b[0m\u001b[0m\n",
      "\u001b[1;32m~\\anaconda3\\lib\\site-packages\\wordcloud\\wordcloud.py\u001b[0m in \u001b[0;36mgenerate_from_text\u001b[1;34m(self, text)\u001b[0m\n\u001b[0;32m    619\u001b[0m         \"\"\"\n\u001b[0;32m    620\u001b[0m         \u001b[0mwords\u001b[0m \u001b[1;33m=\u001b[0m \u001b[0mself\u001b[0m\u001b[1;33m.\u001b[0m\u001b[0mprocess_text\u001b[0m\u001b[1;33m(\u001b[0m\u001b[0mtext\u001b[0m\u001b[1;33m)\u001b[0m\u001b[1;33m\u001b[0m\u001b[1;33m\u001b[0m\u001b[0m\n\u001b[1;32m--> 621\u001b[1;33m         \u001b[0mself\u001b[0m\u001b[1;33m.\u001b[0m\u001b[0mgenerate_from_frequencies\u001b[0m\u001b[1;33m(\u001b[0m\u001b[0mwords\u001b[0m\u001b[1;33m)\u001b[0m\u001b[1;33m\u001b[0m\u001b[1;33m\u001b[0m\u001b[0m\n\u001b[0m\u001b[0;32m    622\u001b[0m         \u001b[1;32mreturn\u001b[0m \u001b[0mself\u001b[0m\u001b[1;33m\u001b[0m\u001b[1;33m\u001b[0m\u001b[0m\n\u001b[0;32m    623\u001b[0m \u001b[1;33m\u001b[0m\u001b[0m\n",
      "\u001b[1;32m~\\anaconda3\\lib\\site-packages\\wordcloud\\wordcloud.py\u001b[0m in \u001b[0;36mgenerate_from_frequencies\u001b[1;34m(self, frequencies, max_font_size)\u001b[0m\n\u001b[0;32m    451\u001b[0m                 \u001b[0mfont_size\u001b[0m \u001b[1;33m=\u001b[0m \u001b[0mself\u001b[0m\u001b[1;33m.\u001b[0m\u001b[0mheight\u001b[0m\u001b[1;33m\u001b[0m\u001b[1;33m\u001b[0m\u001b[0m\n\u001b[0;32m    452\u001b[0m             \u001b[1;32melse\u001b[0m\u001b[1;33m:\u001b[0m\u001b[1;33m\u001b[0m\u001b[1;33m\u001b[0m\u001b[0m\n\u001b[1;32m--> 453\u001b[1;33m                 self.generate_from_frequencies(dict(frequencies[:2]),\n\u001b[0m\u001b[0;32m    454\u001b[0m                                                max_font_size=self.height)\n\u001b[0;32m    455\u001b[0m                 \u001b[1;31m# find font sizes\u001b[0m\u001b[1;33m\u001b[0m\u001b[1;33m\u001b[0m\u001b[1;33m\u001b[0m\u001b[0m\n",
      "\u001b[1;32m~\\anaconda3\\lib\\site-packages\\wordcloud\\wordcloud.py\u001b[0m in \u001b[0;36mgenerate_from_frequencies\u001b[1;34m(self, frequencies, max_font_size)\u001b[0m\n\u001b[0;32m    506\u001b[0m                     font, orientation=orientation)\n\u001b[0;32m    507\u001b[0m                 \u001b[1;31m# get size of resulting text\u001b[0m\u001b[1;33m\u001b[0m\u001b[1;33m\u001b[0m\u001b[1;33m\u001b[0m\u001b[0m\n\u001b[1;32m--> 508\u001b[1;33m                 \u001b[0mbox_size\u001b[0m \u001b[1;33m=\u001b[0m \u001b[0mdraw\u001b[0m\u001b[1;33m.\u001b[0m\u001b[0mtextsize\u001b[0m\u001b[1;33m(\u001b[0m\u001b[0mword\u001b[0m\u001b[1;33m,\u001b[0m \u001b[0mfont\u001b[0m\u001b[1;33m=\u001b[0m\u001b[0mtransposed_font\u001b[0m\u001b[1;33m)\u001b[0m\u001b[1;33m\u001b[0m\u001b[1;33m\u001b[0m\u001b[0m\n\u001b[0m\u001b[0;32m    509\u001b[0m                 \u001b[1;31m# find possible places using integral image:\u001b[0m\u001b[1;33m\u001b[0m\u001b[1;33m\u001b[0m\u001b[1;33m\u001b[0m\u001b[0m\n\u001b[0;32m    510\u001b[0m                 result = occupancy.sample_position(box_size[1] + self.margin,\n",
      "\u001b[1;32m~\\anaconda3\\lib\\site-packages\\PIL\\ImageDraw.py\u001b[0m in \u001b[0;36mtextsize\u001b[1;34m(self, text, font, spacing, direction, features, language, stroke_width)\u001b[0m\n\u001b[0;32m    477\u001b[0m         \u001b[1;32mif\u001b[0m \u001b[0mfont\u001b[0m \u001b[1;32mis\u001b[0m \u001b[1;32mNone\u001b[0m\u001b[1;33m:\u001b[0m\u001b[1;33m\u001b[0m\u001b[1;33m\u001b[0m\u001b[0m\n\u001b[0;32m    478\u001b[0m             \u001b[0mfont\u001b[0m \u001b[1;33m=\u001b[0m \u001b[0mself\u001b[0m\u001b[1;33m.\u001b[0m\u001b[0mgetfont\u001b[0m\u001b[1;33m(\u001b[0m\u001b[1;33m)\u001b[0m\u001b[1;33m\u001b[0m\u001b[1;33m\u001b[0m\u001b[0m\n\u001b[1;32m--> 479\u001b[1;33m         \u001b[1;32mreturn\u001b[0m \u001b[0mfont\u001b[0m\u001b[1;33m.\u001b[0m\u001b[0mgetsize\u001b[0m\u001b[1;33m(\u001b[0m\u001b[0mtext\u001b[0m\u001b[1;33m,\u001b[0m \u001b[0mdirection\u001b[0m\u001b[1;33m,\u001b[0m \u001b[0mfeatures\u001b[0m\u001b[1;33m,\u001b[0m \u001b[0mlanguage\u001b[0m\u001b[1;33m,\u001b[0m \u001b[0mstroke_width\u001b[0m\u001b[1;33m)\u001b[0m\u001b[1;33m\u001b[0m\u001b[1;33m\u001b[0m\u001b[0m\n\u001b[0m\u001b[0;32m    480\u001b[0m \u001b[1;33m\u001b[0m\u001b[0m\n\u001b[0;32m    481\u001b[0m     def multiline_textsize(\n",
      "\u001b[1;32m~\\anaconda3\\lib\\site-packages\\PIL\\ImageFont.py\u001b[0m in \u001b[0;36mgetsize\u001b[1;34m(self, text, *args, **kwargs)\u001b[0m\n\u001b[0;32m    767\u001b[0m \u001b[1;33m\u001b[0m\u001b[0m\n\u001b[0;32m    768\u001b[0m     \u001b[1;32mdef\u001b[0m \u001b[0mgetsize\u001b[0m\u001b[1;33m(\u001b[0m\u001b[0mself\u001b[0m\u001b[1;33m,\u001b[0m \u001b[0mtext\u001b[0m\u001b[1;33m,\u001b[0m \u001b[1;33m*\u001b[0m\u001b[0margs\u001b[0m\u001b[1;33m,\u001b[0m \u001b[1;33m**\u001b[0m\u001b[0mkwargs\u001b[0m\u001b[1;33m)\u001b[0m\u001b[1;33m:\u001b[0m\u001b[1;33m\u001b[0m\u001b[1;33m\u001b[0m\u001b[0m\n\u001b[1;32m--> 769\u001b[1;33m         \u001b[0mw\u001b[0m\u001b[1;33m,\u001b[0m \u001b[0mh\u001b[0m \u001b[1;33m=\u001b[0m \u001b[0mself\u001b[0m\u001b[1;33m.\u001b[0m\u001b[0mfont\u001b[0m\u001b[1;33m.\u001b[0m\u001b[0mgetsize\u001b[0m\u001b[1;33m(\u001b[0m\u001b[0mtext\u001b[0m\u001b[1;33m)\u001b[0m\u001b[1;33m\u001b[0m\u001b[1;33m\u001b[0m\u001b[0m\n\u001b[0m\u001b[0;32m    770\u001b[0m         \u001b[1;32mif\u001b[0m \u001b[0mself\u001b[0m\u001b[1;33m.\u001b[0m\u001b[0morientation\u001b[0m \u001b[1;32min\u001b[0m \u001b[1;33m(\u001b[0m\u001b[0mImage\u001b[0m\u001b[1;33m.\u001b[0m\u001b[0mROTATE_90\u001b[0m\u001b[1;33m,\u001b[0m \u001b[0mImage\u001b[0m\u001b[1;33m.\u001b[0m\u001b[0mROTATE_270\u001b[0m\u001b[1;33m)\u001b[0m\u001b[1;33m:\u001b[0m\u001b[1;33m\u001b[0m\u001b[1;33m\u001b[0m\u001b[0m\n\u001b[0;32m    771\u001b[0m             \u001b[1;32mreturn\u001b[0m \u001b[0mh\u001b[0m\u001b[1;33m,\u001b[0m \u001b[0mw\u001b[0m\u001b[1;33m\u001b[0m\u001b[1;33m\u001b[0m\u001b[0m\n",
      "\u001b[1;32m~\\anaconda3\\lib\\site-packages\\PIL\\ImageFont.py\u001b[0m in \u001b[0;36mgetsize\u001b[1;34m(self, text, direction, features, language, stroke_width)\u001b[0m\n\u001b[0;32m    428\u001b[0m         \u001b[1;31m# vertical offset is added for historical reasons\u001b[0m\u001b[1;33m\u001b[0m\u001b[1;33m\u001b[0m\u001b[1;33m\u001b[0m\u001b[0m\n\u001b[0;32m    429\u001b[0m         \u001b[1;31m# see https://github.com/python-pillow/Pillow/pull/4910#discussion_r486682929\u001b[0m\u001b[1;33m\u001b[0m\u001b[1;33m\u001b[0m\u001b[1;33m\u001b[0m\u001b[0m\n\u001b[1;32m--> 430\u001b[1;33m         \u001b[0msize\u001b[0m\u001b[1;33m,\u001b[0m \u001b[0moffset\u001b[0m \u001b[1;33m=\u001b[0m \u001b[0mself\u001b[0m\u001b[1;33m.\u001b[0m\u001b[0mfont\u001b[0m\u001b[1;33m.\u001b[0m\u001b[0mgetsize\u001b[0m\u001b[1;33m(\u001b[0m\u001b[0mtext\u001b[0m\u001b[1;33m,\u001b[0m \u001b[1;34m\"L\"\u001b[0m\u001b[1;33m,\u001b[0m \u001b[0mdirection\u001b[0m\u001b[1;33m,\u001b[0m \u001b[0mfeatures\u001b[0m\u001b[1;33m,\u001b[0m \u001b[0mlanguage\u001b[0m\u001b[1;33m)\u001b[0m\u001b[1;33m\u001b[0m\u001b[1;33m\u001b[0m\u001b[0m\n\u001b[0m\u001b[0;32m    431\u001b[0m         return (\n\u001b[0;32m    432\u001b[0m             \u001b[0msize\u001b[0m\u001b[1;33m[\u001b[0m\u001b[1;36m0\u001b[0m\u001b[1;33m]\u001b[0m \u001b[1;33m+\u001b[0m \u001b[0mstroke_width\u001b[0m \u001b[1;33m*\u001b[0m \u001b[1;36m2\u001b[0m\u001b[1;33m,\u001b[0m\u001b[1;33m\u001b[0m\u001b[1;33m\u001b[0m\u001b[0m\n",
      "\u001b[1;31mOSError\u001b[0m: invalid face handle"
     ]
    }
   ],
   "source": [
    "# Generate word cloud\n",
    "wordcloud = WordCloud(width = 80, \n",
    "                      height = 40, \n",
    "                      max_words=200, \n",
    "                      random_state=1, \n",
    "                      background_color='white', \n",
    "                      colormap='Pastel1', \n",
    "                      collocations=False, \n",
    "                      stopwords = STOPWORDS).generate(' '.join(titles_list))"
   ]
  },
  {
   "cell_type": "code",
   "execution_count": null,
   "id": "dynamic-birthday",
   "metadata": {},
   "outputs": [],
   "source": [
    "plot_cloud(wordcloud)"
   ]
  },
  {
   "cell_type": "code",
   "execution_count": null,
   "id": "theoretical-viewer",
   "metadata": {},
   "outputs": [],
   "source": [
    "# Save image\n",
    "wordcloud.to_file(\"wordcloud.png\")"
   ]
  },
  {
   "cell_type": "code",
   "execution_count": null,
   "id": "closed-insertion",
   "metadata": {},
   "outputs": [],
   "source": [
    "wc = WordCloud(background_color=\"white\", max_words=200, stopwords=stopwords, contour_width=3, contour_color='steelblue', collocations=False)\n",
    "wc.generate(text_alice)"
   ]
  },
  {
   "cell_type": "code",
   "execution_count": null,
   "id": "friendly-manner",
   "metadata": {},
   "outputs": [],
   "source": [
    "plt.figure(figsize=(10,5))\n",
    "plt.imshow(wc, interpolation='bilinear')\n",
    "plt.axis(\"off\")\n",
    "plt.show()"
   ]
  },
  {
   "cell_type": "markdown",
   "id": "internal-finish",
   "metadata": {},
   "source": [
    "We can create a personalised WordCloud by using any image"
   ]
  },
  {
   "cell_type": "code",
   "execution_count": 163,
   "id": "derived-printing",
   "metadata": {},
   "outputs": [],
   "source": [
    "!wget --quiet https://www.pinclipart.com/picdir/middle/355-3551258_bacteria-png-download-png-image-with-transparent-background.png"
   ]
  },
  {
   "cell_type": "markdown",
   "id": "coordinate-senegal",
   "metadata": {},
   "source": [
    "Lets transform each pixel into a `np.array` value"
   ]
  },
  {
   "cell_type": "code",
   "execution_count": 165,
   "id": "interim-latter",
   "metadata": {},
   "outputs": [
    {
     "data": {
      "text/plain": [
       "array([  0,   1,   2,   3,   4,   5,   6,   7,   8,   9,  10,  11,  12,\n",
       "        13,  14,  15,  16,  17,  18,  19,  20,  21,  22,  23,  24,  25,\n",
       "        26,  27,  28,  29,  30,  31,  32,  33,  34,  35,  36,  37,  38,\n",
       "        39,  40,  41,  42,  43,  44,  45,  46,  47,  48,  49,  50,  51,\n",
       "        52,  53,  54,  55,  56,  57,  58,  59,  60,  61,  62,  63,  64,\n",
       "        65,  66,  67,  68,  69,  70,  71,  72,  73,  74,  75,  76,  77,\n",
       "        78,  79,  80,  81,  82,  83,  84,  85,  86,  87,  88,  89,  90,\n",
       "        91,  92,  93,  94,  95,  96,  97,  98,  99, 100, 101, 102, 103,\n",
       "       104, 105, 106, 107, 108, 109, 110, 111, 112, 113, 114, 115, 116,\n",
       "       117, 118, 119, 120, 121, 122, 123, 124, 125, 126, 127, 128, 129,\n",
       "       130, 131, 132, 133, 134, 135, 136, 137, 138, 139, 140, 141, 142,\n",
       "       143, 144, 145, 146, 147, 148, 149, 150, 151, 152, 153, 154, 155,\n",
       "       156, 157, 158, 159, 160, 161, 162, 163, 164, 165, 166, 167, 168,\n",
       "       169, 170, 171, 172, 173, 174, 175, 176, 177, 178, 179, 180, 181,\n",
       "       182, 183, 184, 185, 186, 187, 188, 189, 190, 191, 192, 193, 194,\n",
       "       195, 196, 197, 198, 199, 200, 201, 202, 203, 204, 205, 206, 207,\n",
       "       208, 209, 210, 211, 212, 213, 214, 215, 216, 217, 218, 219, 220,\n",
       "       221, 222, 223, 224, 225, 226, 227, 228, 229, 230, 231, 232, 233,\n",
       "       234, 235, 236, 237, 238, 239, 240, 241, 242, 243, 244, 245, 246,\n",
       "       247, 248, 249, 250, 251, 252, 253, 254, 255], dtype=uint8)"
      ]
     },
     "execution_count": 165,
     "metadata": {},
     "output_type": "execute_result"
    }
   ],
   "source": [
    "bacteria_mask = np.array(Image.open('355-3551258_bacteria-png-download-png-image-with-transparent-background.png'))\n",
    "np.unique(bacteria_mask)"
   ]
  },
  {
   "cell_type": "markdown",
   "id": "greenhouse-folks",
   "metadata": {},
   "source": [
    "Here is the image we downloaded"
   ]
  },
  {
   "cell_type": "code",
   "execution_count": 1,
   "id": "positive-career",
   "metadata": {},
   "outputs": [
    {
     "ename": "NameError",
     "evalue": "name 'plt' is not defined",
     "output_type": "error",
     "traceback": [
      "\u001b[1;31m---------------------------------------------------------------------------\u001b[0m",
      "\u001b[1;31mNameError\u001b[0m                                 Traceback (most recent call last)",
      "\u001b[1;32m<ipython-input-1-a8620fa85ee2>\u001b[0m in \u001b[0;36m<module>\u001b[1;34m\u001b[0m\n\u001b[1;32m----> 1\u001b[1;33m \u001b[0mfig\u001b[0m \u001b[1;33m=\u001b[0m \u001b[0mplt\u001b[0m\u001b[1;33m.\u001b[0m\u001b[0mfigure\u001b[0m\u001b[1;33m(\u001b[0m\u001b[0mfigsize\u001b[0m\u001b[1;33m=\u001b[0m\u001b[1;33m(\u001b[0m\u001b[1;36m10\u001b[0m\u001b[1;33m,\u001b[0m\u001b[1;36m5\u001b[0m\u001b[1;33m)\u001b[0m\u001b[1;33m)\u001b[0m\u001b[1;33m\u001b[0m\u001b[1;33m\u001b[0m\u001b[0m\n\u001b[0m\u001b[0;32m      2\u001b[0m \u001b[0mplt\u001b[0m\u001b[1;33m.\u001b[0m\u001b[0mimshow\u001b[0m\u001b[1;33m(\u001b[0m\u001b[0mbacteria_mask\u001b[0m\u001b[1;33m,\u001b[0m \u001b[0mcmap\u001b[0m\u001b[1;33m=\u001b[0m\u001b[0mplt\u001b[0m\u001b[1;33m.\u001b[0m\u001b[0mcm\u001b[0m\u001b[1;33m.\u001b[0m\u001b[0mgray\u001b[0m\u001b[1;33m,\u001b[0m \u001b[0minterpolation\u001b[0m\u001b[1;33m=\u001b[0m\u001b[1;34m'bilinear'\u001b[0m\u001b[1;33m)\u001b[0m\u001b[1;33m\u001b[0m\u001b[1;33m\u001b[0m\u001b[0m\n\u001b[0;32m      3\u001b[0m \u001b[0mplt\u001b[0m\u001b[1;33m.\u001b[0m\u001b[0maxis\u001b[0m\u001b[1;33m(\u001b[0m\u001b[1;34m'off'\u001b[0m\u001b[1;33m)\u001b[0m\u001b[1;33m\u001b[0m\u001b[1;33m\u001b[0m\u001b[0m\n\u001b[0;32m      4\u001b[0m \u001b[0mplt\u001b[0m\u001b[1;33m.\u001b[0m\u001b[0mshow\u001b[0m\u001b[1;33m(\u001b[0m\u001b[1;33m)\u001b[0m\u001b[1;33m\u001b[0m\u001b[1;33m\u001b[0m\u001b[0m\n",
      "\u001b[1;31mNameError\u001b[0m: name 'plt' is not defined"
     ]
    }
   ],
   "source": [
    "fig = plt.figure(figsize=(10,5))\n",
    "plt.imshow(bacteria_mask, cmap=plt.cm.gray, interpolation='bilinear')\n",
    "plt.axis('off')\n",
    "plt.show()"
   ]
  },
  {
   "cell_type": "code",
   "execution_count": 2,
   "id": "superior-mining",
   "metadata": {},
   "outputs": [],
   "source": [
    "import re\n",
    "def getFrequencyDictForText(sentence):\n",
    "    fullTermsDict = {}\n",
    "    tmpDict = {}\n",
    "\n",
    "    # making dict for counting frequencies\n",
    "    for text in sentence.split(\" \"):\n",
    "        if re.match(\"a|the|an|the|to|in|for|of|or|by|with|is|on|that|be\", text):\n",
    "            continue\n",
    "        val = tmpDict.get(text, 0)\n",
    "        tmpDict[text.lower()] = val + 1\n",
    "    for key in tmpDict:\n",
    "        fullTermsDict[key] = tmpDict[key]\n",
    "    return fullTermsDict"
   ]
  },
  {
   "cell_type": "code",
   "execution_count": null,
   "id": "bacterial-classification",
   "metadata": {},
   "outputs": [],
   "source": [
    "getFrequencyDictForText(text_alice)"
   ]
  },
  {
   "cell_type": "code",
   "execution_count": null,
   "id": "impressive-welding",
   "metadata": {},
   "outputs": [],
   "source": [
    "text_dict = getFrequencyDictForText(text_alice)\n",
    "text_dict\n",
    "wc.generate_from_frequencies(text_dict)"
   ]
  },
  {
   "cell_type": "code",
   "execution_count": null,
   "id": "piano-looking",
   "metadata": {},
   "outputs": [],
   "source": []
  },
  {
   "cell_type": "code",
   "execution_count": null,
   "id": "chubby-builder",
   "metadata": {},
   "outputs": [],
   "source": [
    "wc = WordCloud(background_color=\"white\", max_words=2000, mask=bacteria_mask,\n",
    "               stopwords=stopwords)\n",
    "wc.generate_from_frequencies(text_dict)"
   ]
  },
  {
   "cell_type": "code",
   "execution_count": null,
   "id": "constant-realtor",
   "metadata": {},
   "outputs": [],
   "source": [
    "plt.figure(figsize=(20,10))\n",
    "plt.imshow(wc, interpolation='bilinear')\n",
    "plt.axis(\"off\")\n",
    "plt.show()"
   ]
  },
  {
   "cell_type": "markdown",
   "id": "extraordinary-omega",
   "metadata": {},
   "source": [
    "We can use any image for this actually"
   ]
  },
  {
   "cell_type": "code",
   "execution_count": null,
   "id": "treated-width",
   "metadata": {},
   "outputs": [],
   "source": [
    "!wget https://img.pokemondb.net/artwork/large/pikachu.jpg"
   ]
  },
  {
   "cell_type": "code",
   "execution_count": null,
   "id": "premier-hunger",
   "metadata": {},
   "outputs": [],
   "source": [
    "image = np.array(Image.open(\"pikachu.jpg\"))\n",
    "plt.imshow(image)"
   ]
  },
  {
   "cell_type": "code",
   "execution_count": null,
   "id": "sudden-trigger",
   "metadata": {},
   "outputs": [],
   "source": [
    "from wordcloud import ImageColorGenerator\n",
    "image_colors = ImageColorGenerator(image, default_color=(0,0,0))\n",
    "wc = WordCloud(background_color=\"white\", max_words=2000, mask=image,\n",
    "               stopwords=stopwords)\n",
    "wc.generate_from_frequencies(text_dict)"
   ]
  },
  {
   "cell_type": "code",
   "execution_count": null,
   "id": "demanding-agency",
   "metadata": {},
   "outputs": [],
   "source": [
    "fig, axes = plt.subplots(1, 3, figsize=(20,15))\n",
    "axes[0].imshow(wc, interpolation=\"bilinear\")\n",
    "axes[1].imshow(wc.recolor(color_func=image_colors), interpolation=\"bilinear\")\n",
    "axes[2].imshow(image, cmap=plt.cm.gray, interpolation=\"bilinear\")\n",
    "for ax in axes:\n",
    "    ax.set_axis_off()\n",
    "plt.show()"
   ]
  }
 ],
 "metadata": {
  "kernelspec": {
   "display_name": "Python 3",
   "language": "python",
   "name": "python3"
  },
  "language_info": {
   "codemirror_mode": {
    "name": "ipython",
    "version": 3
   },
   "file_extension": ".py",
   "mimetype": "text/x-python",
   "name": "python",
   "nbconvert_exporter": "python",
   "pygments_lexer": "ipython3",
   "version": "3.8.5"
  }
 },
 "nbformat": 4,
 "nbformat_minor": 5
}
